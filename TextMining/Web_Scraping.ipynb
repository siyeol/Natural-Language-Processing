{
  "nbformat": 4,
  "nbformat_minor": 0,
  "metadata": {
    "kernelspec": {
      "display_name": "Python 3",
      "language": "python",
      "name": "python3"
    },
    "language_info": {
      "codemirror_mode": {
        "name": "ipython",
        "version": 3
      },
      "file_extension": ".py",
      "mimetype": "text/x-python",
      "name": "python",
      "nbconvert_exporter": "python",
      "pygments_lexer": "ipython3",
      "version": "3.7.5"
    },
    "colab": {
      "name": "Web_Scraping.ipynb",
      "provenance": [],
      "collapsed_sections": [],
      "include_colab_link": true
    }
  },
  "cells": [
    {
      "cell_type": "markdown",
      "metadata": {
        "id": "view-in-github",
        "colab_type": "text"
      },
      "source": [
        "<a href=\"https://colab.research.google.com/github/siyeol/Natural-Language-Processing/blob/main/Web_Scraping.ipynb\" target=\"_parent\"><img src=\"https://colab.research.google.com/assets/colab-badge.svg\" alt=\"Open In Colab\"/></a>"
      ]
    },
    {
      "cell_type": "markdown",
      "metadata": {
        "id": "BYJupKMuPemq"
      },
      "source": [
        "# Software Coaching for Python\n",
        "# Web Scraping"
      ]
    },
    {
      "cell_type": "markdown",
      "metadata": {
        "id": "nibQFvMbPemv"
      },
      "source": [
        "Instructor: Kang-Pyo Lee "
      ]
    },
    {
      "cell_type": "markdown",
      "metadata": {
        "id": "RgZxK5bmPemw"
      },
      "source": [
        "1\\. Import the <b>requests</b> package and the <b>BeautifulSoup</b> module from the <b>bs4</b> package . You are going to extract information from one of the webpages on un.org: https://news.un.org/en/story/2021/02/1085812. Save the URL of the webpage in the `url` variable. Fetch the HTML content from the webpage and save it in the `r` variable. Then, create a BeautifulSoup object named `soup` to parse the HTML content in `r`. "
      ]
    },
    {
      "cell_type": "code",
      "metadata": {
        "id": "MH352XGxPemw",
        "colab": {
          "base_uri": "https://localhost:8080/"
        },
        "outputId": "407de467-36b5-4c97-97eb-626820b814c7"
      },
      "source": [
        "# Your answer here\n",
        "import requests\n",
        "from bs4 import BeautifulSoup\n",
        "\n",
        "url = \"https://news.un.org/en/story/2021/02/1085812\"\n",
        "r = requests.get(url)\n",
        "soup = BeautifulSoup(r.content, \"html.parser\")\n",
        "soup"
      ],
      "execution_count": null,
      "outputs": [
        {
          "output_type": "execute_result",
          "data": {
            "text/plain": [
              "<!DOCTYPE html>\n",
              "\n",
              "<html dir=\"ltr\" lang=\"en\" prefix=\"og: http://ogp.me/ns# content: http://purl.org/rss/1.0/modules/content/ dc: http://purl.org/dc/terms/ foaf: http://xmlns.com/foaf/0.1/ rdfs: http://www.w3.org/2000/01/rdf-schema# sioc: http://rdfs.org/sioc/ns# sioct: http://rdfs.org/sioc/types# skos: http://www.w3.org/2004/02/skos/core# xsd: http://www.w3.org/2001/XMLSchema#\">\n",
              "<head profile=\"http://www.w3.org/1999/xhtml/vocab\">\n",
              "<meta charset=\"utf-8\"/>\n",
              "<meta content=\"width=device-width, initial-scale=1.0\" name=\"viewport\"/>\n",
              "<meta content=\"IE=edge,chrome=1\" http-equiv=\"X-UA-Compatible\"/>\n",
              "<meta content=\"text/html; charset=utf-8\" http-equiv=\"Content-Type\">\n",
              "<link href=\"https://news.un.org/en/sites/all/themes/bootstrap_un_news/favicon.ico\" rel=\"shortcut icon\" type=\"image/vnd.microsoft.icon\"/>\n",
              "<meta content=\"Nations are “nowhere close” to the level of action needed to fight global warming, a UN climate action report said on Friday, urging countries to adopt stronger and more ambitious plans to reach the Paris Agreement goals, and limit the temperature rise to 1.5 degrees Celsius, by the end of the century.  |\" name=\"description\">\n",
              "<meta content=\"UN News, Global perspectives, Human Stories\" name=\"news_keywords\">\n",
              "<link href=\"https://news.un.org/en/story/2021/02/1085812\" rel=\"canonical\"/>\n",
              "<meta content=\"COPYRIGHT © UNITED NATIONS\" name=\"rights\"/>\n",
              "<link href=\"https://news.un.org/en/node/1085812\" rel=\"shortlink\"/>\n",
              "<meta content=\"UN News\" property=\"og:site_name\"/>\n",
              "<meta content=\"article\" property=\"og:type\"/>\n",
              "<meta content=\"UN climate report a ‘red alert’ for the planet: Guterres\" property=\"og:title\"/>\n",
              "<meta content=\"https://news.un.org/en/story/2021/02/1085812\" property=\"og:url\"/>\n",
              "<meta content=\"Nations are “nowhere close” to the level of action needed to fight global warming, a UN climate action report said on Friday, urging countries to adopt stronger and more ambitious plans to reach the Paris Agreement goals, and limit the temperature rise to 1.5 degrees Celsius, by the end of the century. \" property=\"og:description\"/>\n",
              "<meta content=\"2021-03-02T09:25:58-05:00\" property=\"og:updated_time\"/>\n",
              "<meta content=\"https://global.unitednations.entermediadb.net/assets/mediadb/services/module/asset/downloads/preset/Libraries/Production+Library/16-01-2020-ZIM_20191203_WFP-Matteo_Cosorich_9596.jpg/image770x420cropped.jpg\" property=\"og:image\"/>\n",
              "<meta content=\"summary_large_image\" name=\"twitter:card\"/>\n",
              "<meta content=\"@UN_News_Centre\" name=\"twitter:site\"/>\n",
              "<meta content=\"@UN_News_Centre\" name=\"twitter:creator\"/>\n",
              "<meta content=\"UN climate report a ‘red alert’ for the planet: Guterres\" name=\"twitter:title\"/>\n",
              "<meta content=\"https://news.un.org/en/story/2021/02/1085812\" name=\"twitter:url\"/>\n",
              "<meta content=\"Nations are “nowhere close” to the level of action needed to fight global warming, a UN climate action report said on Friday, urging countries to adopt stronger and more ambitious plans to reach the\" name=\"twitter:description\"/>\n",
              "<meta content=\"https://global.unitednations.entermediadb.net/assets/mediadb/services/module/asset/downloads/preset/Libraries/Production+Library/16-01-2020-ZIM_20191203_WFP-Matteo_Cosorich_9596.jpg/image770x420cropped.jpg\" name=\"twitter:image\"/>\n",
              "<meta content=\"770px\" name=\"twitter:image:width\"/>\n",
              "<meta content=\"420px\" name=\"twitter:image:height\"/>\n",
              "<meta content=\"Global temperature rise could lead to more frequent and more intense extreme weather events, such as prolonged droughts or devastating floods.\" name=\"twitter:image:alt\"/>\n",
              "<meta content=\"2021-02-26T08:35:05-05:00\" property=\"article:published_time\"/>\n",
              "<meta content=\"2021-03-02T09:25:58-05:00\" property=\"article:modified_time\"/>\n",
              "<meta content=\"UN News Reader\" name=\"twitter:app:name:iphone\"/>\n",
              "<meta content=\"496893005\" name=\"twitter:app:id:iphone\"/>\n",
              "<meta content=\"UN News Reader\" name=\"twitter:app:name:ipad\"/>\n",
              "<meta content=\"496893005\" name=\"twitter:app:id:ipad\"/>\n",
              "<meta content=\"UN News Reader\" name=\"twitter:app:name:googleplay\"/>\n",
              "<meta content=\"org.un.mobile.news\" name=\"twitter:app:id:googleplay\"/>\n",
              "<meta content=\"org.un.mobile.news\" property=\"al:android:package\"/>\n",
              "<meta content=\"app-id=496893005\" name=\"apple-itunes-app\"/>\n",
              "<meta content=\"UN News Reader\" name=\"apple-mobile-web-app-title\"/>\n",
              "<link href=\"android-app://https://play.google.com/store/apps/details?id=org.un.mobile.news&amp;hl=en\" rel=\"alternate\"/>\n",
              "<meta content=\"telephone=no\" name=\"format-detection\"/>\n",
              "<meta content=\"UN News Reader\" property=\"al:android:app_name\"/>\n",
              "<meta content=\"496893005\" property=\"al:ios:app_store_id\"/>\n",
              "<meta content=\"UN News Reader\" property=\"al:ios:app_name\"/>\n",
              "<meta content=\"496893005\" property=\"al:ipad:app_store_id\"/>\n",
              "<meta content=\"UN News Reader\" property=\"al:ipad:app_name\"/>\n",
              "<meta content=\"496893005\" property=\"al:iphone:app_store_id\"/>\n",
              "<meta content=\"UN News Reader\" property=\"al:iphone:app_name\"/>\n",
              "<meta content=\"4810E42D0C6EFA40969557F307A275F0\" name=\"msvalidate.01\"/>\n",
              "<title>UN climate report a ‘red alert’ for the planet: Guterres | | UN News</title>\n",
              "<link href=\"https://news.un.org/en/sites/news.un.org.en/files/css/css_WYLQ_gZetACwlgC3qvcg58yMCgq6pam3S-AN0Tr8QWQ.css\" media=\"all\" rel=\"stylesheet\" type=\"text/css\"/>\n",
              "<link href=\"https://news.un.org/en/sites/news.un.org.en/files/css/css_MPWLEIdn5d6rOh7OGFqQ5-pBOlhbiF37iI6h4Y6MVa0.css\" media=\"all\" rel=\"stylesheet\" type=\"text/css\"/>\n",
              "<link href=\"https://news.un.org/en/sites/news.un.org.en/files/css/css_Vas4UBWoFnQEx8XJ9FTp4hS_DwwS6nKuOvsuXY3h9Uk.css\" media=\"all\" rel=\"stylesheet\" type=\"text/css\"/>\n",
              "<link href=\"https://news.un.org/en/sites/news.un.org.en/files/css/css_KNX_WJl055XdVJXzL5KjDiQZMPHS9EzDukhcgThDuio.css\" media=\"all\" rel=\"stylesheet\" type=\"text/css\"/>\n",
              "<link href=\"https://cdnjs.cloudflare.com/ajax/libs/font-awesome/4.4.0/css/font-awesome.min.css\" media=\"all\" rel=\"stylesheet\" type=\"text/css\"/>\n",
              "<link href=\"https://news.un.org/en/sites/news.un.org.en/files/css/css_YLWdW6wV7Ski57_eSxMdUCyO9zKEBlsYDkC-PNa2_KM.css\" media=\"all\" rel=\"stylesheet\" type=\"text/css\"/>\n",
              "<link href=\"//fonts.googleapis.com/css?family=Lato:300,400,700,900\" media=\"all\" rel=\"stylesheet\" type=\"text/css\"/>\n",
              "<link href=\"//fonts.googleapis.com/css?family=Merriweather:300,400,700,900\" media=\"all\" rel=\"stylesheet\" type=\"text/css\"/>\n",
              "<link href=\"https://news.un.org/en/sites/news.un.org.en/files/css/css_E4VlyxyL3JMcT6dslWLGb0uQdoI2bh_Xj0N65V-bcWo.css\" media=\"all\" rel=\"stylesheet\" type=\"text/css\"/>\n",
              "<link href=\"//fonts.googleapis.com/css?family=Open+Sans:300,300italic,regular,italic,700,800&amp;subset=cyrillic-ext\" media=\"all\" rel=\"stylesheet\" type=\"text/css\"/>\n",
              "<link href=\"//fonts.googleapis.com/css?family=Open+Sans+Condensed:300,700&amp;subset=cyrillic-ext\" media=\"all\" rel=\"stylesheet\" type=\"text/css\"/>\n",
              "<link href=\"//fonts.googleapis.com/css?family=Roboto:400,100,100italic,300,300italic,400italic,500,500italic,700,700italic,900,900italic\" media=\"all\" rel=\"stylesheet\" type=\"text/css\"/>\n",
              "<link href=\"//fonts.googleapis.com/css?family=Roboto+Condensed:400,700\" media=\"all\" rel=\"stylesheet\" type=\"text/css\"/>\n",
              "<link href=\"//fonts.googleapis.com/earlyaccess/droidarabickufi.css\" media=\"all\" rel=\"stylesheet\" type=\"text/css\"/>\n",
              "<link href=\"//fonts.googleapis.com/earlyaccess/notonaskharabic.css\" media=\"all\" rel=\"stylesheet\" type=\"text/css\"/>\n",
              "<link href=\"//fonts.googleapis.com/css?family=Oswald:400,300,700&amp;subset=latin,latin-ext\" media=\"all\" rel=\"stylesheet\" type=\"text/css\"/>\n",
              "<link href=\"//maxcdn.bootstrapcdn.com/font-awesome/4.2.0/css/font-awesome.min.css\" media=\"all\" rel=\"stylesheet\" type=\"text/css\"/>\n",
              "<link href=\"https://news.un.org/en/sites/news.un.org.en/files/css/css_Xs-AJOD7EyndX42k063NqiMzcF1BW0I-HaFnNLa9yzQ.css\" media=\"all\" rel=\"stylesheet\" type=\"text/css\"/>\n",
              "<link href=\"https://news.un.org/en/sites/news.un.org.en/files/css/css_qli7dBrIFD6l2SVkO1V4jN5ESLM2mQi2yZgdRSKn7vM.css\" media=\"all\" rel=\"stylesheet\" type=\"text/css\"/>\n",
              "<link href=\"https://news.un.org/en/sites/news.un.org.en/files/css/css_4X2G2d6gP6DtW6pH3M0r536tYaO9E4Q-sO5aywUzIr0.css\" media=\"print\" rel=\"stylesheet\" type=\"text/css\"/>\n",
              "<!-- HTML5 element support for IE6-8 -->\n",
              "<!--[if lt IE 9]>\n",
              "    <script src=\"//html5shiv.googlecode.com/svn/trunk/html5.js\"></script>\n",
              "  <![endif]-->\n",
              "<script>(function(w,d,s,l,i){w[l]=w[l]||[];w[l].push({'gtm.start':new Date().getTime(),event:'gtm.js'});var f=d.getElementsByTagName(s)[0];var j=d.createElement(s);var dl=l!='dataLayer'?'&l='+l:'';j.src='https://www.googletagmanager.com/gtm.js?id='+i+dl+'';j.async=true;f.parentNode.insertBefore(j,f);})(window,document,'script','dataLayer','GTM-WFP5ZN5');</script>\n",
              "<script>(function(w,d,s,l,i){w[l]=w[l]||[];w[l].push({'gtm.start':new Date().getTime(),event:'gtm.js'});var f=d.getElementsByTagName(s)[0];var j=d.createElement(s);var dl=l!='dataLayer'?'&l='+l:'';j.src='https://www.googletagmanager.com/gtm.js?id='+i+dl+'';j.async=true;f.parentNode.insertBefore(j,f);})(window,document,'script','dataLayer','GTM-5F844BH');</script>\n",
              "<script src=\"//ajax.googleapis.com/ajax/libs/jquery/1.10.2/jquery.min.js\"></script>\n",
              "<script>window.jQuery || document.write(\"<script src='/en/sites/all/modules/contrib/jquery_update/replace/jquery/1.10/jquery.min.js'>\\x3C/script>\")</script>\n",
              "<script src=\"https://news.un.org/en/sites/news.un.org.en/files/js/js_dQzg4AboRU9wViNeX0elqGzkL_q3ekV-rVuqwlBsV_E.js\"></script>\n",
              "<script src=\"//ajax.googleapis.com/ajax/libs/jqueryui/1.10.2/jquery-ui.min.js\"></script>\n",
              "<script>window.jQuery.ui || document.write(\"<script src='/en/sites/all/modules/contrib/jquery_update/replace/ui/ui/minified/jquery-ui.min.js'>\\x3C/script>\")</script>\n",
              "<script src=\"https://news.un.org/en/sites/news.un.org.en/files/js/js_H7q2xORKmR9AN8Qx5spKEIBp7R_wG2apAswJoCUZY7I.js\"></script>\n",
              "<script>document.createElement( \"picture\" );</script>\n",
              "<script src=\"https://news.un.org/en/sites/news.un.org.en/files/js/js_JGOl1w-DvNEa79lETKwxtIzSRKN5qUpUtr78eNFPIGk.js\"></script>\n",
              "<script src=\"https://sadmin.brightcove.com/js/BrightcoveExperiences.js\"></script>\n",
              "<script src=\"https://news.un.org/en/sites/news.un.org.en/files/js/js_0DDD8_BTrs9iJ10GcP1jSV8HQ63zv3MnPyMJJYQSY8I.js\"></script>\n",
              "<script>var switchTo5x = true;var __st_loadLate = true;var useFastShare = 1;</script>\n",
              "<script src=\"https://ws.sharethis.com/button/buttons.js\"></script>\n",
              "<script>if (typeof stLight !== 'undefined') { stLight.options({\"publisher\":\"dr-d25eccc4-2f66-a40d-a4cb-ca5b51e5f460\",\"version\":\"5x\",\"lang\":\"en\"}); }</script>\n",
              "<script src=\"https://news.un.org/en/sites/news.un.org.en/files/js/js_rsGiM5M1ffe6EhN-RnhM5f3pDyJ8ZAPFJNKpfjtepLk.js\"></script>\n",
              "<script>(function(i,s,o,g,r,a,m){i[\"GoogleAnalyticsObject\"]=r;i[r]=i[r]||function(){(i[r].q=i[r].q||[]).push(arguments)},i[r].l=1*new Date();a=s.createElement(o),m=s.getElementsByTagName(o)[0];a.async=1;a.src=g;m.parentNode.insertBefore(a,m)})(window,document,\"script\",\"https://www.google-analytics.com/analytics.js\",\"ga\");ga(\"create\", \"UA-108509449-9\", {\"cookieDomain\":\".news.un.org\"});ga(\"require\", \"linkid\", \"linkid.js\");ga(\"set\", \"dimension1\", \"Climate and Environment\");ga(\"set\", \"dimension2\", \"climate action\");ga(\"set\", \"dimension3\", \"Global\");ga(\"set\", \"dimension4\", \"2021-02-26 00:00:00\");ga(\"set\", \"dimension5\", \"News Story\");ga(\"set\", \"page\", location.pathname + location.search + location.hash);ga(\"send\", \"pageview\");ga('create', 'UA-4803886-1', 'auto', 'mainTracker');\n",
              "ga('mainTracker.send', 'pageview');</script>\n",
              "<script src=\"https://news.un.org/en/sites/news.un.org.en/files/js/js_-2RGBaXFTVVye53aiZAQvkrMyqZmBIO0x3HU1qGuin4.js\"></script>\n",
              "<script src=\"//embedr.flickr.com/assets/client-code.js\"></script>\n",
              "<script src=\"https://news.un.org/en/sites/news.un.org.en/files/js/js_yqDMwPFthD04VeHP1xY601sGuTQ5fej9Ia9k126VExo.js\"></script>\n",
              "<script>jwplayer.key=\"fKawrCZCB2\\/GAhiLVDVcL6NFqS9wejiZxyvlFWHyG5c=\"</script>\n",
              "<script src=\"https://news.un.org/en/sites/news.un.org.en/files/js/js_j3kUEwp-pOaOnQ5GWe36gM5EKegK-xLk9xeisnagDHU.js\"></script>\n",
              "<script>jQuery.extend(Drupal.settings, {\"basePath\":\"\\/en\\/\",\"pathPrefix\":\"\",\"ajaxPageState\":{\"theme\":\"bootstrap_un_news\",\"theme_token\":\"lab7tXpYE686hZD9yQ-O8iT1L1qOuRj6zTI5Y3vJBcw\",\"js\":{\"sites\\/all\\/modules\\/contrib\\/picture\\/picturefill2\\/picturefill.min.js\":1,\"sites\\/all\\/modules\\/contrib\\/picture\\/picture.min.js\":1,\"sites\\/all\\/modules\\/custom\\/unnews_audio_player\\/js\\/unnews_audio.js\":1,\"https:\\/\\/platform.twitter.com\\/widgets.js\":1,\"sites\\/all\\/themes\\/bootstrap\\/js\\/bootstrap.js\":1,\"0\":1,\"1\":1,\"\\/\\/ajax.googleapis.com\\/ajax\\/libs\\/jquery\\/1.10.2\\/jquery.min.js\":1,\"2\":1,\"misc\\/jquery-extend-3.4.0.js\":1,\"misc\\/jquery-html-prefilter-3.5.0-backport.js\":1,\"misc\\/jquery.once.js\":1,\"misc\\/drupal.js\":1,\"sites\\/all\\/libraries\\/jwplayer\\/jwplayer.js\":1,\"\\/\\/ajax.googleapis.com\\/ajax\\/libs\\/jqueryui\\/1.10.2\\/jquery-ui.min.js\":1,\"3\":1,\"sites\\/all\\/modules\\/contrib\\/jquery_update\\/replace\\/ui\\/external\\/jquery.cookie.js\":1,\"4\":1,\"sites\\/all\\/modules\\/scaldtools\\/scald_twitter\\/scald_twitter.js\":1,\"sites\\/all\\/modules\\/features\\/un_news_icymi\\/js\\/un_news_icymi.js\":1,\"https:\\/\\/sadmin.brightcove.com\\/js\\/BrightcoveExperiences.js\":1,\"sites\\/all\\/libraries\\/isotope\\/isotope.pkgd.min.js\":1,\"sites\\/all\\/modules\\/scaldtools\\/scald_file\\/scald_file.js\":1,\"sites\\/all\\/modules\\/scaldtools\\/scald\\/modules\\/providers\\/scald_image\\/scald_image.js\":1,\"sites\\/all\\/modules\\/contrib\\/tb_megamenu\\/js\\/tb-megamenu-frontend.js\":1,\"sites\\/all\\/modules\\/contrib\\/tb_megamenu\\/js\\/tb-megamenu-touch.js\":1,\"sites\\/all\\/modules\\/custom\\/un_live_now\\/js\\/livenow.js\":1,\"5\":1,\"https:\\/\\/ws.sharethis.com\\/button\\/buttons.js\":1,\"6\":1,\"sites\\/all\\/modules\\/contrib\\/google_analytics\\/googleanalytics.js\":1,\"7\":1,\"sites\\/all\\/modules\\/contrib\\/radioactivity\\/js\\/radioactivity.js\":1,\"\\/\\/embedr.flickr.com\\/assets\\/client-code.js\":1,\"sites\\/all\\/modules\\/custom\\/unnews_node\\/js\\/unnews_node.js\":1,\"sites\\/all\\/libraries\\/owlcarousel\\/owl.carousel.js\":1,\"sites\\/all\\/libraries\\/selection-sharing\\/share-this.js\":1,\"sites\\/all\\/libraries\\/selection-sharing\\/sharers\\/email.js\":1,\"sites\\/all\\/libraries\\/selection-sharing\\/sharers\\/facebook.js\":1,\"sites\\/all\\/libraries\\/selection-sharing\\/sharers\\/twitter.js\":1,\"8\":1,\"sites\\/all\\/themes\\/bootstrap_un_wss\\/js\\/bootstrap.min.js\":1,\"sites\\/all\\/themes\\/bootstrap_un_wss\\/js\\/dropdown.js\":1,\"sites\\/all\\/themes\\/bootstrap_un_wss\\/js\\/bootstrap-accessibility.min.js\":1,\"sites\\/all\\/themes\\/bootstrap_un_wss\\/js\\/owl-carousel.js\":1,\"sites\\/all\\/themes\\/bootstrap_un_wss\\/js\\/functions.js\":1,\"sites\\/all\\/themes\\/bootstrap_un_news\\/js\\/sub.js\":1},\"css\":{\"modules\\/system\\/system.base.css\":1,\"misc\\/ui\\/jquery.ui.core.css\":1,\"misc\\/ui\\/jquery.ui.theme.css\":1,\"misc\\/ui\\/jquery.ui.button.css\":1,\"misc\\/ui\\/jquery.ui.resizable.css\":1,\"misc\\/ui\\/jquery.ui.dialog.css\":1,\"modules\\/field\\/theme\\/field.css\":1,\"sites\\/all\\/modules\\/scaldtools\\/scald\\/modules\\/fields\\/mee\\/css\\/editor-global.css\":1,\"modules\\/node\\/node.css\":1,\"sites\\/all\\/modules\\/contrib\\/picture\\/picture_wysiwyg.css\":1,\"sites\\/all\\/modules\\/scaldtools\\/scald_facebook_post\\/scald_facebook_post.css\":1,\"sites\\/all\\/modules\\/scaldtools\\/scald_file\\/scald_file.css\":1,\"sites\\/all\\/modules\\/scaldtools\\/scald_twitter\\/scald_twitter.css\":1,\"sites\\/all\\/modules\\/features\\/un_news_icymi\\/css\\/un_news_icymi.css\":1,\"sites\\/all\\/modules\\/contrib\\/views\\/css\\/views.css\":1,\"sites\\/all\\/modules\\/contrib\\/ckeditor\\/css\\/ckeditor.css\":1,\"sites\\/all\\/modules\\/contrib\\/ctools\\/css\\/ctools.css\":1,\"sites\\/all\\/modules\\/contrib\\/word_link\\/css\\/word_link.css\":1,\"sites\\/all\\/modules\\/contrib\\/radioactivity\\/css\\/radioactivity.css\":1,\"https:\\/\\/cdnjs.cloudflare.com\\/ajax\\/libs\\/font-awesome\\/4.4.0\\/css\\/font-awesome.min.css\":1,\"sites\\/all\\/modules\\/contrib\\/tb_megamenu\\/css\\/bootstrap.css\":1,\"sites\\/all\\/modules\\/contrib\\/tb_megamenu\\/css\\/base.css\":1,\"sites\\/all\\/modules\\/contrib\\/tb_megamenu\\/css\\/default.css\":1,\"sites\\/all\\/modules\\/contrib\\/tb_megamenu\\/css\\/compatibility.css\":1,\"\\/\\/fonts.googleapis.com\\/css?family=Lato:300,400,700,900\":1,\"\\/\\/fonts.googleapis.com\\/css?family=Merriweather:300,400,700,900\":1,\"sites\\/all\\/modules\\/contrib\\/date\\/date_api\\/date.css\":1,\"\\/\\/fonts.googleapis.com\\/css?family=Open+Sans:300,300italic,regular,italic,700,800\\u0026subset=cyrillic-ext\":1,\"\\/\\/fonts.googleapis.com\\/css?family=Open+Sans+Condensed:300,700\\u0026subset=cyrillic-ext\":1,\"\\/\\/fonts.googleapis.com\\/css?family=Roboto:400,100,100italic,300,300italic,400italic,500,500italic,700,700italic,900,900italic\":1,\"\\/\\/fonts.googleapis.com\\/css?family=Roboto+Condensed:400,700\":1,\"\\/\\/fonts.googleapis.com\\/earlyaccess\\/droidarabickufi.css\":1,\"\\/\\/fonts.googleapis.com\\/earlyaccess\\/notonaskharabic.css\":1,\"\\/\\/fonts.googleapis.com\\/css?family=Oswald:400,300,700\\u0026subset=latin,latin-ext\":1,\"\\/\\/maxcdn.bootstrapcdn.com\\/font-awesome\\/4.2.0\\/css\\/font-awesome.min.css\":1,\"sites\\/all\\/libraries\\/owlcarousel\\/owl.carousel.css\":1,\"sites\\/all\\/libraries\\/owlcarousel\\/owl.theme.css\":1,\"sites\\/all\\/libraries\\/owlcarousel\\/owl.transitions.css\":1,\"sites\\/all\\/libraries\\/selection-sharing\\/share-this.css\":1,\"sites\\/all\\/themes\\/bootstrap_un_wss\\/fonts\\/genericons\\/genericons.css\":1,\"sites\\/all\\/themes\\/bootstrap_un_wss\\/fonts\\/font-awesome\\/css\\/font-awesome.min.css\":1,\"sites\\/all\\/themes\\/bootstrap_un_wss\\/css\\/main.css\":1,\"sites\\/all\\/themes\\/bootstrap_un_news\\/css\\/sub.css\":1,\"sites\\/all\\/themes\\/bootstrap_un_wss\\/css\\/print.css\":1}},\"embridge\":{\"default_catalog\":\"catalog\",\"selected_renditions\":{\"un_news_small\":\"un_news_small\",\"un_news_medium\":\"un_news_medium\",\"un_news_teaser\":\"un_news_teaser\",\"un_news_default\":\"un_news_default\",\"un_news_large\":\"un_news_large\",\"un_news_full_width\":\"un_news_full_width\",\"un_news_feature\":\"un_news_feature\",\"un_news_photo_story\":\"un_news_photo_story\",\"un_news_large_uncropped\":\"un_news_large_uncropped\",\"un_news_wide_uncropped\":\"un_news_wide_uncropped\"},\"selected_wysiwyg_renditions\":[],\"allow_upload\":false,\"allow_search\":false,\"allow_properties\":false},\"scaldFile\":{\"path\":\"sites\\/all\\/modules\\/scaldtools\\/scald_file\\/scald_file.css\"},\"googleanalytics\":{\"trackOutbound\":1,\"trackMailto\":1,\"trackDownload\":1,\"trackDownloadExtensions\":\"7z|aac|arc|arj|asf|asx|avi|bin|csv|doc(x|m)?|dot(x|m)?|exe|flv|gif|gz|gzip|hqx|jar|jpe?g|js|mp(2|3|4|e?g)|mov(ie)?|msi|msp|pdf|phps|png|ppt(x|m)?|pot(x|m)?|pps(x|m)?|ppam|sld(x|m)?|thmx|qtm?|ra(m|r)?|sea|sit|tar|tgz|torrent|txt|wav|wma|wmv|wpd|xls(x|m|b)?|xlt(x|m)|xlam|xml|z|zip\",\"trackDomainMode\":1,\"trackUrlFragments\":1},\"radioactivity\":{\"emitters\":{\"emitDefault\":{\"1c390aa32777663c036f42a3a1abd7b4\":{\"accuracy\":100,\"bundle\":\"news_story\",\"energy\":10,\"entity_id\":\"1085812\",\"entity_type\":\"node\",\"field_name\":\"field_views_counter\",\"language\":\"und\",\"storage\":\"Redis\",\"type\":\"none\",\"checksum\":\"1c390aa32777663c036f42a3a1abd7b4\"}}},\"config\":{\"emitPath\":\"\\/en\\/sites\\/all\\/modules\\/contrib\\/radioactivity\\/emit.php\",\"fpEnabled\":1,\"fpTimeout\":\"15\"}},\"urlIsAjaxTrusted\":{\"\\/en\\/story\\/2021\\/02\\/1085812\":true},\"bootstrap\":{\"anchorsFix\":\"0\",\"anchorsSmoothScrolling\":\"0\",\"formHasError\":1,\"popoverEnabled\":1,\"popoverOptions\":{\"animation\":1,\"html\":0,\"placement\":\"right\",\"selector\":\"\",\"trigger\":\"click\",\"triggerAutoclose\":1,\"title\":\"\",\"content\":\"\",\"delay\":0,\"container\":\"body\"},\"tooltipEnabled\":1,\"tooltipOptions\":{\"animation\":1,\"html\":0,\"placement\":\"auto left\",\"selector\":\"\",\"trigger\":\"hover focus\",\"delay\":0,\"container\":\"body\"}}});</script>\n",
              "</meta></meta></meta></head>\n",
              "<body class=\"html not-front not-logged-in one-sidebar sidebar-second page-node page-node- page-node-1085812 node-type-news-story show-sidebar i18n-en\">\n",
              "<div id=\"skip-link\">\n",
              "<a class=\"element-invisible element-focusable\" href=\"#main-content\">Skip to main content</a>\n",
              "</div>\n",
              "<noscript aria-hidden=\"true\"><iframe height=\"0\" src=\"https://www.googletagmanager.com/ns.html?id=GTM-WFP5ZN5\" style=\"display:none;visibility:hidden\" width=\"0\"></iframe></noscript>\n",
              "<noscript aria-hidden=\"true\"><iframe height=\"0\" src=\"https://www.googletagmanager.com/ns.html?id=GTM-5F844BH\" style=\"display:none;visibility:hidden\" width=\"0\"></iframe></noscript>\n",
              "<div class=\"navbar navbar-default navbar-fixed-top\" id=\"brand-bar\" role=\"navigation\"><!-- UN global brand bar -->\n",
              "<div class=\"container brandbar-header\">\n",
              "<div class=\"row\">\n",
              "<!-- Brand and toggle get grouped for better mobile display -->\n",
              "<div class=\"col-md-4\">\n",
              "<a class=\"navbar-brand\" href=\"https://www.un.org/en/\">Welcome to the United Nations</a>\n",
              "</div><!-- /UN global brand bar -->\n",
              "<!-- Collect the nav links, forms, and other content for toggling -->\n",
              "<div class=\"col-md-8 language-switcher\">\n",
              "<button class=\"navbar-toggle collapsed\" data-target=\"#language-switcher\" data-toggle=\"collapse\" type=\"button\">\n",
              "<span class=\"sr-only\">Toggle navigation</span>\n",
              "<span class=\"icon-bar\"></span>\n",
              "<span class=\"icon-bar\"></span>\n",
              "<span class=\"icon-bar\"></span>\n",
              "</button>\n",
              "<div class=\"language-title visible-xs-inline\"><a data-target=\"#language-switcher\" data-toggle=\"collapse\" href=\"javascript:void(0)\">Language:</a></div>\n",
              "<div class=\"navbar-collapse collapse\" id=\"language-switcher\">\n",
              "<nav role=\"navigation\">\n",
              "<ul class=\"menu nav\">\n",
              "<li class=\"leaf first\"><a href=\"/ar/\">العربية</a></li>\n",
              "<li class=\"leaf \"><a href=\"/zh/\">中文</a></li>\n",
              "<li class=\"leaf active\"><a href=\"/en/\">English</a></li>\n",
              "<li class=\"leaf \"><a href=\"/fr/\">Français</a></li>\n",
              "<li class=\"leaf \"><a href=\"/ru/\">Русский</a></li>\n",
              "<li class=\"leaf \"><a href=\"/es/\">Español</a></li>\n",
              "<li class=\"leaf \"><a href=\"/pt/\">Português</a></li>\n",
              "<li class=\"leaf \"><a href=\"/sw/\">Kiswahili</a></li>\n",
              "<li class=\"leaf last\">\n",
              "<a class=\"dropdown-toggle active\" data-target=\"#\" data-toggle=\"dropdown\" href=\"#\">Other</a>\n",
              "<ul class=\"dropdown-menu\">\n",
              "<li class=\"leaf \"><a href=\"/hi/\">Hindi हिंदी</a></li>\n",
              "<li class=\"leaf\"><a class=\"en-link\" href=\"https://unic.un.org/aroundworld/unics/en/whatWeDo/productsAndServices/websites/index.asp?callPage=home\">Global</a></li>\n",
              "</ul>\n",
              "</li>\n",
              "</ul>\n",
              "</nav>\n",
              "</div>\n",
              "</div><!-- /.navbar-collapse -->\n",
              "</div> <!-- /.row -->\n",
              "</div><!-- /.container -->\n",
              "</div><!-- /UN global brand bar and language switcher --><header class=\"navbar container navbar-default\" id=\"navbar\" role=\"banner\">\n",
              "<div class=\"container\">\n",
              "<div class=\"navbar-header\">\n",
              "<div class=\"row header\">\n",
              "<div class=\"col-md-9 col-xs-12\">\n",
              "<div class=\"pull-left flip temp-logo-wrapper\"><!-- logo wrapper -->\n",
              "<a class=\"logo navbar-btn logo-default\" href=\"/en/\" title=\"Home\">\n",
              "<img alt=\"Home\" class=\"img-responsive\" src=\"/en/sites/all/themes/bootstrap_un_wss/images/logo.svg\"/>\n",
              "</a>\n",
              "</div><!-- /logo wrapper -->\n",
              "<div class=\"pull-left flip site-name-wrapper\">\n",
              "<a class=\"site-name\" href=\"/en/\" title=\"Home\">UN News</a>\n",
              "</div>\n",
              "<div class=\"pull-left flip icon-wrapper\"><img alt=\"Home\" src=\"/en/sites/all/themes/bootstrap_un_news/images/unnews-icon.svg\"/></div>\n",
              "<!-- /Tagline break in two lines -->\n",
              "<div class=\"pull-left flip text-right lead-wrapper\">\n",
              "<div class=\"lead\">Global perspective</div><span class=\"lead\">Human stories</span>\n",
              "</div>\n",
              "</div>\n",
              "<div class=\"col-md-3 col-xs-10 search pull-right flip\">\n",
              "<div class=\"search-form\">\n",
              "<section class=\"block block-search clearfix\" id=\"block-search-form\">\n",
              "<form accept-charset=\"UTF-8\" action=\"/en/story/2021/02/1085812\" class=\"form-search content-search\" id=\"search-block-form\" method=\"post\"><div><div>\n",
              "<h2 class=\"element-invisible\">Search form</h2>\n",
              "<div class=\"input-group\"><input class=\"form-control form-text\" id=\"edit-search-block-form--2\" maxlength=\"128\" name=\"search_block_form\" placeholder=\"Search\" size=\"15\" title=\"Enter the terms you wish to search for.\" type=\"text\" value=\"\"/><span class=\"input-group-btn\"><button class=\"btn btn-primary\" type=\"submit\"><span aria-hidden=\"true\" class=\"icon glyphicon glyphicon-search\"></span>\n",
              "</button></span></div><div class=\"form-actions form-wrapper form-group\" id=\"edit-actions\"><button class=\"element-invisible btn btn-primary form-submit\" id=\"edit-submit\" name=\"op\" type=\"submit\" value=\"Search\">Search</button>\n",
              "</div><input name=\"form_build_id\" type=\"hidden\" value=\"form--qjm7Y94n5tZb4n9LAixtpa3lYJcmfZwH-2KO5NfPis\"/>\n",
              "<input name=\"form_id\" type=\"hidden\" value=\"search_block_form\"/>\n",
              "</div>\n",
              "</div></form>\n",
              "</section>\n",
              "<a class=\"advanced-search pull-right\" href=\"/en/advanced-search\">Advanced Search</a>\n",
              "</div>\n",
              "</div>\n",
              "</div>\n",
              "<div class=\"row menu\">\n",
              "<div class=\"col-lg-12\">\n",
              "<div class=\"navbar-collapse\" id=\"main-menu\">\n",
              "<nav role=\"navigation\">\n",
              "<ul class=\"menu nav navbar-nav\"><li class=\"first expanded dropdown\"><a class=\"dropdown-toggle\" data-toggle=\"dropdown\" href=\"/en/\">Home <span class=\"caret\"></span></a><ul class=\"dropdown-menu\"><li class=\"first leaf\"><a href=\"/en/news/region/africa\">Africa</a></li>\n",
              "<li class=\"leaf\"><a href=\"/en/news/region/americas\">Americas</a></li>\n",
              "<li class=\"leaf\"><a href=\"/en/news/region/asia-pacific\">Asia Pacific</a></li>\n",
              "<li class=\"leaf\"><a href=\"/en/news/region/middle-east\">Middle East</a></li>\n",
              "<li class=\"leaf\"><a href=\"/en/news/region/europe\">Europe</a></li>\n",
              "<li class=\"leaf\"><a href=\"https://news.un.org/en/spotlight/un-art-and-gifts\">UN Art and Gifts</a></li>\n",
              "<li class=\"last leaf\"><a href=\"https://news.un.org/en/spotlight/character-sketches-brian-urquhart\">History Corner</a></li>\n",
              "</ul></li>\n",
              "<li class=\"expanded dropdown\"><span class=\"dropdown-toggle nolink\" data-toggle=\"dropdown\" tabindex=\"0\">Topics <span class=\"caret\"></span></span><ul class=\"dropdown-menu\"><li class=\"first leaf\"><a href=\"/en/news/topic/peace-and-security\">Peace and Security</a></li>\n",
              "<li class=\"leaf\"><a href=\"/en/news/topic/economic-development\">Economic Development</a></li>\n",
              "<li class=\"leaf\"><a href=\"/en/news/topic/humanitarian-aid\">Humanitarian Aid</a></li>\n",
              "<li class=\"leaf\"><a href=\"/en/news/topic/climate-change\">Climate and Environment</a></li>\n",
              "<li class=\"leaf\"><a href=\"/en/news/topic/human-rights\">Human Rights</a></li>\n",
              "<li class=\"leaf\"><a href=\"/en/news/topic/un-affairs\">UN Affairs</a></li>\n",
              "<li class=\"leaf\"><a href=\"/en/news/topic/women\">Women</a></li>\n",
              "<li class=\"leaf\"><a href=\"/en/news/topic/law-and-crime-prevention\">Law and Crime Prevention</a></li>\n",
              "<li class=\"leaf\"><a href=\"/en/news/topic/health\">Health</a></li>\n",
              "<li class=\"leaf\"><a href=\"/en/news/topic/culture-and-education\">Culture and Education</a></li>\n",
              "<li class=\"leaf\"><a href=\"/en/news/topic/sdgs\">SDGs</a></li>\n",
              "<li class=\"last leaf\"><a href=\"/en/news/topic/migrants-and-refugees\">Migrants and Refugees</a></li>\n",
              "</ul></li>\n",
              "<li class=\"expanded dropdown\"><span class=\"dropdown-toggle nolink\" data-toggle=\"dropdown\" tabindex=\"0\">In depth <span class=\"caret\"></span></span><ul class=\"dropdown-menu\"><li class=\"first leaf\"><a href=\"/en/interviews\">Interviews</a></li>\n",
              "<li class=\"leaf\"><a href=\"/en/features\">Features</a></li>\n",
              "<li class=\"leaf\"><a href=\"/en/gallery\">Photo Stories</a></li>\n",
              "<li class=\"leaf\"><a href=\"/en/audio-product/news-brief\">News in Brief</a></li>\n",
              "<li class=\"leaf\"><a href=\"/en/audio-product/podcast-the-lid-is-on\">The Lid is On</a></li>\n",
              "<li class=\"leaf\"><a href=\"/en/audio-product/focus-gender\">UN Gender Focus</a></li>\n",
              "<li class=\"leaf\"><a href=\"/en/audio-product/un-and-africa\">UN and Africa</a></li>\n",
              "<li class=\"last leaf\"><a href=\"https://news.un.org/en/un-podcasts\">UN Podcasts</a></li>\n",
              "</ul></li>\n",
              "<li class=\"expanded dropdown\"><a class=\"dropdown-toggle\" data-toggle=\"dropdown\" href=\"https://www.un.org/sg/en\">Secretary-General <span class=\"caret\"></span></a><ul class=\"dropdown-menu\"><li class=\"first leaf\"><a href=\"https://www.un.org/sg/en/spokesperson\">Spokesperson</a></li>\n",
              "<li class=\"leaf\"><a href=\"https://www.un.org/sg/en/latest/sg/statement\">All Statements</a></li>\n",
              "<li class=\"leaf\"><a href=\"https://www.un.org/sg/en/archive/sg/speeches\">Selected Speeches</a></li>\n",
              "<li class=\"leaf\"><a href=\"https://www.un.org/sg/en/content/sg/press-encounters\">Press Encounters</a></li>\n",
              "<li class=\"last leaf\"><a href=\"https://www.un.org/sg/en/content/travels\">Official Travels</a></li>\n",
              "</ul></li>\n",
              "<li class=\"last expanded dropdown\"><span class=\"dropdown-toggle nolink\" data-toggle=\"dropdown\" tabindex=\"0\">Media <span class=\"caret\"></span></span><ul class=\"dropdown-menu\"><li class=\"first leaf\"><a href=\"http://www.un.org/video\">UN Video</a></li>\n",
              "<li class=\"leaf\"><a href=\"http://www.unmultimedia.org/photo/\">UN Photo</a></li>\n",
              "<li class=\"leaf\"><a href=\"http://www.un.org/press/en\">Meeting Coverage</a></li>\n",
              "<li class=\"leaf\"><a href=\"https://www.un.org/en/media/accreditation/index.shtml\">Media Accreditation</a></li>\n",
              "<li class=\"last leaf\"><a href=\"http://webtv.un.org/\">Webtv</a></li>\n",
              "</ul></li>\n",
              "</ul> <section class=\"block block-tb-megamenu clearfix\" id=\"block-tb-megamenu-main-menu\">\n",
              "<div class=\"tb-megamenu tb-megamenu-main-menu\">\n",
              "<button class=\"btn btn-navbar tb-megamenu-button\" data-target=\".nav-collapse\" data-toggle=\"collapse\" type=\"button\">\n",
              "<i class=\"fa fa-reorder\"></i>\n",
              "</button>\n",
              "<div class=\"nav-collapse \">\n",
              "<ul class=\"tb-megamenu-nav nav level-0 items-5\">\n",
              "<li class=\"tb-megamenu-item level-1 mega col-md-3 mega-align-justify dropdown\" data-alignsub=\"justify\" data-caption=\"\" data-class=\"col-md-3\" data-group=\"0\" data-hidesub=\"0\" data-hidewcol=\"0\" data-id=\"683\" data-level=\"1\" data-type=\"menu_item\" data-xicon=\"\">\n",
              "<a class=\"dropdown-toggle\" href=\"/en/\">\n",
              "        \n",
              "    Home          </a>\n",
              "<div class=\"tb-megamenu-submenu front-regions dropdown-menu mega-dropdown-menu nav-child\" data-class=\"front-regions\" data-width=\"\">\n",
              "<div class=\"mega-dropdown-inner\">\n",
              "<div class=\"tb-megamenu-row row-fluid\">\n",
              "<div class=\"tb-megamenu-column span8 mega-col-nav\" data-class=\"\" data-hidewcol=\"0\" data-width=\"8\" id=\"tb-megamenu-column-1\">\n",
              "<div class=\"tb-megamenu-column-inner mega-inner clearfix\">\n",
              "<ul class=\"tb-megamenu-subnav mega-nav level-1 items-5\">\n",
              "<li class=\"tb-megamenu-item level-2 mega pull-left\" data-alignsub=\"\" data-caption=\"\" data-class=\"pull-left\" data-group=\"0\" data-hidesub=\"0\" data-hidewcol=\"0\" data-id=\"709\" data-level=\"2\" data-type=\"menu_item\" data-xicon=\"\">\n",
              "<a href=\"/en/news/region/africa\">\n",
              "        \n",
              "    Africa          </a>\n",
              "</li>\n",
              "<li class=\"tb-megamenu-item level-2 mega pull-left\" data-alignsub=\"\" data-caption=\"\" data-class=\"pull-left\" data-group=\"0\" data-hidesub=\"0\" data-hidewcol=\"0\" data-id=\"712\" data-level=\"2\" data-type=\"menu_item\" data-xicon=\"\">\n",
              "<a href=\"/en/news/region/americas\">\n",
              "        \n",
              "    Americas          </a>\n",
              "</li>\n",
              "<li class=\"tb-megamenu-item level-2 mega pull-left\" data-alignsub=\"\" data-caption=\"\" data-class=\"pull-left\" data-group=\"0\" data-hidesub=\"0\" data-hidewcol=\"0\" data-id=\"708\" data-level=\"2\" data-type=\"menu_item\" data-xicon=\"\">\n",
              "<a href=\"/en/news/region/asia-pacific\">\n",
              "        \n",
              "    Asia Pacific          </a>\n",
              "</li>\n",
              "<li class=\"tb-megamenu-item level-2 mega pull-left\" data-alignsub=\"\" data-caption=\"\" data-class=\"pull-left\" data-group=\"0\" data-hidesub=\"0\" data-hidewcol=\"0\" data-id=\"748\" data-level=\"2\" data-type=\"menu_item\" data-xicon=\"\">\n",
              "<a href=\"/en/news/region/middle-east\">\n",
              "        \n",
              "    Middle East          </a>\n",
              "</li>\n",
              "<li class=\"tb-megamenu-item level-2 mega pull-left\" data-alignsub=\"\" data-caption=\"\" data-class=\"pull-left\" data-group=\"0\" data-hidesub=\"0\" data-hidewcol=\"0\" data-id=\"706\" data-level=\"2\" data-type=\"menu_item\" data-xicon=\"\">\n",
              "<a href=\"/en/news/region/europe\">\n",
              "        \n",
              "    Europe          </a>\n",
              "</li>\n",
              "</ul>\n",
              "</div>\n",
              "</div>\n",
              "<div class=\"tb-megamenu-column span4 mega-col-nav\" data-class=\"\" data-hidewcol=\"\" data-width=\"4\" id=\"tb-megamenu-column-2\">\n",
              "<div class=\"tb-megamenu-column-inner mega-inner clearfix\">\n",
              "<ul class=\"tb-megamenu-subnav mega-nav level-1 items-2\">\n",
              "<li class=\"tb-megamenu-item level-2 mega pull-right\" data-alignsub=\"\" data-caption=\"\" data-class=\"pull-right\" data-group=\"0\" data-hidesub=\"0\" data-hidewcol=\"0\" data-id=\"67421\" data-level=\"2\" data-type=\"menu_item\" data-xicon=\"\">\n",
              "<a href=\"https://news.un.org/en/spotlight/un-art-and-gifts\">\n",
              "        \n",
              "    UN Art and Gifts          </a>\n",
              "</li>\n",
              "<li class=\"tb-megamenu-item level-2 mega pull-right\" data-alignsub=\"\" data-caption=\"\" data-class=\"pull-right\" data-group=\"0\" data-hidesub=\"0\" data-hidewcol=\"0\" data-id=\"67431\" data-level=\"2\" data-type=\"menu_item\" data-xicon=\"\">\n",
              "<a href=\"https://news.un.org/en/spotlight/character-sketches-brian-urquhart\">\n",
              "        \n",
              "    History Corner          </a>\n",
              "</li>\n",
              "</ul>\n",
              "</div>\n",
              "</div>\n",
              "</div>\n",
              "</div>\n",
              "</div>\n",
              "</li>\n",
              "<li class=\"tb-megamenu-item level-1 mega col-md-2 mega-align-justify dropdown\" data-alignsub=\"justify\" data-caption=\"\" data-class=\"col-md-2\" data-group=\"0\" data-hidesub=\"0\" data-hidewcol=\"0\" data-id=\"700\" data-level=\"1\" data-type=\"menu_item\" data-xicon=\"\">\n",
              "<a class=\"dropdown-toggle\" href=\"#\">\n",
              "        \n",
              "    Topics          </a>\n",
              "<div class=\"tb-megamenu-submenu dropdown-menu mega-dropdown-menu nav-child\" data-class=\"\" data-width=\"\">\n",
              "<div class=\"mega-dropdown-inner\">\n",
              "<div class=\"tb-megamenu-row row-fluid\">\n",
              "<div class=\"tb-megamenu-column span3 mega-col-nav\" data-class=\"\" data-hidewcol=\"0\" data-width=\"3\" id=\"tb-megamenu-column-3\">\n",
              "<div class=\"tb-megamenu-column-inner mega-inner clearfix\">\n",
              "<ul class=\"tb-megamenu-subnav mega-nav level-1 items-3\">\n",
              "<li class=\"tb-megamenu-item level-2 mega\" data-alignsub=\"\" data-caption=\"\" data-class=\"\" data-group=\"1\" data-hidesub=\"0\" data-hidewcol=\"0\" data-id=\"733\" data-level=\"2\" data-type=\"menu_item\" data-xicon=\"\">\n",
              "<a href=\"/en/news/topic/peace-and-security\">\n",
              "        \n",
              "    Peace and Security          </a>\n",
              "</li>\n",
              "<li class=\"tb-megamenu-item level-2 mega\" data-alignsub=\"\" data-caption=\"\" data-class=\"\" data-group=\"0\" data-hidesub=\"0\" data-hidewcol=\"0\" data-id=\"705\" data-level=\"2\" data-type=\"menu_item\" data-xicon=\"\">\n",
              "<a href=\"/en/news/topic/economic-development\">\n",
              "        \n",
              "    Economic Development          </a>\n",
              "</li>\n",
              "<li class=\"tb-megamenu-item level-2 mega\" data-alignsub=\"\" data-caption=\"\" data-class=\"\" data-group=\"0\" data-hidesub=\"0\" data-hidewcol=\"0\" data-id=\"727\" data-level=\"2\" data-type=\"menu_item\" data-xicon=\"\">\n",
              "<a href=\"/en/news/topic/humanitarian-aid\">\n",
              "        \n",
              "    Humanitarian Aid          </a>\n",
              "</li>\n",
              "</ul>\n",
              "</div>\n",
              "</div>\n",
              "<div class=\"tb-megamenu-column span3 mega-col-nav\" data-class=\"\" data-hidewcol=\"\" data-width=\"3\" id=\"tb-megamenu-column-4\">\n",
              "<div class=\"tb-megamenu-column-inner mega-inner clearfix\">\n",
              "<ul class=\"tb-megamenu-subnav mega-nav level-1 items-3\">\n",
              "<li class=\"tb-megamenu-item level-2 mega\" data-alignsub=\"\" data-caption=\"\" data-class=\"\" data-group=\"0\" data-hidesub=\"0\" data-hidewcol=\"0\" data-id=\"707\" data-level=\"2\" data-type=\"menu_item\" data-xicon=\"\">\n",
              "<a href=\"/en/news/topic/climate-change\">\n",
              "        \n",
              "    Climate and Environment          </a>\n",
              "</li>\n",
              "<li class=\"tb-megamenu-item level-2 mega\" data-alignsub=\"\" data-caption=\"\" data-class=\"\" data-group=\"0\" data-hidesub=\"0\" data-hidewcol=\"0\" data-id=\"728\" data-level=\"2\" data-type=\"menu_item\" data-xicon=\"\">\n",
              "<a href=\"/en/news/topic/human-rights\">\n",
              "        \n",
              "    Human Rights          </a>\n",
              "</li>\n",
              "<li class=\"tb-megamenu-item level-2 mega\" data-alignsub=\"\" data-caption=\"\" data-class=\"\" data-group=\"0\" data-hidesub=\"0\" data-hidewcol=\"0\" data-id=\"743\" data-level=\"2\" data-type=\"menu_item\" data-xicon=\"\">\n",
              "<a href=\"/en/news/topic/un-affairs\">\n",
              "        \n",
              "    UN Affairs          </a>\n",
              "</li>\n",
              "</ul>\n",
              "</div>\n",
              "</div>\n",
              "<div class=\"tb-megamenu-column span3 mega-col-nav\" data-class=\"\" data-hidewcol=\"\" data-width=\"3\" id=\"tb-megamenu-column-5\">\n",
              "<div class=\"tb-megamenu-column-inner mega-inner clearfix\">\n",
              "<ul class=\"tb-megamenu-subnav mega-nav level-1 items-3\">\n",
              "<li class=\"tb-megamenu-item level-2 mega\" data-alignsub=\"\" data-caption=\"\" data-class=\"\" data-group=\"0\" data-hidesub=\"0\" data-hidewcol=\"0\" data-id=\"740\" data-level=\"2\" data-type=\"menu_item\" data-xicon=\"\">\n",
              "<a href=\"/en/news/topic/women\">\n",
              "        \n",
              "    Women          </a>\n",
              "</li>\n",
              "<li class=\"tb-megamenu-item level-2 mega\" data-alignsub=\"\" data-caption=\"\" data-class=\"\" data-group=\"0\" data-hidesub=\"0\" data-hidewcol=\"0\" data-id=\"726\" data-level=\"2\" data-type=\"menu_item\" data-xicon=\"\">\n",
              "<a href=\"/en/news/topic/law-and-crime-prevention\">\n",
              "        \n",
              "    Law and Crime Prevention          </a>\n",
              "</li>\n",
              "<li class=\"tb-megamenu-item level-2 mega\" data-alignsub=\"\" data-caption=\"\" data-class=\"\" data-group=\"0\" data-hidesub=\"0\" data-hidewcol=\"0\" data-id=\"734\" data-level=\"2\" data-type=\"menu_item\" data-xicon=\"\">\n",
              "<a href=\"/en/news/topic/health\">\n",
              "        \n",
              "    Health          </a>\n",
              "</li>\n",
              "</ul>\n",
              "</div>\n",
              "</div>\n",
              "<div class=\"tb-megamenu-column span3 mega-col-nav\" data-class=\"\" data-hidewcol=\"\" data-width=\"3\" id=\"tb-megamenu-column-6\">\n",
              "<div class=\"tb-megamenu-column-inner mega-inner clearfix\">\n",
              "<ul class=\"tb-megamenu-subnav mega-nav level-1 items-3\">\n",
              "<li class=\"tb-megamenu-item level-2 mega\" data-alignsub=\"\" data-caption=\"\" data-class=\"\" data-group=\"0\" data-hidesub=\"0\" data-hidewcol=\"0\" data-id=\"704\" data-level=\"2\" data-type=\"menu_item\" data-xicon=\"\">\n",
              "<a href=\"/en/news/topic/culture-and-education\">\n",
              "        \n",
              "    Culture and Education          </a>\n",
              "</li>\n",
              "<li class=\"tb-megamenu-item level-2 mega\" data-alignsub=\"\" data-caption=\"\" data-class=\"\" data-group=\"0\" data-hidesub=\"0\" data-hidewcol=\"0\" data-id=\"731\" data-level=\"2\" data-type=\"menu_item\" data-xicon=\"\">\n",
              "<a href=\"/en/news/topic/sdgs\">\n",
              "        \n",
              "    SDGs          </a>\n",
              "</li>\n",
              "<li class=\"tb-megamenu-item level-2 mega\" data-alignsub=\"\" data-caption=\"\" data-class=\"\" data-group=\"0\" data-hidesub=\"0\" data-hidewcol=\"0\" data-id=\"715\" data-level=\"2\" data-type=\"menu_item\" data-xicon=\"\">\n",
              "<a href=\"/en/news/topic/migrants-and-refugees\">\n",
              "        \n",
              "    Migrants and Refugees          </a>\n",
              "</li>\n",
              "</ul>\n",
              "</div>\n",
              "</div>\n",
              "</div>\n",
              "</div>\n",
              "</div>\n",
              "</li>\n",
              "<li class=\"tb-megamenu-item level-1 mega col-md-2 mega-align-justify dropdown\" data-alignsub=\"justify\" data-caption=\"\" data-class=\"col-md-2\" data-group=\"0\" data-hidesub=\"0\" data-hidewcol=\"0\" data-id=\"696\" data-level=\"1\" data-type=\"menu_item\" data-xicon=\"\">\n",
              "<a class=\"dropdown-toggle\" href=\"#\">\n",
              "        \n",
              "    In depth          </a>\n",
              "<div class=\"tb-megamenu-submenu dropdown-menu mega-dropdown-menu nav-child\" data-class=\"\" data-width=\"\">\n",
              "<div class=\"mega-dropdown-inner\">\n",
              "<div class=\"tb-megamenu-row row-fluid\">\n",
              "<div class=\"tb-megamenu-column span12 mega-col-nav\" data-class=\"\" data-hidewcol=\"0\" data-width=\"12\" id=\"tb-megamenu-column-7\">\n",
              "<div class=\"tb-megamenu-column-inner mega-inner clearfix\">\n",
              "<ul class=\"tb-megamenu-subnav mega-nav level-1 items-8\">\n",
              "<li class=\"tb-megamenu-item level-2 mega pull-left\" data-alignsub=\"\" data-caption=\"\" data-class=\"pull-left\" data-group=\"0\" data-hidesub=\"0\" data-hidewcol=\"0\" data-id=\"745\" data-level=\"2\" data-type=\"menu_item\" data-xicon=\"\">\n",
              "<a href=\"/en/interviews\">\n",
              "        \n",
              "    Interviews          </a>\n",
              "</li>\n",
              "<li class=\"tb-megamenu-item level-2 mega pull-left\" data-alignsub=\"\" data-caption=\"\" data-class=\"pull-left\" data-group=\"0\" data-hidesub=\"0\" data-hidewcol=\"0\" data-id=\"2377\" data-level=\"2\" data-type=\"menu_item\" data-xicon=\"\">\n",
              "<a href=\"/en/features\">\n",
              "        \n",
              "    Features          </a>\n",
              "</li>\n",
              "<li class=\"tb-megamenu-item level-2 mega pull-left\" data-alignsub=\"\" data-caption=\"\" data-class=\"pull-left\" data-group=\"0\" data-hidesub=\"0\" data-hidewcol=\"0\" data-id=\"2376\" data-level=\"2\" data-type=\"menu_item\" data-xicon=\"\">\n",
              "<a href=\"/en/gallery\">\n",
              "        \n",
              "    Photo Stories          </a>\n",
              "</li>\n",
              "<li class=\"tb-megamenu-item level-2 mega pull-left\" data-alignsub=\"\" data-caption=\"\" data-class=\"pull-left\" data-group=\"0\" data-hidesub=\"0\" data-hidewcol=\"0\" data-id=\"750\" data-level=\"2\" data-type=\"menu_item\" data-xicon=\"\">\n",
              "<a href=\"/en/audio-product/news-brief\">\n",
              "        \n",
              "    News in Brief          </a>\n",
              "</li>\n",
              "<li class=\"tb-megamenu-item level-2 mega pull-left\" data-alignsub=\"\" data-caption=\"\" data-class=\"pull-left\" data-group=\"0\" data-hidesub=\"0\" data-hidewcol=\"0\" data-id=\"37041\" data-level=\"2\" data-type=\"menu_item\" data-xicon=\"\">\n",
              "<a href=\"/en/audio-product/podcast-the-lid-is-on\">\n",
              "        \n",
              "    The Lid is On          </a>\n",
              "</li>\n",
              "<li class=\"tb-megamenu-item level-2 mega pull-left\" data-alignsub=\"\" data-caption=\"\" data-class=\"pull-left\" data-group=\"0\" data-hidesub=\"0\" data-hidewcol=\"0\" data-id=\"37061\" data-level=\"2\" data-type=\"menu_item\" data-xicon=\"\">\n",
              "<a href=\"/en/audio-product/focus-gender\">\n",
              "        \n",
              "    UN Gender Focus          </a>\n",
              "</li>\n",
              "<li class=\"tb-megamenu-item level-2 mega pull-left\" data-alignsub=\"\" data-caption=\"\" data-class=\"pull-left\" data-group=\"0\" data-hidesub=\"0\" data-hidewcol=\"0\" data-id=\"37071\" data-level=\"2\" data-type=\"menu_item\" data-xicon=\"\">\n",
              "<a href=\"/en/audio-product/un-and-africa\">\n",
              "        \n",
              "    UN and Africa          </a>\n",
              "</li>\n",
              "<li class=\"tb-megamenu-item level-2 mega pull-left\" data-alignsub=\"\" data-caption=\"\" data-class=\"pull-left\" data-group=\"0\" data-hidesub=\"0\" data-hidewcol=\"0\" data-id=\"37051\" data-level=\"2\" data-type=\"menu_item\" data-xicon=\"\">\n",
              "<a href=\"https://news.un.org/en/un-podcasts\">\n",
              "        \n",
              "    UN Podcasts          </a>\n",
              "</li>\n",
              "</ul>\n",
              "</div>\n",
              "</div>\n",
              "</div>\n",
              "</div>\n",
              "</div>\n",
              "</li>\n",
              "<li class=\"tb-megamenu-item level-1 mega col-md-3 mega-align-justify dropdown\" data-alignsub=\"justify\" data-caption=\"\" data-class=\"col-md-3\" data-group=\"0\" data-hidesub=\"0\" data-hidewcol=\"0\" data-id=\"1390\" data-level=\"1\" data-type=\"menu_item\" data-xicon=\"\">\n",
              "<a class=\"dropdown-toggle\" href=\"https://www.un.org/sg/en\">\n",
              "        \n",
              "    Secretary-General          </a>\n",
              "<div class=\"tb-megamenu-submenu sg-megamenu dropdown-menu mega-dropdown-menu nav-child\" data-class=\"sg-megamenu\" data-width=\"\">\n",
              "<div class=\"mega-dropdown-inner\">\n",
              "<div class=\"tb-megamenu-row row-fluid\">\n",
              "<div class=\"tb-megamenu-column span12 mega-col-nav\" data-class=\"\" data-hidewcol=\"0\" data-width=\"12\" id=\"tb-megamenu-column-8\">\n",
              "<div class=\"tb-megamenu-column-inner mega-inner clearfix\">\n",
              "<ul class=\"tb-megamenu-subnav mega-nav level-1 items-5\">\n",
              "<li class=\"tb-megamenu-item level-2 mega pull-left\" data-alignsub=\"\" data-caption=\"\" data-class=\"pull-left\" data-group=\"0\" data-hidesub=\"0\" data-hidewcol=\"0\" data-id=\"1396\" data-level=\"2\" data-type=\"menu_item\" data-xicon=\"\">\n",
              "<a href=\"https://www.un.org/sg/en/spokesperson\">\n",
              "        \n",
              "    Spokesperson          </a>\n",
              "</li>\n",
              "<li class=\"tb-megamenu-item level-2 mega pull-left\" data-alignsub=\"\" data-caption=\"\" data-class=\"pull-left\" data-group=\"0\" data-hidesub=\"0\" data-hidewcol=\"0\" data-id=\"1393\" data-level=\"2\" data-type=\"menu_item\" data-xicon=\"\">\n",
              "<a href=\"https://www.un.org/sg/en/latest/sg/statement\">\n",
              "        \n",
              "    All Statements          </a>\n",
              "</li>\n",
              "<li class=\"tb-megamenu-item level-2 mega pull-left\" data-alignsub=\"\" data-caption=\"\" data-class=\"pull-left\" data-group=\"0\" data-hidesub=\"0\" data-hidewcol=\"0\" data-id=\"1398\" data-level=\"2\" data-type=\"menu_item\" data-xicon=\"\">\n",
              "<a href=\"https://www.un.org/sg/en/archive/sg/speeches\">\n",
              "        \n",
              "    Selected Speeches          </a>\n",
              "</li>\n",
              "<li class=\"tb-megamenu-item level-2 mega pull-left\" data-alignsub=\"\" data-caption=\"\" data-class=\"pull-left\" data-group=\"0\" data-hidesub=\"0\" data-hidewcol=\"0\" data-id=\"1392\" data-level=\"2\" data-type=\"menu_item\" data-xicon=\"\">\n",
              "<a href=\"https://www.un.org/sg/en/content/sg/press-encounters\">\n",
              "        \n",
              "    Press Encounters          </a>\n",
              "</li>\n",
              "<li class=\"tb-megamenu-item level-2 mega pull-left\" data-alignsub=\"\" data-caption=\"\" data-class=\"pull-left\" data-group=\"0\" data-hidesub=\"0\" data-hidewcol=\"0\" data-id=\"1391\" data-level=\"2\" data-type=\"menu_item\" data-xicon=\"\">\n",
              "<a href=\"https://www.un.org/sg/en/content/travels\">\n",
              "        \n",
              "    Official Travels          </a>\n",
              "</li>\n",
              "</ul>\n",
              "</div>\n",
              "</div>\n",
              "</div>\n",
              "</div>\n",
              "</div>\n",
              "</li>\n",
              "<li class=\"tb-megamenu-item level-1 mega col-md-2 mega-align-justify dropdown\" data-alignsub=\"justify\" data-caption=\"\" data-class=\"col-md-2\" data-group=\"0\" data-hidesub=\"0\" data-hidewcol=\"0\" data-id=\"693\" data-level=\"1\" data-type=\"menu_item\" data-xicon=\"\">\n",
              "<a class=\"dropdown-toggle\" href=\"#\">\n",
              "        \n",
              "    Media          </a>\n",
              "<div class=\"tb-megamenu-submenu media-megamenu dropdown-menu mega-dropdown-menu nav-child\" data-class=\"media-megamenu\" data-width=\"\">\n",
              "<div class=\"mega-dropdown-inner\">\n",
              "<div class=\"tb-megamenu-row row-fluid\">\n",
              "<div class=\"tb-megamenu-column span12 mega-col-nav\" data-class=\"\" data-hidewcol=\"0\" data-width=\"12\" id=\"tb-megamenu-column-9\">\n",
              "<div class=\"tb-megamenu-column-inner mega-inner clearfix\">\n",
              "<ul class=\"tb-megamenu-subnav mega-nav level-1 items-5\">\n",
              "<li class=\"tb-megamenu-item level-2 mega pull-left\" data-alignsub=\"\" data-caption=\"\" data-class=\"pull-left\" data-group=\"0\" data-hidesub=\"0\" data-hidewcol=\"0\" data-id=\"1394\" data-level=\"2\" data-type=\"menu_item\" data-xicon=\"\">\n",
              "<a href=\"http://www.un.org/video\">\n",
              "        \n",
              "    UN Video          </a>\n",
              "</li>\n",
              "<li class=\"tb-megamenu-item level-2 mega pull-left\" data-alignsub=\"\" data-caption=\"\" data-class=\"pull-left\" data-group=\"0\" data-hidesub=\"0\" data-hidewcol=\"0\" data-id=\"737\" data-level=\"2\" data-type=\"menu_item\" data-xicon=\"\">\n",
              "<a href=\"http://www.unmultimedia.org/photo/\">\n",
              "        \n",
              "    UN Photo          </a>\n",
              "</li>\n",
              "<li class=\"tb-megamenu-item level-2 mega pull-left \" data-alignsub=\"\" data-caption=\"\" data-class=\"pull-left \" data-group=\"0\" data-hidesub=\"0\" data-hidewcol=\"0\" data-id=\"747\" data-level=\"2\" data-type=\"menu_item\" data-xicon=\"\">\n",
              "<a href=\"http://www.un.org/press/en\">\n",
              "        \n",
              "    Meeting Coverage          </a>\n",
              "</li>\n",
              "<li class=\"tb-megamenu-item level-2 mega pull-left\" data-alignsub=\"\" data-caption=\"\" data-class=\"pull-left\" data-group=\"0\" data-hidesub=\"0\" data-hidewcol=\"0\" data-id=\"729\" data-level=\"2\" data-type=\"menu_item\" data-xicon=\"\">\n",
              "<a href=\"https://www.un.org/en/media/accreditation/index.shtml\">\n",
              "        \n",
              "    Media Accreditation          </a>\n",
              "</li>\n",
              "<li class=\"tb-megamenu-item level-2 mega pull-left\" data-alignsub=\"\" data-caption=\"\" data-class=\"pull-left\" data-group=\"0\" data-hidesub=\"0\" data-hidewcol=\"0\" data-id=\"736\" data-level=\"2\" data-type=\"menu_item\" data-xicon=\"\">\n",
              "<a href=\"http://webtv.un.org/\">\n",
              "        \n",
              "    Webtv          </a>\n",
              "</li>\n",
              "</ul>\n",
              "</div>\n",
              "</div>\n",
              "</div>\n",
              "</div>\n",
              "</div>\n",
              "</li>\n",
              "</ul>\n",
              "</div>\n",
              "</div>\n",
              "</section>\n",
              "</nav>\n",
              "<div class=\"clearfix\"></div>\n",
              "</div>\n",
              "</div>\n",
              "</div>\n",
              "</div> <!-- /.navbar-header -->\n",
              "</div> <!-- /.container -->\n",
              "</header>\n",
              "<div class=\"main-container container\">\n",
              "<header id=\"page-header\" role=\"banner\">\n",
              "</header> <!-- /#page-header -->\n",
              "<div class=\"row\">\n",
              "<div class=\"col-md-12\">\n",
              "</div>\n",
              "</div>\n",
              "<div class=\"row top-columns\">\n",
              "<div class=\"col-md-8 col-xs-12 top-left-column\">\n",
              "<section class=\"block block-unnews-blocks live-now live-now clearfix\" id=\"block-unnews-blocks-unnews-live-now-block\">\n",
              "\n",
              "      \n",
              "   \n",
              "</section>\n",
              "</div>\n",
              "<div class=\"col-md-4 col-xs-12 top-right-column\">\n",
              "<section class=\"block block-unnews-blocks subscribe-link pull-right clearfix\" id=\"block-unnews-blocks-unnews-subscribe-link\">\n",
              "<p><a href=\"/en/content/un-newsletter-subscribe\">Subscribe</a></p>\n",
              "</section>\n",
              "<section class=\"block block-unnews-blocks audio-hub-link pull-right clearfix\" id=\"block-unnews-blocks-unnews-audio-hub-link\">\n",
              "<p><a href=\"/en/audio-hub\">Audio Hub</a></p>\n",
              "</section>\n",
              "</div>\n",
              "</div>\n",
              "<div class=\"row\">\n",
              "<section class=\"col-md-12 xs-hidden\">\n",
              "</section>\n",
              "</div>\n",
              "</div>\n",
              "<section class=\"full-width\">\n",
              "</section>\n",
              "<div class=\"main-container container\">\n",
              "<div class=\"row before-content\">\n",
              "<div class=\"col-md-12\">\n",
              "<section class=\"block block-block clearfix\" id=\"block-block-22\">\n",
              "<style type=\"text/css\">\n",
              "<!--/*--><![CDATA[/* ><!--*/\n",
              "\n",
              "<!--/*--><![CDATA[/* ><!--*/\n",
              "hr { border-color: black; }\n",
              "\n",
              "/*--><!]]]]><![CDATA[>*/\n",
              "\n",
              "/*--><!]]>*/\n",
              "</style>\n",
              "</section>\n",
              "<section class=\"block block-views clearfix\" id=\"block-views-story-story-top-block\">\n",
              "<div class=\"view view-story view-id-story view-display-id-story_top_block story-top-block node view-dom-id-c3a4f43e784dc3a3b6024f51b5bf98ac\">\n",
              "<div class=\"view-content\">\n",
              "<div class=\"views-row views-row-1 views-row-odd views-row-first views-row-last\">\n",
              "<div class=\"views-field views-field-nothing\"> <section class=\"story-top-block\">\n",
              "<h1 class=\"story-title\">UN climate report a ‘red alert’ for the planet: Guterres </h1>\n",
              "<div class=\"featured-media\"><!-- scald=685362:un_news_full_width -->\n",
              "<picture>\n",
              "<!--[if IE 9]><video style=\"display: none;\"><![endif]-->\n",
              "<source media=\"(max-width : 480px)\" srcset=\"https://global.unitednations.entermediadb.net/assets/mediadb/services/module/asset/downloads/preset/Libraries/Production+Library/16-01-2020-ZIM_20191203_WFP-Matteo_Cosorich_9596.jpg/image300x180cropped.jpg\"/>\n",
              "<source media=\"(max-width : 768px)\" srcset=\"https://global.unitednations.entermediadb.net/assets/mediadb/services/module/asset/downloads/preset/Libraries/Production+Library/16-01-2020-ZIM_20191203_WFP-Matteo_Cosorich_9596.jpg/image770x420cropped.jpg\"/>\n",
              "<!--[if IE 9]></video><![endif]-->\n",
              "<img class=\"img-responsive\" height=\"\" src=\"https://global.unitednations.entermediadb.net/assets/mediadb/services/module/asset/downloads/preset/Libraries/Production+Library/16-01-2020-ZIM_20191203_WFP-Matteo_Cosorich_9596.jpg/image1170x530cropped.jpg\" title=\"Global temperature rise could lead to more frequent and more intense extreme weather events, such as prolonged droughts or devastating floods. \" width=\"100%\">\n",
              "</img></picture><div class=\"field-name-field-scald-photo-credit field field-name-scald-authors field-type-taxonomy-term-reference field-label-hidden\"><span class=\"un-news-full-width scald-credit\">WFP/Matteo Cosorich</span></div><div class=\"field-name-field-scald-photo-caption field field-name-field-title field-type-text field-label-hidden\"><span class=\"un-news-full-width scald-caption\">Global temperature rise could lead to more frequent and more intense extreme weather events, such as prolonged droughts or devastating floods. </span></div><!-- END scald=685362 --></div>\n",
              "</section> </div> </div>\n",
              "</div>\n",
              "</div>\n",
              "</section>\n",
              "<section class=\"block block-unnews-node clearfix\" id=\"block-unnews-node-story-social-share\">\n",
              "<div class=\"sharethis-wrapper\"><span class=\"st_facebook_custom\" displaytext=\"facebook\" st_image=\"https://global.unitednations.entermediadb.net/assets/mediadb/services/module/asset/downloads/preset/Libraries/Production+Library/16-01-2020-ZIM_20191203_WFP-Matteo_Cosorich_9596.jpg/image1024x768.jpg\" st_title=\"UN climate report a ‘red alert’ for the planet: Guterres \" st_url=\"https://news.un.org/en/story/2021/02/1085812\"></span>\n",
              "<span class=\"st_twitter_custom\" displaytext=\"twitter\" st_image=\"https://global.unitednations.entermediadb.net/assets/mediadb/services/module/asset/downloads/preset/Libraries/Production+Library/16-01-2020-ZIM_20191203_WFP-Matteo_Cosorich_9596.jpg/image1024x768.jpg\" st_title=\"UN climate report a ‘red alert’ for the planet: Guterres \" st_url=\"https://news.un.org/en/story/2021/02/1085812\"></span>\n",
              "<span class=\"st_print_custom\" displaytext=\"print\" st_image=\"https://global.unitednations.entermediadb.net/assets/mediadb/services/module/asset/downloads/preset/Libraries/Production+Library/16-01-2020-ZIM_20191203_WFP-Matteo_Cosorich_9596.jpg/image1024x768.jpg\" st_title=\"UN climate report a ‘red alert’ for the planet: Guterres \" st_url=\"https://news.un.org/en/story/2021/02/1085812\"></span>\n",
              "<span class=\"st_pocket_custom\" displaytext=\"pocket\" st_image=\"https://global.unitednations.entermediadb.net/assets/mediadb/services/module/asset/downloads/preset/Libraries/Production+Library/16-01-2020-ZIM_20191203_WFP-Matteo_Cosorich_9596.jpg/image1024x768.jpg\" st_title=\"UN climate report a ‘red alert’ for the planet: Guterres \" st_url=\"https://news.un.org/en/story/2021/02/1085812\"><span class=\"share-icon-label\"></span></span>\n",
              "<span class=\"st_sharethis_custom\" displaytext=\"sharethis\" st_image=\"https://global.unitednations.entermediadb.net/assets/mediadb/services/module/asset/downloads/preset/Libraries/Production+Library/16-01-2020-ZIM_20191203_WFP-Matteo_Cosorich_9596.jpg/image1024x768.jpg\" st_title=\"UN climate report a ‘red alert’ for the planet: Guterres \" st_url=\"https://news.un.org/en/story/2021/02/1085812\"><span class=\"share-icon-label\"></span></span>\n",
              "</div>\n",
              "</section>\n",
              "</div>\n",
              "</div>\n",
              "<div class=\"row body-container\">\n",
              "<section class=\"col-sm-9\">\n",
              "<a id=\"main-content\"></a>\n",
              "<section class=\"block block-system clearfix\" id=\"block-system-main\">\n",
              "<div about=\"/en/story/2021/02/1085812\" class=\"node node-news-story node-full clearfix\" id=\"node-1085812\" typeof=\"sioc:Item foaf:Document\">\n",
              "<div class=\"content\">\n",
              "<div class=\"field field-name-field-news-date field-type-datetime field-label-hidden\"><div class=\"field-items\"><div class=\"field-item even\"><span class=\"date-display-single\" content=\"2021-02-26T00:00:00-05:00\" datatype=\"xsd:dateTime\" property=\"dc:date\">26 February 2021</span></div></div></div><div class=\"field field-name-field-news-topics field-type-entityreference field-label-hidden\"><div class=\"field-items\"><div class=\"field-item even\"><a href=\"/en/news/topic/climate-change\">Climate and Environment</a></div></div></div><div class=\"field field-name-field-news-story-lead field-type-text-long field-label-hidden\"><div class=\"field-items\"><div class=\"field-item even\"><p>Nations are “nowhere close” to the level of action needed to fight global warming, a UN climate action report said on Friday, urging countries to adopt stronger and more ambitious plans to reach the Paris Agreement goals, and limit the temperature rise to 1.5 degrees Celsius, by the end of the century. </p>\n",
              "</div></div></div>\n",
              "<div class=\"paragraphs-items paragraphs-items-field-news-story paragraphs-items-field-news-story-full paragraphs-items-full\">\n",
              "<div class=\"field field-name-field-news-story field-type-paragraphs field-label-hidden\"><div class=\"field-items\"><div class=\"field-item even\"><div about=\"\" class=\"entity entity-paragraphs-item paragraphs-item-one-column-text\" typeof=\"\">\n",
              "<div class=\"content\">\n",
              "<div class=\"field field-name-field-text-column field-type-text-long field-label-hidden\"><div class=\"field-items\"><div class=\"field-item even\"><p>The UN Framework Convention on Climate Change (<a class=\"word-link\" href=\"https://unfccc.int/\" target=\"_blank\" title=\"UN Framework Convention on Climate Change\">UNFCCC</a>)’s Initial NDC Synthesis Report measures the progress of national climate action plans, known as <a class=\"word-link\" href=\"https://unfccc.int/process-and-meetings/the-paris-agreement/the-paris-agreement/nationally-determined-contributions-ndcs\" target=\"_blank\">Nationally Determined Contributions</a> or NDCs, ahead of the 26th session of <a class=\"word-link\" href=\"https://unfccc.int/process/bodies/supreme-bodies/conference-of-the-parties-cop\" target=\"_blank\">Conference of its Parties</a> (<a class=\"word-link\" href=\"https://unfccc.int/process-and-meetings/conferences/glasgow-climate-change-conference\" target=\"_blank\">COP26</a>) this November in Glasgow. </p>\n",
              "<p>It found that even with increased efforts by some countries, the combined impact falls far short of what is needed. </p>\n",
              "<p>“Today’s interim report from the UNFCCC is a red alert for our planet. It shows governments are nowhere close to the level of ambition needed to limit climate change to 1.5 degrees and meet the goals of the <a class=\"word-link\" href=\"https://unfccc.int/process-and-meetings/the-paris-agreement/the-paris-agreement\" target=\"_blank\" title=\"The 2015 Paris Agreement\">Paris Agreement</a>”, <a class=\"word-link\" href=\"https://www.un.org/sg/\" target=\"_blank\" title=\"António Guterres, Secretary-General of the United Nations\">Secretary-General António Guterres</a> said on the report’s findings. </p>\n",
              "<h3>2021, a ‘make or break’ year </h3>\n",
              "<p>He said 2021 is a “make or break year” to confront the global climate emergency.  </p>\n",
              "<p>“The science is clear, to limit global temperature rise to 1.5 degrees Celsius, we must cut global emission by 45 per cent by 2030, from 2010 levels”, he stressed. </p>\n",
              "<p>The Secretary-General called on major emitters to “step up with much more ambitious emissions reductions” targets for 2030 in their NDCs, highlighting that <a class=\"word-link\" href=\"https://www.un.org/coronavirus\" target=\"_blank\" title=\"Coronavirus disease (COVID-19)\">COVID-19</a> recovery plans offered the opportunity to “build back greener and cleaner”. </p>\n",
              "<p>“Decision makers must walk the talk. Long-term commitments must be matched by immediate actions to launch the decade of transformation that people and planet so desperately need”, Mr. Guterres urged. </p>\n",
              "<h3>Report, a ‘snapshot, not a full picture’ </h3>\n",
              "<p>The UNFCCC report covered submissions from countries up to 31 December 2020, showing that 75 Parties to the Framework Convention communicated a new or updated NDC, representing approximately 30 per cent of global greenhouse gas emissions. </p>\n",
              "<p>Patricia Espinosa, UNFCCC Executive Secretary, said that the report is a “snapshot, not a full picture” of the NDCs as COVID-19 posed significant challenges for many nations to complete their submissions in 2020.  </p>\n",
              "<p>She added that a second report will be released prior to COP26, and called on all countries, especially major emitters that have not yet done so, to make their submissions as soon as possible, so that their information can be included in the updated report. </p>\n",
              "<p>“We congratulate Parties that rose to the challenges posed by COVID-19 in 2020, honoured their commitments under the Paris Agreement and submitted their NDCs by the deadline … but it’s time for all remaining Parties to step up, fulfil what they promised to do and submit their NDCs as soon as possible”, Ms. Espinosa said. </p>\n",
              "<p>“If this task was urgent before, it’s crucial now.” </p>\n",
              "</div></div></div> </div>\n",
              "</div>\n",
              "</div></div></div></div>\n",
              "</div>\n",
              "</div>\n",
              "</section>\n",
              "<section class=\"block block-nodeblock clearfix\" id=\"block-nodeblock-1029762\">\n",
              "<div about=\"/en/content/content-footer\" class=\"node node-promo-banner node-full clearfix\" id=\"node-1029762\" typeof=\"sioc:Item foaf:Document\">\n",
              "<span class=\"rdf-meta element-hidden\" content=\"Content Footer\" property=\"dc:title\"></span>\n",
              "<div class=\"content\">\n",
              "<div class=\"field field-name-body field-type-text-with-summary field-label-hidden\"><div class=\"field-items\"><div class=\"field-item even\" property=\"content:encoded\"><h2 class=\"block-title\"> </h2>\n",
              "<div class=\"panel panel-info\">\n",
              "<div class=\"panel-footer\">\n",
              "<h3><strong>Take our 2021 UN News survey!</strong></h3>\n",
              "<p><strong>Click <a href=\"https://www.research.net/r/2021_UNNews\">here </a>to let us know what you think about <em>UN News</em> : The survey takes only 4 minutes! </strong>\n",
              "</p></div>\n",
              "<div class=\"panel-heading\">♦ Receive daily updates directly in your inbox - <a href=\"http://web.archive.org/web/20210411042125/https://news.un.org/en/content/un-newsletter-subscribe?utm_source=UN News&amp;utm_medium=email&amp;utm_campaign=un_news_newsletter\"><strong>Subscribe here</strong></a> to a topic.</div>\n",
              "<div class=\"panel-heading\">♦ Download the UN News app for your <a href=\"http://web.archive.org/web/20210411042125/https://itunes.apple.com/us/app/un-news-reader/id496893005?mt=8\"><strong>iOS</strong></a> or <a href=\"http://web.archive.org/web/20210411042125/https://play.google.com/store/apps/details?id=org.un.mobile.news&amp;hl=en\"><strong>Android</strong></a> devices.</div>\n",
              "</div>\n",
              "</div></div></div> </div>\n",
              "</div>\n",
              "</section>\n",
              "<section class=\"block block-views clearfix\" id=\"block-views-story-story-tags-block\">\n",
              "<div class=\"view view-story view-id-story view-display-id-story_tags_block story-tags view-dom-id-11306c2d7d17545f58574286f37df973\">\n",
              "<div class=\"view-content\">\n",
              "<div class=\"views-row views-row-1 views-row-odd views-row-first views-row-last\">\n",
              "<div> <div><a datatype=\"\" href=\"/en/tags/climate-action\" property=\"rdfs:label skos:prefLabel\" typeof=\"skos:Concept\">climate action</a></div> </div> </div>\n",
              "</div>\n",
              "</div>\n",
              "</section>\n",
              "</section>\n",
              "<aside class=\"col-sm-3 sidebar sidebar-second\">\n",
              "<section class=\"block block-views clearfix\" id=\"block-views-b264f1f0404c604764b6fabf16396e35\">\n",
              "<h2 class=\"block-title\">Related Stories</h2>\n",
              "<div class=\"view view-story-related-stories view-id-story_related_stories view-display-id-story_related_stories_block story-related-stories teaser-image-small view-dom-id-ee4256be62df1f269d3a5f8bf9232bf9\">\n",
              "<div class=\"view-content\">\n",
              "<div class=\"views-row views-row-1 views-row-odd views-row-first\">\n",
              "<div class=\"story-block clearfix\">\n",
              "<div class=\"story-photo pull-left\"><a href=\"https://news.un.org/en/story/2021/01/1082072\"><!-- scald=677492:un_news_small --><img class=\"img-responsive\" height=\"\" src=\"https://global.unitednations.entermediadb.net/assets/mediadb/services/module/asset/downloads/preset/Libraries/Production+Library/13-01-2021_CIFOR_Tanzania.jpg/image100x100cropped.jpg\" title=\"Workers pick tea in Tanzania. Changes in the climate have affected crops such as tea, across the world.\" width=\"\"/><!-- END scald=677492 --></a></div>\n",
              "<h1 class=\"story-title\"><a href=\"https://news.un.org/en/story/2021/01/1082072\">Step up action and adapt to 'new climate reality', UN environment report urges</a></h1>\n",
              "</div> </div>\n",
              "<div class=\"views-row views-row-2 views-row-even\">\n",
              "<div class=\"story-block clearfix\">\n",
              "<div class=\"story-photo pull-left\"><a href=\"https://news.un.org/en/story/2019/09/1046752\"><!-- scald=599602:un_news_small --><img class=\"img-responsive\" height=\"\" src=\"https://global.unitednations.entermediadb.net/assets/mediadb/services/module/asset/downloads/preset/Libraries/Production+Library/18-09-2019_UNDP_Belarus.jpg/image100x100cropped.jpg\" title=\"In Belarus, peat bogs are being revitalized and act as effective carbon sinks. \" width=\"\"/><!-- END scald=599602 --></a></div>\n",
              "<h1 class=\"story-title\"><a href=\"https://news.un.org/en/story/2019/09/1046752\">Nature ‘one of most effective ways’ of combatting climate change</a></h1>\n",
              "</div> </div>\n",
              "<div class=\"views-row views-row-3 views-row-odd views-row-last\">\n",
              "<div class=\"story-block clearfix\">\n",
              "<div class=\"story-photo pull-left\"><a href=\"https://news.un.org/en/story/2018/10/1024112\"><!-- scald=554552:un_news_small --><img class=\"img-responsive\" height=\"\" src=\"https://global.unitednations.entermediadb.net/assets/mediadb/services/module/asset/downloads/preset/assets/2018/10/25-10-2018-NICA-OSLO-PALACE-637392.jpg/image100x100cropped.jpg\" title=\"Royal Palace in Oslo, Norway.\" width=\"\"/><!-- END scald=554552 --></a></div>\n",
              "<h1 class=\"story-title\"><a href=\"https://news.un.org/en/story/2018/10/1024112\">Oslo leads the way in ‘Breathe Life’ campaign for cleaner cities in climate change era </a></h1>\n",
              "</div> </div>\n",
              "</div>\n",
              "</div>\n",
              "</section>\n",
              "</aside> <!-- /#sidebar-second -->\n",
              "</div>\n",
              "</div>\n",
              "<div class=\"container social-media\">\n",
              "<div class=\"col-md-12 closure\">\n",
              "<section class=\"block block-block clearfix\" id=\"block-block-5\">\n",
              "<ul><li class=\"facebook\"><a href=\"https://www.facebook.com/UN.News.Centre/\">Facebook</a></li>\n",
              "<li class=\"twitter\"><a href=\"https://twitter.com/un_news_centre\">Twitter</a></li>\n",
              "<li class=\"youtube\"><a href=\"https://www.youtube.com/user/unitednations/\">YouTube</a></li>\n",
              "<li class=\"flickr\"><a href=\"https://www.flickr.com/photos/un_photo/\">Flickr</a></li>\n",
              "<li class=\"instagram\"><a href=\"https://www.instagram.com/unitednations/\">Instagram</a></li>\n",
              "<li class=\"pinterest\"><a href=\"https://www.pinterest.com/unitednations/\">Pinterest</a></li>\n",
              "<li class=\"soundcloud\"><a href=\"https://soundcloud.com/unradio\">Soundcloud</a></li>\n",
              "<li class=\"itunes\"><a href=\"https://podcasts.apple.com/us/podcast/un-news/id304114245?mt=2&amp;app=podcast\">Podcast</a></li>\n",
              "<li class=\"more\"><a href=\"https://www.un.org/en/sections/about-website/un-social-media/\">The UN on Social Media</a></li>\n",
              "</ul>\n",
              "</section>\n",
              "</div>\n",
              "</div>\n",
              "<div class=\"container\">\n",
              "<section class=\"col-xs-12 col-md-12\">\n",
              "<div class=\"row sections-row\">\n",
              "<section class=\"block block-views clearfix\" id=\"block-views-story-story-news-tracker-block\">\n",
              "<h2 class=\"block-title\">News Tracker: Past Stories on This Issue</h2>\n",
              "<div class=\"view view-story view-id-story view-display-id-story_news_tracker_block story-news-tracker-block teaser view-dom-id-d270282ce9d357cc6e43c4329e35bec5\">\n",
              "<div class=\"view-content\">\n",
              "<div class=\"views-row views-row-1 views-row-odd views-row-first views-row-last clearfix\">\n",
              "<div class=\"views-field views-field-nothing\"> <span class=\"field-content\"><div class=\"story-photo pull-left\"><!-- scald=679632:un_news_medium {\"link\":\"node\\/1083062\"} --><a href=\"/en/story/2021/01/1083062\"><img class=\"img-responsive\" height=\"150px\" src=\"https://global.unitednations.entermediadb.net/assets/mediadb/services/module/asset/downloads/preset/Libraries/Production+Library/22-06-2020-UNDP-Mauritius-01.jpg/image300x180cropped.jpg\" title=\"A thermal power plant in Port Louis, Mauritius is contributing to greenhouse gas emissions on the Indian Ocean island.\" width=\"247px\"/></a><!-- END scald=679632 --></div>\n",
              "<div class=\"body-wrapper\">\n",
              "<h1 class=\"story-title\"><a href=\"/en/story/2021/01/1083062\">Climate change is a ‘global emergency’, people say in biggest ever climate poll</a></h1>\n",
              "<div class=\"story-date pull-left\"><span class=\"date-display-single\" content=\"2021-01-27T00:00:00-05:00\" datatype=\"xsd:dateTime\" property=\"dc:date\">27 January 2021</span></div>\n",
              "<div class=\"topics\"><a href=\"/en/news/topic/climate-change\">Climate and Environment</a></div>\n",
              "<div class=\"news-body\"><p>Almost two-thirds of over 1.2 million people surveyed worldwide say that climate change is a global emergency, urging greater action to address the crisis, results from a new UN climate survey revealed on Wednesday. </p>\n",
              "</div>\n",
              "</div>\n",
              "</span> </div> </div>\n",
              "</div>\n",
              "</div>\n",
              "</section>\n",
              "</div>\n",
              "</section>\n",
              "</div>\n",
              "<footer class=\"footer container\">\n",
              "<div class=\"row\">\n",
              "<section class=\"col-xs-12 col-md-12\">\n",
              "<div class=\"row\">\n",
              "<section class=\"block block-unnews-blocks col-md-3 clearfix\" id=\"block-unnews-blocks-unnews-footer-about-us\">\n",
              "<h2 class=\"block-title\">Resources</h2>\n",
              "<div class=\"menu-block-wrapper menu-block-unnews_footer_about_us menu-name-menu-footer-menu parent-mlid-2342 menu-level-1\">\n",
              "<ul class=\"menu nav\"><li class=\"first leaf menu-mlid-2364\"><a href=\"/en/content/navigate-news\">Navigate the News</a></li>\n",
              "<li class=\"leaf menu-mlid-2352\"><a href=\"/en/content/information-broadcasters\">Information for Broadcasters</a></li>\n",
              "<li class=\"leaf menu-mlid-2353\"><a href=\"/en/content/un-system-links\">UN System Links</a></li>\n",
              "<li class=\"leaf menu-mlid-2354\"><a href=\"http://www.un.org/en/media/accreditation/alert.shtml\">Media Alert</a></li>\n",
              "<li class=\"leaf menu-mlid-2355\"><a href=\"https://journal.un.org/\">UN Journal</a></li>\n",
              "<li class=\"leaf menu-mlid-2357\"><a href=\"https://www.un.org/press/en/content/meetings-coverage/\">Meetings Coverage</a></li>\n",
              "<li class=\"last leaf menu-mlid-2358\"><a href=\"http://www.unmultimedia.org/avlibrary/\">Audiovisual Library</a></li>\n",
              "</ul></div>\n",
              "</section>\n",
              "<section class=\"block block-unnews-blocks col-md-3 clearfix\" id=\"block-unnews-blocks-unnews-footer-media-partners\">\n",
              "<h2 class=\"block-title\">Secretary-General</h2>\n",
              "<div class=\"menu-block-wrapper menu-block-unnews_footer_media_partners menu-name-menu-footer-menu parent-mlid-2340 menu-level-1\">\n",
              "<ul class=\"menu nav\"><li class=\"first leaf menu-mlid-2344\"><a href=\"https://www.un.org/sg/en/content/sg/secretary-generals-speeches\">All Statements</a></li>\n",
              "<li class=\"leaf menu-mlid-2346\"><a href=\"https://www.un.org/sg/en/content/travels\">Official Travels</a></li>\n",
              "<li class=\"leaf menu-mlid-2345\"><a href=\"https://www.un.org/sg/en/content/sg/press-encounters\">Press Encounters</a></li>\n",
              "<li class=\"last leaf menu-mlid-2347\"><a href=\"https://twitter.com/antonioguterres?lang=en\">SG Twitter</a></li>\n",
              "</ul></div>\n",
              "</section>\n",
              "<section class=\"block block-unnews-blocks col-md-3 clearfix\" id=\"block-unnews-blocks-unnews-footer-media-resources\">\n",
              "<h2 class=\"block-title\">Spokesperson's Office</h2>\n",
              "<div class=\"menu-block-wrapper menu-block-unnews_footer_media_resources menu-name-menu-footer-menu parent-mlid-2341 menu-level-1\">\n",
              "<ul class=\"menu nav\"><li class=\"first leaf menu-mlid-2348\"><a href=\"https://www.un.org/sg/en/spokesperson\">Latest Statements</a></li>\n",
              "<li class=\"leaf menu-mlid-2349\"><a href=\"https://www.un.org/sg/en/content/ossg/noon-briefing-highlight\">Briefing Highlights</a></li>\n",
              "<li class=\"leaf menu-mlid-2350\"><a href=\"http://www.un.org/press/en/content/noon-briefings\">Briefing Transcripts</a></li>\n",
              "<li class=\"last leaf menu-mlid-2351\"><a href=\"https://www.un.org/sg/en/content/sg/notes-correspondents\">Notes to Correspondents</a></li>\n",
              "</ul></div>\n",
              "</section>\n",
              "<section class=\"block block-unnews-blocks col-md-3 clearfix\" id=\"block-unnews-blocks-unnews-footer-meeting-coverage\">\n",
              "<h2 class=\"block-title\">Find Us</h2>\n",
              "<div class=\"menu-block-wrapper menu-block-unnews_footer_meeting_coverage menu-name-menu-footer-menu parent-mlid-2343 menu-level-1\">\n",
              "<ul class=\"menu nav\"><li class=\"first leaf menu-mlid-48871\"><a href=\"/en/content/un-news-go\">UN News App</a></li>\n",
              "<li class=\"leaf menu-mlid-2362\"><a href=\"https://www.facebook.com/UN.News.Centre\">Facebook</a></li>\n",
              "<li class=\"leaf menu-mlid-2361\"><a href=\"https://twitter.com/UN_News_Centre\">Twitter</a></li>\n",
              "<li class=\"leaf menu-mlid-2363\"><a href=\"https://www.youtube.com/user/unitednations\">YouTube</a></li>\n",
              "<li class=\"leaf menu-mlid-2360\"><a href=\"/en/rss-feeds\">RSS</a></li>\n",
              "<li class=\"last leaf menu-mlid-2359\"><a href=\"/en/contact\">Contact UN News</a></li>\n",
              "</ul></div>\n",
              "</section>\n",
              "</div>\n",
              "</section> <!-- /.block -->\n",
              "</div>\n",
              "<div class=\"row list-inline footer-brand\" id=\"block-menu-footer-links\">\n",
              "<div class=\"col-md-12\">\n",
              "<div class=\"pull-left flip footer-emblem\">\n",
              "<a href=\"/en/\" title=\"United Nations\"><span class=\"site-name\">United Nations</span></a>\n",
              "</div>\n",
              "<div class=\"pull-right flip\"><ul class=\"nav-bar list-inline\"><li class=\"menu-681 first\"><a href=\"https://www.un.org/en/sections/about-website/z-site-index/index.html\">A-Z Site Index</a></li>\n",
              "<li class=\"menu-686\"><a href=\"https://www.un.org/en/sections/about-website/copyright/index.html\">Copyright</a></li>\n",
              "<li class=\"menu-690\"><a href=\"https://www.un.org/en/sections/about-un/frequently-asked-questions/index.html\">FAQ</a></li>\n",
              "<li class=\"menu-689\"><a href=\"https://www.un.org/en/sections/about-website/fraud-alert/index.html\">Fraud Alert</a></li>\n",
              "<li class=\"menu-688\"><a href=\"https://www.un.org/en/sections/about-website/privacy-notice/index.html\">Privacy Notice</a></li>\n",
              "<li class=\"menu-687 last\"><a href=\"https://www.un.org/en/sections/about-website/terms-use/index.html\">Terms of Use</a></li>\n",
              "</ul></div>\n",
              "</div>\n",
              "</div>\n",
              "</footer> <script src=\"https://news.un.org/en/sites/news.un.org.en/files/js/js_7Ukqb3ierdBEL0eowfOKzTkNu-Le97OPm-UqTS5NENU.js\"></script>\n",
              "<script src=\"https://news.un.org/en/sites/news.un.org.en/files/js/js_X5HT2CvWvPgzklCXpfeoVpo9cXrHdyVsmqd2oSrF4DE.js\"></script>\n",
              "<script src=\"https://platform.twitter.com/widgets.js\"></script>\n",
              "<script src=\"https://news.un.org/en/sites/news.un.org.en/files/js/js_MRdvkC2u4oGsp5wVxBG1pGV5NrCPW3mssHxIn6G9tGE.js\"></script>\n",
              "</body>\n",
              "</html>"
            ]
          },
          "metadata": {
            "tags": []
          },
          "execution_count": 1
        }
      ]
    },
    {
      "cell_type": "markdown",
      "metadata": {
        "id": "qXCwxrw7Pemx"
      },
      "source": [
        "2\\. Get the title text of the webpage '*UN climate report a ‘red alert’ for the planet: Guterres | | UN News*'. Do not confuse with the title of the article. Note that you must get only the title text, not the title element. "
      ]
    },
    {
      "cell_type": "code",
      "metadata": {
        "id": "ujDfbCK9Pemx",
        "colab": {
          "base_uri": "https://localhost:8080/",
          "height": 35
        },
        "outputId": "42475b6e-c3cd-42aa-ed6d-7eb0522c8bb8"
      },
      "source": [
        "# Your answer here\n",
        "soup.title.text"
      ],
      "execution_count": null,
      "outputs": [
        {
          "output_type": "execute_result",
          "data": {
            "application/vnd.google.colaboratory.intrinsic+json": {
              "type": "string"
            },
            "text/plain": [
              "'UN climate report a ‘red alert’ for the planet: Guterres | | UN News'"
            ]
          },
          "metadata": {
            "tags": []
          },
          "execution_count": 2
        }
      ]
    },
    {
      "cell_type": "markdown",
      "metadata": {
        "id": "aEV_g9eJPemx"
      },
      "source": [
        "3\\. Get the title text of the article '<i>UN climate report a ‘red alert’ for the planet: Guterres </i>'. "
      ]
    },
    {
      "cell_type": "code",
      "metadata": {
        "id": "yzAzVWM7Pemy",
        "colab": {
          "base_uri": "https://localhost:8080/",
          "height": 35
        },
        "outputId": "2cb5b904-6681-48a2-d5d5-e34c65ea237d"
      },
      "source": [
        "# Your answer here\n",
        "soup.find(name=\"h1\", attrs={\"class\":\"story-title\"}).text"
      ],
      "execution_count": null,
      "outputs": [
        {
          "output_type": "execute_result",
          "data": {
            "application/vnd.google.colaboratory.intrinsic+json": {
              "type": "string"
            },
            "text/plain": [
              "'UN climate report a ‘red alert’ for the planet: Guterres '"
            ]
          },
          "metadata": {
            "tags": []
          },
          "execution_count": 13
        }
      ]
    },
    {
      "cell_type": "markdown",
      "metadata": {
        "id": "Iy3WKemfPemy"
      },
      "source": [
        "4\\. Now, you want to find the img element defining the large featured image right below the article title. After identifying the img element using the Inspect feature, you probably want to find it using its class name. Try that now and learn it is not the img element you are looking for. "
      ]
    },
    {
      "cell_type": "code",
      "metadata": {
        "scrolled": true,
        "id": "EqeH9kGkPemy",
        "colab": {
          "base_uri": "https://localhost:8080/"
        },
        "outputId": "61baf4a3-0481-4400-cb4d-2d46ef519d12"
      },
      "source": [
        "# Your answer here\n",
        "soup.find(\"img\", {\"class\":\"img-responsive\"}) #역시 다릅니다!"
      ],
      "execution_count": null,
      "outputs": [
        {
          "output_type": "execute_result",
          "data": {
            "text/plain": [
              "<img alt=\"Home\" class=\"img-responsive\" src=\"/en/sites/all/themes/bootstrap_un_wss/images/logo.svg\"/>"
            ]
          },
          "metadata": {
            "tags": []
          },
          "execution_count": 23
        }
      ]
    },
    {
      "cell_type": "markdown",
      "metadata": {
        "id": "_vBhw-GFPemz"
      },
      "source": [
        "5\\. This indicates that there are more than one img elements with the same class name. Now that you are aware of it, you would better find its parent/ancestor element that contains the img element you are searching for. The div element with the class name, '*featured-media*', should be the best for that. Find the div element. "
      ]
    },
    {
      "cell_type": "code",
      "metadata": {
        "scrolled": true,
        "id": "7h2kJiopPemz",
        "colab": {
          "base_uri": "https://localhost:8080/"
        },
        "outputId": "cc46a4c6-cc88-4ad7-c194-720d4e19758b"
      },
      "source": [
        "# Your answer here\n",
        "soup.find(\"div\", {\"class\":\"featured-media\"})"
      ],
      "execution_count": null,
      "outputs": [
        {
          "output_type": "execute_result",
          "data": {
            "text/plain": [
              "<div class=\"featured-media\"><!-- scald=685362:un_news_full_width -->\n",
              "<picture>\n",
              "<!--[if IE 9]><video style=\"display: none;\"><![endif]-->\n",
              "<source media=\"(max-width : 480px)\" srcset=\"https://global.unitednations.entermediadb.net/assets/mediadb/services/module/asset/downloads/preset/Libraries/Production+Library/16-01-2020-ZIM_20191203_WFP-Matteo_Cosorich_9596.jpg/image300x180cropped.jpg\"/>\n",
              "<source media=\"(max-width : 768px)\" srcset=\"https://global.unitednations.entermediadb.net/assets/mediadb/services/module/asset/downloads/preset/Libraries/Production+Library/16-01-2020-ZIM_20191203_WFP-Matteo_Cosorich_9596.jpg/image770x420cropped.jpg\"/>\n",
              "<!--[if IE 9]></video><![endif]-->\n",
              "<img class=\"img-responsive\" height=\"\" src=\"https://global.unitednations.entermediadb.net/assets/mediadb/services/module/asset/downloads/preset/Libraries/Production+Library/16-01-2020-ZIM_20191203_WFP-Matteo_Cosorich_9596.jpg/image1170x530cropped.jpg\" title=\"Global temperature rise could lead to more frequent and more intense extreme weather events, such as prolonged droughts or devastating floods. \" width=\"100%\">\n",
              "</img></picture><div class=\"field-name-field-scald-photo-credit field field-name-scald-authors field-type-taxonomy-term-reference field-label-hidden\"><span class=\"un-news-full-width scald-credit\">WFP/Matteo Cosorich</span></div><div class=\"field-name-field-scald-photo-caption field field-name-field-title field-type-text field-label-hidden\"><span class=\"un-news-full-width scald-caption\">Global temperature rise could lead to more frequent and more intense extreme weather events, such as prolonged droughts or devastating floods. </span></div><!-- END scald=685362 --></div>"
            ]
          },
          "metadata": {
            "tags": []
          },
          "execution_count": 24
        }
      ]
    },
    {
      "cell_type": "markdown",
      "metadata": {
        "id": "5ggZsGH9Pemz"
      },
      "source": [
        "6\\. Examining the HTML code inside the div element above, you should see there is only one img element in it, which is exactly what you have been looking for. Find the img element. "
      ]
    },
    {
      "cell_type": "code",
      "metadata": {
        "id": "pX4WHM33Pemz",
        "colab": {
          "base_uri": "https://localhost:8080/"
        },
        "outputId": "0da002fe-47de-4730-9b0e-baf2d60ae424"
      },
      "source": [
        "# Your answer here\n",
        "soup.find(\"div\", {\"class\":\"featured-media\"}).find(\"img\")"
      ],
      "execution_count": null,
      "outputs": [
        {
          "output_type": "execute_result",
          "data": {
            "text/plain": [
              "<img class=\"img-responsive\" height=\"\" src=\"https://global.unitednations.entermediadb.net/assets/mediadb/services/module/asset/downloads/preset/Libraries/Production+Library/16-01-2020-ZIM_20191203_WFP-Matteo_Cosorich_9596.jpg/image1170x530cropped.jpg\" title=\"Global temperature rise could lead to more frequent and more intense extreme weather events, such as prolonged droughts or devastating floods. \" width=\"100%\">\n",
              "</img>"
            ]
          },
          "metadata": {
            "tags": []
          },
          "execution_count": 25
        }
      ]
    },
    {
      "cell_type": "markdown",
      "metadata": {
        "id": "lRLAH9MgPem0"
      },
      "source": [
        "*** Note: you may want to find it by searching for all img elements and then simply taking the third element, which should work at least for this page. This approach, however, is not recommended because, when you want to apply the same code to other pages, there is no guarantee that the target image is always the third image in the page. Finding an element using its attributes is preferred over that using its relative position. "
      ]
    },
    {
      "cell_type": "code",
      "metadata": {
        "id": "Nv34ytWFPem0",
        "colab": {
          "base_uri": "https://localhost:8080/"
        },
        "outputId": "d7ff44df-5957-42f1-82d9-49d97c763f42"
      },
      "source": [
        "soup.find_all(\"img\")[2]"
      ],
      "execution_count": null,
      "outputs": [
        {
          "output_type": "execute_result",
          "data": {
            "text/plain": [
              "<img class=\"img-responsive\" height=\"\" src=\"https://global.unitednations.entermediadb.net/assets/mediadb/services/module/asset/downloads/preset/Libraries/Production+Library/16-01-2020-ZIM_20191203_WFP-Matteo_Cosorich_9596.jpg/image1170x530cropped.jpg\" title=\"Global temperature rise could lead to more frequent and more intense extreme weather events, such as prolonged droughts or devastating floods. \" width=\"100%\">\n",
              "</img>"
            ]
          },
          "metadata": {
            "tags": []
          },
          "execution_count": 29
        }
      ]
    },
    {
      "cell_type": "markdown",
      "metadata": {
        "id": "Aa0i3reUPem0"
      },
      "source": [
        "7\\. Extract the URL of the image and save it in the `img_url` variable. "
      ]
    },
    {
      "cell_type": "code",
      "metadata": {
        "id": "jgam78liPem0"
      },
      "source": [
        "# Your answer here\n",
        "img_url=soup.find(\"div\", {\"class\":\"featured-media\"}).find(\"img\")[\"src\"]"
      ],
      "execution_count": null,
      "outputs": []
    },
    {
      "cell_type": "code",
      "metadata": {
        "id": "CIdwRp7dPem1",
        "colab": {
          "base_uri": "https://localhost:8080/"
        },
        "outputId": "29c58b4a-c2a8-4f82-df77-7bacca9f7752"
      },
      "source": [
        "# Check your answer here. (Do not make any change to this cell. Just run this cell.)\n",
        "print(img_url)"
      ],
      "execution_count": null,
      "outputs": [
        {
          "output_type": "stream",
          "text": [
            "https://global.unitednations.entermediadb.net/assets/mediadb/services/module/asset/downloads/preset/Libraries/Production+Library/16-01-2020-ZIM_20191203_WFP-Matteo_Cosorich_9596.jpg/image1170x530cropped.jpg\n"
          ],
          "name": "stdout"
        }
      ]
    },
    {
      "cell_type": "markdown",
      "metadata": {
        "id": "PGuyv7taPem1"
      },
      "source": [
        "8\\. Using a regular expression, extract, from `img_url`, the image file name that is located after the last slash ('/') in the URL and ends with '*.jpg*'."
      ]
    },
    {
      "cell_type": "code",
      "metadata": {
        "id": "m6GKZde4Pem1",
        "colab": {
          "base_uri": "https://localhost:8080/",
          "height": 35
        },
        "outputId": "e82f72be-1fc6-48d2-fa55-9e219b9cc10e"
      },
      "source": [
        "# Your answer here\n",
        "import re\n",
        "regex = re.compile(r'(.*)/(.*).jpg')\n",
        "title_search = regex.search(img_url)\n",
        "if title_search:\n",
        "    img_url_jpg = title_search.group(2)+\".jpg\"\n",
        "img_url_jpg"
      ],
      "execution_count": null,
      "outputs": [
        {
          "output_type": "execute_result",
          "data": {
            "application/vnd.google.colaboratory.intrinsic+json": {
              "type": "string"
            },
            "text/plain": [
              "'image1170x530cropped.jpg'"
            ]
          },
          "metadata": {
            "tags": []
          },
          "execution_count": 47
        }
      ]
    },
    {
      "cell_type": "markdown",
      "metadata": {
        "id": "y5F_UrF6Pem1"
      },
      "source": [
        "9\\. Fetch the content of the image and save the image in the `outcome` folder using the image file name you got from Q8. "
      ]
    },
    {
      "cell_type": "code",
      "metadata": {
        "id": "NdtI_EcFjzz2",
        "colab": {
          "base_uri": "https://localhost:8080/"
        },
        "outputId": "cad1eb4c-e0e2-4e88-8043-2c76b61ae921"
      },
      "source": [
        "from google.colab import drive\n",
        "\n",
        "drive.mount('/content/gdrive')\n",
        "path = \"/content/gdrive/Shareddrives/SW_Coaching_for_Python\"\n",
        "my_folder = \"SYC\"     # *** REPLACE WITH YOUR FOLDER NAME ***\n",
        "outcome_folder = \"{}/{}/outcome\".format(path, my_folder)"
      ],
      "execution_count": null,
      "outputs": [
        {
          "output_type": "stream",
          "text": [
            "Mounted at /content/gdrive\n"
          ],
          "name": "stdout"
        }
      ]
    },
    {
      "cell_type": "code",
      "metadata": {
        "id": "oeERaDOkPem1"
      },
      "source": [
        "# Your answer here\n",
        "import os\n",
        "\n",
        "if not os.path.isdir(outcome_folder):         # Check if there is an existing directory named outcome.\n",
        "    os.mkdir(outcome_folder) \n",
        "\n",
        "r = requests.get(img_url)\n",
        "\n",
        "with open((\"{}/\"+img_url_jpg).format(outcome_folder), \"w+b\") as fw: #b모드는 멀티미디어 파일일때 꼭 필요\n",
        "    fw.write(r.content)"
      ],
      "execution_count": null,
      "outputs": []
    },
    {
      "cell_type": "markdown",
      "metadata": {
        "id": "8HTRET0KPem1"
      },
      "source": [
        "10\\. Display the image. "
      ]
    },
    {
      "cell_type": "code",
      "metadata": {
        "id": "jAxXHSlzPem2",
        "colab": {
          "base_uri": "https://localhost:8080/",
          "height": 396
        },
        "outputId": "4dc4ef77-b0dc-4783-9b1e-ac6e928f0cf9"
      },
      "source": [
        "# Your answer here\n",
        "Image((\"{}/\"+img_url_jpg).format(outcome_folder))"
      ],
      "execution_count": null,
      "outputs": [
        {
          "output_type": "execute_result",
          "data": {
            "image/jpeg": "[encoded data removed]",
            "text/plain": [
              "<IPython.core.display.Image object>"
            ]
          },
          "metadata": {
            "tags": []
          },
          "execution_count": 55
        }
      ]
    },
    {
      "cell_type": "markdown",
      "metadata": {
        "id": "JPx8fNmdPem2"
      },
      "source": [
        "11\\. Get the body text of the article, which starts with '*The UN Framework Convention*' and ends with '*it’s crucial now.”*'. Replace all unnecessary new lines ('\\n') in the body text with spaces (' ') and strip out all unnecessary leading and trailing whitespaces."
      ]
    },
    {
      "cell_type": "code",
      "metadata": {
        "id": "GQGmsgGRPem2",
        "colab": {
          "base_uri": "https://localhost:8080/",
          "height": 431
        },
        "outputId": "2460a1fa-394f-48e5-bc20-0451eaa636ca"
      },
      "source": [
        "# Your answer here\n",
        "soup.find(\"div\", attrs={\"class\": \"field field-name-field-text-column field-type-text-long field-label-hidden\"}).text.replace(\"\\n\", \" \").strip()"
      ],
      "execution_count": null,
      "outputs": [
        {
          "output_type": "execute_result",
          "data": {
            "application/vnd.google.colaboratory.intrinsic+json": {
              "type": "string"
            },
            "text/plain": [
              "'The UN Framework Convention on Climate Change (UNFCCC)’s Initial NDC Synthesis Report measures the progress of national climate action plans, known as Nationally Determined Contributions or NDCs, ahead of the 26th session of Conference of its Parties (COP26) this November in Glasgow.\\xa0 It found that even with increased efforts by\\xa0some\\xa0countries, the combined impact falls far short of what is needed.\\xa0 “Today’s interim report from the UNFCCC is a red alert for our planet. It shows governments are nowhere close to the level of ambition needed to limit climate change to 1.5 degrees and meet the goals of the Paris Agreement”, Secretary-General António Guterres said on the report’s findings.\\xa0 2021, a ‘make or break’\\xa0year\\xa0 He said 2021 is a “make or break year” to confront the global climate emergency. \\xa0 “The science is clear, to limit global temperature rise to 1.5 degrees Celsius, we must cut global emission by 45 per cent by 2030, from 2010 levels”, he stressed.\\xa0 The Secretary-General called on major emitters to “step up with much more ambitious emissions reductions” targets for 2030 in their NDCs, highlighting that COVID-19 recovery plans offered the opportunity to “build back greener and cleaner”.\\xa0 “Decision makers must walk the talk. Long-term commitments must be matched by immediate actions to launch the decade of transformation that people and planet so desperately need”, Mr. Guterres urged.\\xa0 Report, a ‘snapshot, not a full picture’\\xa0 The UNFCCC report covered submissions from countries up to 31 December 2020, showing that 75 Parties to the Framework Convention communicated a new or updated NDC, representing approximately 30 per cent of global greenhouse gas emissions.\\xa0 Patricia Espinosa, UNFCCC Executive Secretary, said that the report is a “snapshot, not a full picture” of the NDCs as COVID-19 posed significant challenges for many nations to complete their submissions in 2020. \\xa0 She added that a second report will be released prior to COP26, and called on all countries, especially major emitters that have not yet done so, to make their submissions as soon as possible, so that their information can be included in the updated report.\\xa0 “We congratulate Parties that rose to the challenges posed by COVID-19 in 2020, honoured their commitments under the Paris Agreement and submitted their NDCs by the deadline … but it’s time for all remaining Parties to step up, fulfil what they promised to do and submit their NDCs as soon as possible”, Ms. Espinosa said.\\xa0 “If this task was urgent before, it’s crucial now.”'"
            ]
          },
          "metadata": {
            "tags": []
          },
          "execution_count": 69
        }
      ]
    },
    {
      "cell_type": "markdown",
      "metadata": {
        "id": "5HwGuxWAPem2"
      },
      "source": [
        "12\\. On the right hand side of the webpage, there is a section entitled '*RELATED STORIES*'. Now, you want to extract the three titles in the section. Find the section element with the value of its id being '*block-views-b264f1f0404c604764b6fabf16396e35*'.  \n",
        "\n",
        "*** Homework: think about why we are trying to find this particular section element among others. "
      ]
    },
    {
      "cell_type": "code",
      "metadata": {
        "id": "ckdl8m0PPem2",
        "colab": {
          "base_uri": "https://localhost:8080/"
        },
        "outputId": "c6bf96c6-2210-4b02-f057-277b20552d8e"
      },
      "source": [
        "# Your answer here\n",
        "soup.find(\"section\", id='block-views-b264f1f0404c604764b6fabf16396e35')"
      ],
      "execution_count": null,
      "outputs": [
        {
          "output_type": "execute_result",
          "data": {
            "text/plain": [
              "<section class=\"block block-views clearfix\" id=\"block-views-b264f1f0404c604764b6fabf16396e35\">\n",
              "<h2 class=\"block-title\">Related Stories</h2>\n",
              "<div class=\"view view-story-related-stories view-id-story_related_stories view-display-id-story_related_stories_block story-related-stories teaser-image-small view-dom-id-ee4256be62df1f269d3a5f8bf9232bf9\">\n",
              "<div class=\"view-content\">\n",
              "<div class=\"views-row views-row-1 views-row-odd views-row-first\">\n",
              "<div class=\"story-block clearfix\">\n",
              "<div class=\"story-photo pull-left\"><a href=\"https://news.un.org/en/story/2021/01/1082072\"><!-- scald=677492:un_news_small --><img class=\"img-responsive\" height=\"\" src=\"https://global.unitednations.entermediadb.net/assets/mediadb/services/module/asset/downloads/preset/Libraries/Production+Library/13-01-2021_CIFOR_Tanzania.jpg/image100x100cropped.jpg\" title=\"Workers pick tea in Tanzania. Changes in the climate have affected crops such as tea, across the world.\" width=\"\"/><!-- END scald=677492 --></a></div>\n",
              "<h1 class=\"story-title\"><a href=\"https://news.un.org/en/story/2021/01/1082072\">Step up action and adapt to 'new climate reality', UN environment report urges</a></h1>\n",
              "</div> </div>\n",
              "<div class=\"views-row views-row-2 views-row-even\">\n",
              "<div class=\"story-block clearfix\">\n",
              "<div class=\"story-photo pull-left\"><a href=\"https://news.un.org/en/story/2019/09/1046752\"><!-- scald=599602:un_news_small --><img class=\"img-responsive\" height=\"\" src=\"https://global.unitednations.entermediadb.net/assets/mediadb/services/module/asset/downloads/preset/Libraries/Production+Library/18-09-2019_UNDP_Belarus.jpg/image100x100cropped.jpg\" title=\"In Belarus, peat bogs are being revitalized and act as effective carbon sinks. \" width=\"\"/><!-- END scald=599602 --></a></div>\n",
              "<h1 class=\"story-title\"><a href=\"https://news.un.org/en/story/2019/09/1046752\">Nature ‘one of most effective ways’ of combatting climate change</a></h1>\n",
              "</div> </div>\n",
              "<div class=\"views-row views-row-3 views-row-odd views-row-last\">\n",
              "<div class=\"story-block clearfix\">\n",
              "<div class=\"story-photo pull-left\"><a href=\"https://news.un.org/en/story/2018/10/1024112\"><!-- scald=554552:un_news_small --><img class=\"img-responsive\" height=\"\" src=\"https://global.unitednations.entermediadb.net/assets/mediadb/services/module/asset/downloads/preset/assets/2018/10/25-10-2018-NICA-OSLO-PALACE-637392.jpg/image100x100cropped.jpg\" title=\"Royal Palace in Oslo, Norway.\" width=\"\"/><!-- END scald=554552 --></a></div>\n",
              "<h1 class=\"story-title\"><a href=\"https://news.un.org/en/story/2018/10/1024112\">Oslo leads the way in ‘Breathe Life’ campaign for cleaner cities in climate change era </a></h1>\n",
              "</div> </div>\n",
              "</div>\n",
              "</div>\n",
              "</section>"
            ]
          },
          "metadata": {
            "tags": []
          },
          "execution_count": 110
        }
      ]
    },
    {
      "cell_type": "markdown",
      "metadata": {
        "id": "fH_9jfwjPem3"
      },
      "source": [
        "13\\. Examining the HTML code inside the section element above, you should see each of the three titles are defined in an a element. Get the list of those three a elements.  "
      ]
    },
    {
      "cell_type": "code",
      "metadata": {
        "id": "eZl3WIPCPem3",
        "colab": {
          "base_uri": "https://localhost:8080/"
        },
        "outputId": "258c2a97-e0bf-4e9c-9e9d-0343f92f4c40"
      },
      "source": [
        "# Your answer here\n",
        "soup.find(\"section\", id='block-views-b264f1f0404c604764b6fabf16396e35').find_all(\"a\")"
      ],
      "execution_count": null,
      "outputs": [
        {
          "output_type": "execute_result",
          "data": {
            "text/plain": [
              "[<a href=\"https://news.un.org/en/story/2021/01/1082072\"><!-- scald=677492:un_news_small --><img class=\"img-responsive\" height=\"\" src=\"https://global.unitednations.entermediadb.net/assets/mediadb/services/module/asset/downloads/preset/Libraries/Production+Library/13-01-2021_CIFOR_Tanzania.jpg/image100x100cropped.jpg\" title=\"Workers pick tea in Tanzania. Changes in the climate have affected crops such as tea, across the world.\" width=\"\"/><!-- END scald=677492 --></a>,\n",
              " <a href=\"https://news.un.org/en/story/2021/01/1082072\">Step up action and adapt to 'new climate reality', UN environment report urges</a>,\n",
              " <a href=\"https://news.un.org/en/story/2019/09/1046752\"><!-- scald=599602:un_news_small --><img class=\"img-responsive\" height=\"\" src=\"https://global.unitednations.entermediadb.net/assets/mediadb/services/module/asset/downloads/preset/Libraries/Production+Library/18-09-2019_UNDP_Belarus.jpg/image100x100cropped.jpg\" title=\"In Belarus, peat bogs are being revitalized and act as effective carbon sinks. \" width=\"\"/><!-- END scald=599602 --></a>,\n",
              " <a href=\"https://news.un.org/en/story/2019/09/1046752\">Nature ‘one of most effective ways’ of combatting climate change</a>,\n",
              " <a href=\"https://news.un.org/en/story/2018/10/1024112\"><!-- scald=554552:un_news_small --><img class=\"img-responsive\" height=\"\" src=\"https://global.unitednations.entermediadb.net/assets/mediadb/services/module/asset/downloads/preset/assets/2018/10/25-10-2018-NICA-OSLO-PALACE-637392.jpg/image100x100cropped.jpg\" title=\"Royal Palace in Oslo, Norway.\" width=\"\"/><!-- END scald=554552 --></a>,\n",
              " <a href=\"https://news.un.org/en/story/2018/10/1024112\">Oslo leads the way in ‘Breathe Life’ campaign for cleaner cities in climate change era </a>]"
            ]
          },
          "metadata": {
            "tags": []
          },
          "execution_count": 108
        }
      ]
    },
    {
      "cell_type": "markdown",
      "metadata": {
        "id": "nniMG-V0Pem3"
      },
      "source": [
        "14\\. Iterating over the list, print the title text, separated by a new line. It looks as follows:"
      ]
    },
    {
      "cell_type": "markdown",
      "metadata": {
        "id": "vzOu9bTBPem3"
      },
      "source": [
        "Step up action and adapt to 'new climate reality', UN environment report urges<br>\n",
        "Nature ‘one of most effective ways’ of combatting climate change<br>\n",
        "Oslo leads the way in ‘Breathe Life’ campaign for cleaner cities in climate change era"
      ]
    },
    {
      "cell_type": "code",
      "metadata": {
        "id": "KDz6PLxvPem3",
        "colab": {
          "base_uri": "https://localhost:8080/"
        },
        "outputId": "31ae1785-1719-45f4-a0a0-007b5364affa"
      },
      "source": [
        "# Your answer here\n",
        "temp = soup.find(\"section\", id='block-views-b264f1f0404c604764b6fabf16396e35').find_all(\"a\")\n",
        "for i in temp:\n",
        "  print(i.text.strip())"
      ],
      "execution_count": null,
      "outputs": [
        {
          "output_type": "stream",
          "text": [
            "\n",
            "Step up action and adapt to 'new climate reality', UN environment report urges\n",
            "\n",
            "Nature ‘one of most effective ways’ of combatting climate change\n",
            "\n",
            "Oslo leads the way in ‘Breathe Life’ campaign for cleaner cities in climate change era\n"
          ],
          "name": "stdout"
        }
      ]
    }
  ]
}
