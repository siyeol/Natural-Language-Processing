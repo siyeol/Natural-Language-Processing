{
  "nbformat": 4,
  "nbformat_minor": 0,
  "metadata": {
    "colab": {
      "name": "Week5_Document_Clustering_Topic_Modeling_Homework.ipynb",
      "provenance": [],
      "collapsed_sections": [],
      "include_colab_link": true
    },
    "kernelspec": {
      "display_name": "Python 3",
      "language": "python",
      "name": "python3"
    },
    "language_info": {
      "codemirror_mode": {
        "name": "ipython",
        "version": 3
      },
      "file_extension": ".py",
      "mimetype": "text/x-python",
      "name": "python",
      "nbconvert_exporter": "python",
      "pygments_lexer": "ipython3",
      "version": "3.7.5"
    }
  },
  "cells": [
    {
      "cell_type": "markdown",
      "metadata": {
        "id": "view-in-github",
        "colab_type": "text"
      },
      "source": [
        "<a href=\"https://colab.research.google.com/github/siyeol/Natural-Language-Processing/blob/main/Scikit-Learn.ipynb\" target=\"_parent\"><img src=\"https://colab.research.google.com/assets/colab-badge.svg\" alt=\"Open In Colab\"/></a>"
      ]
    },
    {
      "cell_type": "markdown",
      "metadata": {
        "id": "N20cQ6qpnwrU"
      },
      "source": [
        "# Software Coaching for Python\n",
        "# Week 5: Document Clustering & Topic Modeling - Homework"
      ]
    },
    {
      "cell_type": "markdown",
      "metadata": {
        "id": "2wg-EeHjnwrZ"
      },
      "source": [
        "Instructor: Kang-Pyo Lee"
      ]
    },
    {
      "cell_type": "code",
      "metadata": {
        "id": "Le_Xkfczn7yk",
        "colab": {
          "base_uri": "https://localhost:8080/"
        },
        "outputId": "a8a2e22e-44aa-4278-e00f-d8ce0b440046"
      },
      "source": [
        "from google.colab import drive\n",
        "\n",
        "drive.mount('/content/gdrive')\n",
        "path = \"/content/gdrive/Shareddrives/SW_Coaching_for_Python\"\n",
        "my_folder = \"SYC\"     # *** REPLACE WITH YOUR FOLDER NAME ***\n",
        "outcome_folder = f\"{path}/{my_folder}/outcome\"\n",
        "classdata_folder = f\"{path}/classdata\""
      ],
      "execution_count": null,
      "outputs": [
        {
          "output_type": "stream",
          "text": [
            "Drive already mounted at /content/gdrive; to attempt to forcibly remount, call drive.mount(\"/content/gdrive\", force_remount=True).\n"
          ],
          "name": "stdout"
        }
      ]
    },
    {
      "cell_type": "code",
      "metadata": {
        "id": "uKBQR7A4f2Bf",
        "colab": {
          "base_uri": "https://localhost:8080/",
          "height": 746
        },
        "outputId": "41776943-a2f0-4bb3-e981-c59f979abc0d"
      },
      "source": [
        "! pip install --user scikit-learn pyldavis"
      ],
      "execution_count": null,
      "outputs": [
        {
          "output_type": "stream",
          "text": [
            "Requirement already satisfied: scikit-learn in /usr/local/lib/python3.7/dist-packages (0.22.2.post1)\n",
            "Collecting pyldavis\n",
            "\u001b[?25l  Downloading https://files.pythonhosted.org/packages/03/a5/15a0da6b0150b8b68610cc78af80364a80a9a4c8b6dd5ee549b8989d4b60/pyLDAvis-3.3.1.tar.gz (1.7MB)\n",
            "\u001b[K     |████████████████████████████████| 1.7MB 6.6MB/s \n",
            "\u001b[?25h  Installing build dependencies ... \u001b[?25l\u001b[?25hdone\n",
            "  Getting requirements to build wheel ... \u001b[?25l\u001b[?25hdone\n",
            "  Installing backend dependencies ... \u001b[?25l\u001b[?25hdone\n",
            "    Preparing wheel metadata ... \u001b[?25l\u001b[?25hdone\n",
            "Requirement already satisfied: scipy>=0.17.0 in /usr/local/lib/python3.7/dist-packages (from scikit-learn) (1.4.1)\n",
            "Requirement already satisfied: numpy>=1.11.0 in /usr/local/lib/python3.7/dist-packages (from scikit-learn) (1.19.5)\n",
            "Requirement already satisfied: joblib>=0.11 in /usr/local/lib/python3.7/dist-packages (from scikit-learn) (1.0.1)\n",
            "Requirement already satisfied: sklearn in /usr/local/lib/python3.7/dist-packages (from pyldavis) (0.0)\n",
            "Requirement already satisfied: jinja2 in /usr/local/lib/python3.7/dist-packages (from pyldavis) (2.11.3)\n",
            "Collecting pandas>=1.2.0\n",
            "\u001b[?25l  Downloading https://files.pythonhosted.org/packages/51/51/48f3fc47c4e2144da2806dfb6629c4dd1fa3d5a143f9652b141e979a8ca9/pandas-1.2.4-cp37-cp37m-manylinux1_x86_64.whl (9.9MB)\n",
            "\u001b[K     |████████████████████████████████| 9.9MB 22.0MB/s \n",
            "\u001b[?25hRequirement already satisfied: numexpr in /usr/local/lib/python3.7/dist-packages (from pyldavis) (2.7.3)\n",
            "Requirement already satisfied: future in /usr/local/lib/python3.7/dist-packages (from pyldavis) (0.16.0)\n",
            "Collecting funcy\n",
            "  Downloading https://files.pythonhosted.org/packages/44/52/5cf7401456a461e4b481650dfb8279bc000f31a011d0918904f86e755947/funcy-1.16-py2.py3-none-any.whl\n",
            "Requirement already satisfied: gensim in /usr/local/lib/python3.7/dist-packages (from pyldavis) (3.6.0)\n",
            "Requirement already satisfied: setuptools in /usr/local/lib/python3.7/dist-packages (from pyldavis) (56.1.0)\n",
            "Requirement already satisfied: MarkupSafe>=0.23 in /usr/local/lib/python3.7/dist-packages (from jinja2->pyldavis) (1.1.1)\n",
            "Requirement already satisfied: python-dateutil>=2.7.3 in /usr/local/lib/python3.7/dist-packages (from pandas>=1.2.0->pyldavis) (2.8.1)\n",
            "Requirement already satisfied: pytz>=2017.3 in /usr/local/lib/python3.7/dist-packages (from pandas>=1.2.0->pyldavis) (2018.9)\n",
            "Requirement already satisfied: smart-open>=1.2.1 in /usr/local/lib/python3.7/dist-packages (from gensim->pyldavis) (5.0.0)\n",
            "Requirement already satisfied: six>=1.5.0 in /usr/local/lib/python3.7/dist-packages (from gensim->pyldavis) (1.15.0)\n",
            "Building wheels for collected packages: pyldavis\n",
            "  Building wheel for pyldavis (PEP 517) ... \u001b[?25l\u001b[?25hdone\n",
            "  Created wheel for pyldavis: filename=pyLDAvis-3.3.1-cp37-none-any.whl size=136870 sha256=37de2c06c02f39dc0073e576dd7fcc2659cb481cc93ff1da31285eb6c79ea634\n",
            "  Stored in directory: /root/.cache/pip/wheels/a0/9c/fc/c6e00689d35c82cf96a8adc70edfe7ba7904374fdac3240ac2\n",
            "Successfully built pyldavis\n",
            "\u001b[31mERROR: google-colab 1.0.0 has requirement pandas~=1.1.0; python_version >= \"3.0\", but you'll have pandas 1.2.4 which is incompatible.\u001b[0m\n",
            "\u001b[31mERROR: pyldavis 3.3.1 has requirement numpy>=1.20.0, but you'll have numpy 1.19.5 which is incompatible.\u001b[0m\n",
            "Installing collected packages: pandas, funcy, pyldavis\n",
            "Successfully installed funcy-1.16 pandas-1.2.4 pyldavis-3.3.1\n"
          ],
          "name": "stdout"
        },
        {
          "output_type": "display_data",
          "data": {
            "application/vnd.colab-display-data+json": {
              "pip_warning": {
                "packages": [
                  "pandas"
                ]
              }
            }
          },
          "metadata": {
            "tags": []
          }
        }
      ]
    },
    {
      "cell_type": "code",
      "metadata": {
        "id": "3mMmFjHgoGO7",
        "colab": {
          "base_uri": "https://localhost:8080/",
          "height": 573
        },
        "outputId": "eb098d39-ba37-4aab-9cb7-9ea0fd1e5163"
      },
      "source": [
        "import pandas as pd\n",
        "pd.set_option('display.max_colwidth', 150)\n",
        "\n",
        "df = pd.read_csv(f\"{classdata_folder}/timeline_NASA.csv\", sep=\"\\t\")\n",
        "df.text = df.text.astype(str)\n",
        "df"
      ],
      "execution_count": null,
      "outputs": [
        {
          "output_type": "execute_result",
          "data": {
            "text/html": [
              "<div>\n",
              "<style scoped>\n",
              "    .dataframe tbody tr th:only-of-type {\n",
              "        vertical-align: middle;\n",
              "    }\n",
              "\n",
              "    .dataframe tbody tr th {\n",
              "        vertical-align: top;\n",
              "    }\n",
              "\n",
              "    .dataframe thead th {\n",
              "        text-align: right;\n",
              "    }\n",
              "</style>\n",
              "<table border=\"1\" class=\"dataframe\">\n",
              "  <thead>\n",
              "    <tr style=\"text-align: right;\">\n",
              "      <th></th>\n",
              "      <th>status_id</th>\n",
              "      <th>created_at</th>\n",
              "      <th>text</th>\n",
              "      <th>retweet_count</th>\n",
              "      <th>favorite_count</th>\n",
              "      <th>is_retweet</th>\n",
              "      <th>retweet_created_at</th>\n",
              "    </tr>\n",
              "  </thead>\n",
              "  <tbody>\n",
              "    <tr>\n",
              "      <th>0</th>\n",
              "      <td>1354552906175934477</td>\n",
              "      <td>Wed Jan 27 22:12:33 +0000 2021</td>\n",
              "      <td>It once held a lake. And what we're going to do, as soon as we get there, is to explore the rocks that were deposi… https://t.co/UW9wngvx4C</td>\n",
              "      <td>72</td>\n",
              "      <td>462</td>\n",
              "      <td>0</td>\n",
              "      <td>NaN</td>\n",
              "    </tr>\n",
              "    <tr>\n",
              "      <th>1</th>\n",
              "      <td>1354549784061865986</td>\n",
              "      <td>Wed Jan 27 22:00:09 +0000 2021</td>\n",
              "      <td>I asked the team [...] to come up with something that would symbolize, to mark this challenge and thank in particu… https://t.co/QH235r9zjq</td>\n",
              "      <td>50</td>\n",
              "      <td>361</td>\n",
              "      <td>0</td>\n",
              "      <td>NaN</td>\n",
              "    </tr>\n",
              "    <tr>\n",
              "      <th>2</th>\n",
              "      <td>1354546326139265030</td>\n",
              "      <td>Wed Jan 27 21:46:25 +0000 2021</td>\n",
              "      <td>Perseverance is the very first rover designed to seek signs of past microbial life, by collecting and caching rock… https://t.co/nn72OHRVv6</td>\n",
              "      <td>135</td>\n",
              "      <td>870</td>\n",
              "      <td>0</td>\n",
              "      <td>NaN</td>\n",
              "    </tr>\n",
              "    <tr>\n",
              "      <th>3</th>\n",
              "      <td>1354542309988327425</td>\n",
              "      <td>Wed Jan 27 21:30:27 +0000 2021</td>\n",
              "      <td>🔴 LIVE: Tune in for a preview of the next Mars landing! On Feb. 18, our @NASAPersevere rover will arrive at the Red… https://t.co/rHRhIrzXWR</td>\n",
              "      <td>374</td>\n",
              "      <td>1430</td>\n",
              "      <td>0</td>\n",
              "      <td>NaN</td>\n",
              "    </tr>\n",
              "    <tr>\n",
              "      <th>4</th>\n",
              "      <td>1354540246436872195</td>\n",
              "      <td>Wed Jan 27 21:22:15 +0000 2021</td>\n",
              "      <td>RT @NASAMars: Don't forget to join us for today's briefing at 4:30pm ET (21:30 UTC): https://t.co/fGItMYWnFR Tag your questions #Countdown…</td>\n",
              "      <td>137</td>\n",
              "      <td>0</td>\n",
              "      <td>1</td>\n",
              "      <td>Wed Jan 27 20:18:56 +0000 2021</td>\n",
              "    </tr>\n",
              "    <tr>\n",
              "      <th>...</th>\n",
              "      <td>...</td>\n",
              "      <td>...</td>\n",
              "      <td>...</td>\n",
              "      <td>...</td>\n",
              "      <td>...</td>\n",
              "      <td>...</td>\n",
              "      <td>...</td>\n",
              "    </tr>\n",
              "    <tr>\n",
              "      <th>3195</th>\n",
              "      <td>1265370733930307585</td>\n",
              "      <td>Tue May 26 19:54:27 +0000 2020</td>\n",
              "      <td>RT @NASAKennedy: Looking for live views of the launch pad? We got you covered. 🚀👀Check out the rocket that will carry @AstroBehnken and @…</td>\n",
              "      <td>1197</td>\n",
              "      <td>0</td>\n",
              "      <td>1</td>\n",
              "      <td>Tue May 26 19:36:00 +0000 2020</td>\n",
              "    </tr>\n",
              "    <tr>\n",
              "      <th>3196</th>\n",
              "      <td>1265365848098816002</td>\n",
              "      <td>Tue May 26 19:35:02 +0000 2020</td>\n",
              "      <td>For the first time since 2011, we’re sending American astronauts back to space, on an American rocket, from America… https://t.co/FsC1feO84c</td>\n",
              "      <td>622</td>\n",
              "      <td>2614</td>\n",
              "      <td>0</td>\n",
              "      <td>NaN</td>\n",
              "    </tr>\n",
              "    <tr>\n",
              "      <th>3197</th>\n",
              "      <td>1265327291468562432</td>\n",
              "      <td>Tue May 26 17:01:49 +0000 2020</td>\n",
              "      <td>LIVE: Want to go behind-the-scenes of #LaunchAmerica?Join our experts on @reddit to ask questions about the missi… https://t.co/p7iqJY4jyX</td>\n",
              "      <td>253</td>\n",
              "      <td>1942</td>\n",
              "      <td>0</td>\n",
              "      <td>NaN</td>\n",
              "    </tr>\n",
              "    <tr>\n",
              "      <th>3198</th>\n",
              "      <td>1265327258274840576</td>\n",
              "      <td>Tue May 26 17:01:41 +0000 2020</td>\n",
              "      <td>@brandonleblanc @SpaceX @AmyShiraTeitel See you online! https://t.co/FaQ7K75sBP</td>\n",
              "      <td>2</td>\n",
              "      <td>6</td>\n",
              "      <td>0</td>\n",
              "      <td>NaN</td>\n",
              "    </tr>\n",
              "    <tr>\n",
              "      <th>3199</th>\n",
              "      <td>1265317908068085761</td>\n",
              "      <td>Tue May 26 16:24:32 +0000 2020</td>\n",
              "      <td>RT @NASAEarth: Ready to #LaunchAmerica? Tomorrow, two astronauts 👨🏻‍🚀👨🏻‍🚀 are launching 🚀 to the @Space_Station from @NASAKennedy’s histori…</td>\n",
              "      <td>595</td>\n",
              "      <td>0</td>\n",
              "      <td>1</td>\n",
              "      <td>Tue May 26 16:09:54 +0000 2020</td>\n",
              "    </tr>\n",
              "  </tbody>\n",
              "</table>\n",
              "<p>3200 rows × 7 columns</p>\n",
              "</div>"
            ],
            "text/plain": [
              "                status_id  ...              retweet_created_at\n",
              "0     1354552906175934477  ...                             NaN\n",
              "1     1354549784061865986  ...                             NaN\n",
              "2     1354546326139265030  ...                             NaN\n",
              "3     1354542309988327425  ...                             NaN\n",
              "4     1354540246436872195  ...  Wed Jan 27 20:18:56 +0000 2021\n",
              "...                   ...  ...                             ...\n",
              "3195  1265370733930307585  ...  Tue May 26 19:36:00 +0000 2020\n",
              "3196  1265365848098816002  ...                             NaN\n",
              "3197  1265327291468562432  ...                             NaN\n",
              "3198  1265327258274840576  ...                             NaN\n",
              "3199  1265317908068085761  ...  Tue May 26 16:09:54 +0000 2020\n",
              "\n",
              "[3200 rows x 7 columns]"
            ]
          },
          "metadata": {
            "tags": []
          },
          "execution_count": 4
        }
      ]
    },
    {
      "cell_type": "markdown",
      "metadata": {
        "id": "aibpa79LdVmP"
      },
      "source": [
        "Check if there are any duplicates in the `text` column."
      ]
    },
    {
      "cell_type": "code",
      "metadata": {
        "id": "W-ii40T3dVmP",
        "colab": {
          "base_uri": "https://localhost:8080/"
        },
        "outputId": "9b446c58-8c1a-4535-d0af-2bb089a359dc"
      },
      "source": [
        "df.text.value_counts()"
      ],
      "execution_count": null,
      "outputs": [
        {
          "output_type": "execute_result",
          "data": {
            "text/plain": [
              "RT @NASAExhibit: 🤳Share your excitement about space exploration by posting a selfie on Twitter &amp; Instagram tagged with #NASAVirtualExhibit!…    2\n",
              "@ArtStudioAW 🤩 It's almost as if you can touch them. So realistic! What an amazing way to congratulate Bob and Doug… https://t.co/m0nphsFDo0        1\n",
              "RT @NASA_Technology: ✔️Laser sensors✔️Camera✔️High-speed computer✔️Sophisticated algorithms Together, these technologies can provide s…             1\n",
              "@AgnelliMaura @NASAKennedy @Space_Station Uplifting is the word! Crew-1 for all! 🥳🚀 https://t.co/cq6QOQJ8Lq                                         1\n",
              "What do the Crew-1 astronauts plan to eat right before they launch to the @Space_Station? 🤔A lot. https://t.co/eaOZ2B6QMM                           1\n",
              "                                                                                                                                                   ..\n",
              "RT @NASA_Astronauts: Breaking: Butch Wilmore to fly on the Boeing Starliner crew flight test alongside NASA Astronauts Nicole Mann (@AstroD…        1\n",
              "Airplanes fly about 600 mph, but the @Space_Station orbits Earth at 17,500 mph and looks like a very bright star mo… https://t.co/l0gGaGNxNq        1\n",
              "RT @JimBridenstine: The #Artemis program is well underway! Learn more about @NASA’s lunar exploration plans including how we will land the…         1\n",
              "@Highkey_ARMY @BTS_twt https://t.co/1JFkwAAhxs                                                                                                      1\n",
              "RT @Space_Station: Conditions are go at the splashdown site for the return to Earth of @Astro_Doug and @AstroBehnken aboard the @SpaceX #…          1\n",
              "Name: text, Length: 3199, dtype: int64"
            ]
          },
          "metadata": {
            "tags": []
          },
          "execution_count": 5
        }
      ]
    },
    {
      "cell_type": "markdown",
      "metadata": {
        "id": "NKrcIDtWdVmQ"
      },
      "source": [
        "Remove duplicates in the `text` column, if any. "
      ]
    },
    {
      "cell_type": "code",
      "metadata": {
        "id": "u2ZekSkPdVmQ"
      },
      "source": [
        "df = df.drop_duplicates([\"text\"], keep=\"first\").copy()"
      ],
      "execution_count": null,
      "outputs": []
    },
    {
      "cell_type": "code",
      "metadata": {
        "id": "KYgopVokdVmQ",
        "colab": {
          "base_uri": "https://localhost:8080/"
        },
        "outputId": "e0b5d6fc-4013-4339-95cb-7a6568ad0a52"
      },
      "source": [
        "df.text.value_counts()"
      ],
      "execution_count": null,
      "outputs": [
        {
          "output_type": "execute_result",
          "data": {
            "text/plain": [
              "Lisa Pratt, NASA’s Planetary Protection Officer, is making sure the Mars 2020 Perseverance rover is not transportin… https://t.co/zpVinsoARo    1\n",
              "Good evening! Konbanwa! @Astro_Soichi of @JAXA_en gives a tour of the lower area of the Crew Dragon Resilience sp… https://t.co/fXFRSjrbNp      1\n",
              "RT @NASA_Technology: ✔️Laser sensors✔️Camera✔️High-speed computer✔️Sophisticated algorithms Together, these technologies can provide s…         1\n",
              "@AgnelliMaura @NASAKennedy @Space_Station Uplifting is the word! Crew-1 for all! 🥳🚀 https://t.co/cq6QOQJ8Lq                                     1\n",
              "What do the Crew-1 astronauts plan to eat right before they launch to the @Space_Station? 🤔A lot. https://t.co/eaOZ2B6QMM                       1\n",
              "                                                                                                                                               ..\n",
              "RT @NASA_Astronauts: Breaking: Butch Wilmore to fly on the Boeing Starliner crew flight test alongside NASA Astronauts Nicole Mann (@AstroD…    1\n",
              "Airplanes fly about 600 mph, but the @Space_Station orbits Earth at 17,500 mph and looks like a very bright star mo… https://t.co/l0gGaGNxNq    1\n",
              "RT @JimBridenstine: The #Artemis program is well underway! Learn more about @NASA’s lunar exploration plans including how we will land the…     1\n",
              "@Highkey_ARMY @BTS_twt https://t.co/1JFkwAAhxs                                                                                                  1\n",
              "RT @Space_Station: Conditions are go at the splashdown site for the return to Earth of @Astro_Doug and @AstroBehnken aboard the @SpaceX #…      1\n",
              "Name: text, Length: 3199, dtype: int64"
            ]
          },
          "metadata": {
            "tags": []
          },
          "execution_count": 7
        }
      ]
    },
    {
      "cell_type": "code",
      "metadata": {
        "id": "jfstQyVfdVmQ",
        "colab": {
          "base_uri": "https://localhost:8080/"
        },
        "outputId": "274727ce-d326-43ba-8a56-7b26df984be7"
      },
      "source": [
        "df.info()"
      ],
      "execution_count": null,
      "outputs": [
        {
          "output_type": "stream",
          "text": [
            "<class 'pandas.core.frame.DataFrame'>\n",
            "Int64Index: 3199 entries, 0 to 3199\n",
            "Data columns (total 7 columns):\n",
            " #   Column              Non-Null Count  Dtype \n",
            "---  ------              --------------  ----- \n",
            " 0   status_id           3199 non-null   int64 \n",
            " 1   created_at          3199 non-null   object\n",
            " 2   text                3199 non-null   object\n",
            " 3   retweet_count       3199 non-null   int64 \n",
            " 4   favorite_count      3199 non-null   int64 \n",
            " 5   is_retweet          3199 non-null   int64 \n",
            " 6   retweet_created_at  815 non-null    object\n",
            "dtypes: int64(4), object(3)\n",
            "memory usage: 199.9+ KB\n"
          ],
          "name": "stdout"
        }
      ]
    },
    {
      "cell_type": "markdown",
      "metadata": {
        "id": "qOqEMJ_QdVmR"
      },
      "source": [
        "## Preparing Data for Modeling"
      ]
    },
    {
      "cell_type": "code",
      "metadata": {
        "id": "4kAgIh5udVmR",
        "colab": {
          "base_uri": "https://localhost:8080/"
        },
        "outputId": "21101d47-b8d4-4e7d-fe6a-d4854207581a"
      },
      "source": [
        "import nltk\n",
        "from nltk.corpus import stopwords\n",
        "nltk.download(['punkt', 'averaged_perceptron_tagger', 'stopwords'])\n",
        "\n",
        "import string \n",
        "global_stopwords = stopwords.words(\"english\")"
      ],
      "execution_count": null,
      "outputs": [
        {
          "output_type": "stream",
          "text": [
            "[nltk_data] Downloading package punkt to /root/nltk_data...\n",
            "[nltk_data]   Unzipping tokenizers/punkt.zip.\n",
            "[nltk_data] Downloading package averaged_perceptron_tagger to\n",
            "[nltk_data]     /root/nltk_data...\n",
            "[nltk_data]   Unzipping taggers/averaged_perceptron_tagger.zip.\n",
            "[nltk_data] Downloading package stopwords to /root/nltk_data...\n",
            "[nltk_data]   Unzipping corpora/stopwords.zip.\n"
          ],
          "name": "stdout"
        }
      ]
    },
    {
      "cell_type": "markdown",
      "metadata": {
        "id": "1K1AlL2xdVmR"
      },
      "source": [
        "Define your own local stopwords. "
      ]
    },
    {
      "cell_type": "code",
      "metadata": {
        "id": "Ymwh-xs-dVmR"
      },
      "source": [
        "local_stopwords = [c for c in string.punctuation] +\\\n",
        "                  ['‘', '’', '—', '…', '“', '”', \"'re\", \"'s\", '...', 'a…', 't…', 'https', \"n't\", 'rt']"
      ],
      "execution_count": null,
      "outputs": []
    },
    {
      "cell_type": "code",
      "metadata": {
        "id": "8DZU40zVdVmS"
      },
      "source": [
        "from sklearn.feature_extraction.text import TfidfVectorizer\n",
        "\n",
        "vectorizer = TfidfVectorizer(use_idf=True, norm=\"l2\", stop_words=global_stopwords+local_stopwords, max_df=0.7)\n",
        "X = vectorizer.fit_transform(df.text)"
      ],
      "execution_count": null,
      "outputs": []
    },
    {
      "cell_type": "code",
      "metadata": {
        "id": "_3EDpm-qdVmS",
        "colab": {
          "base_uri": "https://localhost:8080/"
        },
        "outputId": "dbd1a818-4e6c-4e91-a906-8f69acd30b73"
      },
      "source": [
        "X.shape"
      ],
      "execution_count": null,
      "outputs": [
        {
          "output_type": "execute_result",
          "data": {
            "text/plain": [
              "(3199, 8679)"
            ]
          },
          "metadata": {
            "tags": []
          },
          "execution_count": 13
        }
      ]
    },
    {
      "cell_type": "markdown",
      "metadata": {
        "id": "9ZCu8jNcdVmS"
      },
      "source": [
        "## K-Means Clustering"
      ]
    },
    {
      "cell_type": "markdown",
      "metadata": {
        "id": "IuuzG6vtdVmS"
      },
      "source": [
        "### Step 1. Choose the number of clusters"
      ]
    },
    {
      "cell_type": "markdown",
      "metadata": {
        "id": "IXF-l5m5dVmS"
      },
      "source": [
        "Set the number of clusters you would like to get. "
      ]
    },
    {
      "cell_type": "code",
      "metadata": {
        "id": "xMHAw4jvdVmT"
      },
      "source": [
        "# Your answer here\n",
        "k = 5"
      ],
      "execution_count": null,
      "outputs": []
    },
    {
      "cell_type": "markdown",
      "metadata": {
        "id": "JJD3TDBIdVmT"
      },
      "source": [
        "### Step 2. Initialize a model object for k-means clustering"
      ]
    },
    {
      "cell_type": "code",
      "metadata": {
        "id": "Zfq9QWeXdVmT",
        "colab": {
          "base_uri": "https://localhost:8080/"
        },
        "outputId": "1eaf48f9-dee5-4dfb-de2c-9fb56f0499e6"
      },
      "source": [
        "from sklearn.cluster import KMeans\n",
        "\n",
        "kmeans = KMeans(n_clusters=k, random_state=0)\n",
        "kmeans"
      ],
      "execution_count": null,
      "outputs": [
        {
          "output_type": "execute_result",
          "data": {
            "text/plain": [
              "KMeans(algorithm='auto', copy_x=True, init='k-means++', max_iter=300,\n",
              "       n_clusters=5, n_init=10, n_jobs=None, precompute_distances='auto',\n",
              "       random_state=0, tol=0.0001, verbose=0)"
            ]
          },
          "metadata": {
            "tags": []
          },
          "execution_count": 15
        }
      ]
    },
    {
      "cell_type": "markdown",
      "metadata": {
        "id": "7Au2R5fJdVmT"
      },
      "source": [
        "### Step 3. Fit the model using the input data"
      ]
    },
    {
      "cell_type": "code",
      "metadata": {
        "id": "R_nhbbh-dVmT",
        "colab": {
          "base_uri": "https://localhost:8080/"
        },
        "outputId": "fecc83c2-f972-4b0c-9dc8-3ce0e29613ae"
      },
      "source": [
        "%time kmeans.fit(X)"
      ],
      "execution_count": null,
      "outputs": [
        {
          "output_type": "stream",
          "text": [
            "CPU times: user 19.3 s, sys: 15 s, total: 34.2 s\n",
            "Wall time: 17.4 s\n"
          ],
          "name": "stdout"
        },
        {
          "output_type": "execute_result",
          "data": {
            "text/plain": [
              "KMeans(algorithm='auto', copy_x=True, init='k-means++', max_iter=300,\n",
              "       n_clusters=5, n_init=10, n_jobs=None, precompute_distances='auto',\n",
              "       random_state=0, tol=0.0001, verbose=0)"
            ]
          },
          "metadata": {
            "tags": []
          },
          "execution_count": 16
        }
      ]
    },
    {
      "cell_type": "markdown",
      "metadata": {
        "id": "YMleEQSudVmT"
      },
      "source": [
        "### Step 4. Examine the clustering outcome"
      ]
    },
    {
      "cell_type": "code",
      "metadata": {
        "id": "QkoDd3HwdVmU",
        "colab": {
          "base_uri": "https://localhost:8080/"
        },
        "outputId": "34fe313f-519a-4ad1-a889-ff995ade099b"
      },
      "source": [
        "kmeans.labels_"
      ],
      "execution_count": null,
      "outputs": [
        {
          "output_type": "execute_result",
          "data": {
            "text/plain": [
              "array([1, 1, 0, ..., 1, 1, 2], dtype=int32)"
            ]
          },
          "metadata": {
            "tags": []
          },
          "execution_count": 17
        }
      ]
    },
    {
      "cell_type": "code",
      "metadata": {
        "id": "ZDWSEZFNdVmU"
      },
      "source": [
        "df[\"cluster\"] = kmeans.labels_"
      ],
      "execution_count": null,
      "outputs": []
    },
    {
      "cell_type": "code",
      "metadata": {
        "id": "rNUyb6hJdVmU",
        "colab": {
          "base_uri": "https://localhost:8080/",
          "height": 406
        },
        "outputId": "0305a90e-ab61-404f-86d7-2cf6b1031610"
      },
      "source": [
        "df[[\"text\", \"cluster\"]]"
      ],
      "execution_count": null,
      "outputs": [
        {
          "output_type": "execute_result",
          "data": {
            "text/html": [
              "<div>\n",
              "<style scoped>\n",
              "    .dataframe tbody tr th:only-of-type {\n",
              "        vertical-align: middle;\n",
              "    }\n",
              "\n",
              "    .dataframe tbody tr th {\n",
              "        vertical-align: top;\n",
              "    }\n",
              "\n",
              "    .dataframe thead th {\n",
              "        text-align: right;\n",
              "    }\n",
              "</style>\n",
              "<table border=\"1\" class=\"dataframe\">\n",
              "  <thead>\n",
              "    <tr style=\"text-align: right;\">\n",
              "      <th></th>\n",
              "      <th>text</th>\n",
              "      <th>cluster</th>\n",
              "    </tr>\n",
              "  </thead>\n",
              "  <tbody>\n",
              "    <tr>\n",
              "      <th>0</th>\n",
              "      <td>It once held a lake. And what we're going to do, as soon as we get there, is to explore the rocks that were deposi… https://t.co/UW9wngvx4C</td>\n",
              "      <td>1</td>\n",
              "    </tr>\n",
              "    <tr>\n",
              "      <th>1</th>\n",
              "      <td>I asked the team [...] to come up with something that would symbolize, to mark this challenge and thank in particu… https://t.co/QH235r9zjq</td>\n",
              "      <td>1</td>\n",
              "    </tr>\n",
              "    <tr>\n",
              "      <th>2</th>\n",
              "      <td>Perseverance is the very first rover designed to seek signs of past microbial life, by collecting and caching rock… https://t.co/nn72OHRVv6</td>\n",
              "      <td>0</td>\n",
              "    </tr>\n",
              "    <tr>\n",
              "      <th>3</th>\n",
              "      <td>🔴 LIVE: Tune in for a preview of the next Mars landing! On Feb. 18, our @NASAPersevere rover will arrive at the Red… https://t.co/rHRhIrzXWR</td>\n",
              "      <td>0</td>\n",
              "    </tr>\n",
              "    <tr>\n",
              "      <th>4</th>\n",
              "      <td>RT @NASAMars: Don't forget to join us for today's briefing at 4:30pm ET (21:30 UTC): https://t.co/fGItMYWnFR Tag your questions #Countdown…</td>\n",
              "      <td>1</td>\n",
              "    </tr>\n",
              "    <tr>\n",
              "      <th>...</th>\n",
              "      <td>...</td>\n",
              "      <td>...</td>\n",
              "    </tr>\n",
              "    <tr>\n",
              "      <th>3195</th>\n",
              "      <td>RT @NASAKennedy: Looking for live views of the launch pad? We got you covered. 🚀👀Check out the rocket that will carry @AstroBehnken and @…</td>\n",
              "      <td>1</td>\n",
              "    </tr>\n",
              "    <tr>\n",
              "      <th>3196</th>\n",
              "      <td>For the first time since 2011, we’re sending American astronauts back to space, on an American rocket, from America… https://t.co/FsC1feO84c</td>\n",
              "      <td>1</td>\n",
              "    </tr>\n",
              "    <tr>\n",
              "      <th>3197</th>\n",
              "      <td>LIVE: Want to go behind-the-scenes of #LaunchAmerica?Join our experts on @reddit to ask questions about the missi… https://t.co/p7iqJY4jyX</td>\n",
              "      <td>1</td>\n",
              "    </tr>\n",
              "    <tr>\n",
              "      <th>3198</th>\n",
              "      <td>@brandonleblanc @SpaceX @AmyShiraTeitel See you online! https://t.co/FaQ7K75sBP</td>\n",
              "      <td>1</td>\n",
              "    </tr>\n",
              "    <tr>\n",
              "      <th>3199</th>\n",
              "      <td>RT @NASAEarth: Ready to #LaunchAmerica? Tomorrow, two astronauts 👨🏻‍🚀👨🏻‍🚀 are launching 🚀 to the @Space_Station from @NASAKennedy’s histori…</td>\n",
              "      <td>2</td>\n",
              "    </tr>\n",
              "  </tbody>\n",
              "</table>\n",
              "<p>3199 rows × 2 columns</p>\n",
              "</div>"
            ],
            "text/plain": [
              "                                                                                                                                              text  cluster\n",
              "0      It once held a lake. And what we're going to do, as soon as we get there, is to explore the rocks that were deposi… https://t.co/UW9wngvx4C        1\n",
              "1      I asked the team [...] to come up with something that would symbolize, to mark this challenge and thank in particu… https://t.co/QH235r9zjq        1\n",
              "2      Perseverance is the very first rover designed to seek signs of past microbial life, by collecting and caching rock… https://t.co/nn72OHRVv6        0\n",
              "3     🔴 LIVE: Tune in for a preview of the next Mars landing! On Feb. 18, our @NASAPersevere rover will arrive at the Red… https://t.co/rHRhIrzXWR        0\n",
              "4      RT @NASAMars: Don't forget to join us for today's briefing at 4:30pm ET (21:30 UTC): https://t.co/fGItMYWnFR Tag your questions #Countdown…        1\n",
              "...                                                                                                                                            ...      ...\n",
              "3195    RT @NASAKennedy: Looking for live views of the launch pad? We got you covered. 🚀👀Check out the rocket that will carry @AstroBehnken and @…        1\n",
              "3196  For the first time since 2011, we’re sending American astronauts back to space, on an American rocket, from America… https://t.co/FsC1feO84c        1\n",
              "3197    LIVE: Want to go behind-the-scenes of #LaunchAmerica?Join our experts on @reddit to ask questions about the missi… https://t.co/p7iqJY4jyX        1\n",
              "3198                                                               @brandonleblanc @SpaceX @AmyShiraTeitel See you online! https://t.co/FaQ7K75sBP        1\n",
              "3199  RT @NASAEarth: Ready to #LaunchAmerica? Tomorrow, two astronauts 👨🏻‍🚀👨🏻‍🚀 are launching 🚀 to the @Space_Station from @NASAKennedy’s histori…        2\n",
              "\n",
              "[3199 rows x 2 columns]"
            ]
          },
          "metadata": {
            "tags": []
          },
          "execution_count": 19
        }
      ]
    },
    {
      "cell_type": "markdown",
      "metadata": {
        "id": "tso-LPoEdVmU"
      },
      "source": [
        "Check the number of values for each cluster. "
      ]
    },
    {
      "cell_type": "code",
      "metadata": {
        "id": "63M5PKDqdVmU",
        "colab": {
          "base_uri": "https://localhost:8080/"
        },
        "outputId": "748a7541-097b-4c04-c7ac-0742a2f2efc2"
      },
      "source": [
        "df.cluster.value_counts()"
      ],
      "execution_count": null,
      "outputs": [
        {
          "output_type": "execute_result",
          "data": {
            "text/plain": [
              "1    2110\n",
              "2     383\n",
              "0     356\n",
              "3     183\n",
              "4     167\n",
              "Name: cluster, dtype: int64"
            ]
          },
          "metadata": {
            "tags": []
          },
          "execution_count": 20
        }
      ]
    },
    {
      "cell_type": "markdown",
      "metadata": {
        "id": "k9jpG-FzdVmU"
      },
      "source": [
        "Check 10 random texts from the largest cluster. "
      ]
    },
    {
      "cell_type": "code",
      "metadata": {
        "id": "T1jy3v3XdVmV",
        "colab": {
          "base_uri": "https://localhost:8080/",
          "height": 347
        },
        "outputId": "1b87cee8-1478-4128-8bc0-ce05f7ab083c"
      },
      "source": [
        "df[df.cluster == 1].sample(10, random_state=0)[[\"text\", \"cluster\"]]"
      ],
      "execution_count": null,
      "outputs": [
        {
          "output_type": "execute_result",
          "data": {
            "text/html": [
              "<div>\n",
              "<style scoped>\n",
              "    .dataframe tbody tr th:only-of-type {\n",
              "        vertical-align: middle;\n",
              "    }\n",
              "\n",
              "    .dataframe tbody tr th {\n",
              "        vertical-align: top;\n",
              "    }\n",
              "\n",
              "    .dataframe thead th {\n",
              "        text-align: right;\n",
              "    }\n",
              "</style>\n",
              "<table border=\"1\" class=\"dataframe\">\n",
              "  <thead>\n",
              "    <tr style=\"text-align: right;\">\n",
              "      <th></th>\n",
              "      <th>text</th>\n",
              "      <th>cluster</th>\n",
              "    </tr>\n",
              "  </thead>\n",
              "  <tbody>\n",
              "    <tr>\n",
              "      <th>2293</th>\n",
              "      <td>Scientists are using our @NASAHubble Space Telescope in ways they didn't imagine when it was launched 30 years ago,… https://t.co/pCdwzw0nWL</td>\n",
              "      <td>1</td>\n",
              "    </tr>\n",
              "    <tr>\n",
              "      <th>261</th>\n",
              "      <td>RT @nasahqphoto: Take a look back at 100 images highlighting the 2020 work of the NASA Headquarters photo team! 📷 https://t.co/ZjqyGxpOr7 h…</td>\n",
              "      <td>1</td>\n",
              "    </tr>\n",
              "    <tr>\n",
              "      <th>2082</th>\n",
              "      <td>I could not be more proud and more humbled by the courage and dedication of my launch team.Tory Bruno, Presiden… https://t.co/bd0Sqg4Pc9</td>\n",
              "      <td>1</td>\n",
              "    </tr>\n",
              "    <tr>\n",
              "      <th>280</th>\n",
              "      <td>❄️ Newborn stars, hidden behind thick dust, are revealed in this image of the Christmas Tree Cluster. Infant stars… https://t.co/Xetdvb20h6</td>\n",
              "      <td>1</td>\n",
              "    </tr>\n",
              "    <tr>\n",
              "      <th>2530</th>\n",
              "      <td>RT @NASAMoon: A full Moon lights up the night this Independence Day. Called the Buck, Hay, or Thunder⛈️ Moon, this full Moon is also a pe…</td>\n",
              "      <td>1</td>\n",
              "    </tr>\n",
              "    <tr>\n",
              "      <th>302</th>\n",
              "      <td>2020 was historic for NASA. We launched humans to the @Space_Station from the U.S., made progress on plans to retur… https://t.co/j3kJO6HDke</td>\n",
              "      <td>1</td>\n",
              "    </tr>\n",
              "    <tr>\n",
              "      <th>1681</th>\n",
              "      <td>RT @KathyLueders: #ICYMI – Robyn Gatens has been named acting director of the @Space_Station. She brings 35 years of experience at @NASA in…</td>\n",
              "      <td>1</td>\n",
              "    </tr>\n",
              "    <tr>\n",
              "      <th>878</th>\n",
              "      <td>Happening now on @Reddit: our astronaut trainers, mission managers, and education specialists join @FAANews to answ… https://t.co/IKwtji9L2v</td>\n",
              "      <td>1</td>\n",
              "    </tr>\n",
              "    <tr>\n",
              "      <th>976</th>\n",
              "      <td>RT @Space_Station: 241 people from around the world have lived and worked on the space station since Nov. 2, 2000. #SpaceStation20th | http…</td>\n",
              "      <td>1</td>\n",
              "    </tr>\n",
              "    <tr>\n",
              "      <th>3195</th>\n",
              "      <td>RT @NASAKennedy: Looking for live views of the launch pad? We got you covered. 🚀👀Check out the rocket that will carry @AstroBehnken and @…</td>\n",
              "      <td>1</td>\n",
              "    </tr>\n",
              "  </tbody>\n",
              "</table>\n",
              "</div>"
            ],
            "text/plain": [
              "                                                                                                                                              text  cluster\n",
              "2293  Scientists are using our @NASAHubble Space Telescope in ways they didn't imagine when it was launched 30 years ago,… https://t.co/pCdwzw0nWL        1\n",
              "261   RT @nasahqphoto: Take a look back at 100 images highlighting the 2020 work of the NASA Headquarters photo team! 📷 https://t.co/ZjqyGxpOr7 h…        1\n",
              "2082      I could not be more proud and more humbled by the courage and dedication of my launch team.Tory Bruno, Presiden… https://t.co/bd0Sqg4Pc9        1\n",
              "280    ❄️ Newborn stars, hidden behind thick dust, are revealed in this image of the Christmas Tree Cluster. Infant stars… https://t.co/Xetdvb20h6        1\n",
              "2530    RT @NASAMoon: A full Moon lights up the night this Independence Day. Called the Buck, Hay, or Thunder⛈️ Moon, this full Moon is also a pe…        1\n",
              "302   2020 was historic for NASA. We launched humans to the @Space_Station from the U.S., made progress on plans to retur… https://t.co/j3kJO6HDke        1\n",
              "1681  RT @KathyLueders: #ICYMI – Robyn Gatens has been named acting director of the @Space_Station. She brings 35 years of experience at @NASA in…        1\n",
              "878   Happening now on @Reddit: our astronaut trainers, mission managers, and education specialists join @FAANews to answ… https://t.co/IKwtji9L2v        1\n",
              "976   RT @Space_Station: 241 people from around the world have lived and worked on the space station since Nov. 2, 2000. #SpaceStation20th | http…        1\n",
              "3195    RT @NASAKennedy: Looking for live views of the launch pad? We got you covered. 🚀👀Check out the rocket that will carry @AstroBehnken and @…        1"
            ]
          },
          "metadata": {
            "tags": []
          },
          "execution_count": 21
        }
      ]
    },
    {
      "cell_type": "markdown",
      "metadata": {
        "id": "r4gq2AkvdVmV"
      },
      "source": [
        "Check 10 random texts from the second largest cluster. "
      ]
    },
    {
      "cell_type": "code",
      "metadata": {
        "id": "rEq-lw7vdVmV",
        "colab": {
          "base_uri": "https://localhost:8080/",
          "height": 347
        },
        "outputId": "3517202a-807c-466e-e49d-c33eeee2dc08"
      },
      "source": [
        "df[df.cluster == 2].sample(10, random_state=0)[[\"text\", \"cluster\"]]"
      ],
      "execution_count": null,
      "outputs": [
        {
          "output_type": "execute_result",
          "data": {
            "text/html": [
              "<div>\n",
              "<style scoped>\n",
              "    .dataframe tbody tr th:only-of-type {\n",
              "        vertical-align: middle;\n",
              "    }\n",
              "\n",
              "    .dataframe tbody tr th {\n",
              "        vertical-align: top;\n",
              "    }\n",
              "\n",
              "    .dataframe thead th {\n",
              "        text-align: right;\n",
              "    }\n",
              "</style>\n",
              "<table border=\"1\" class=\"dataframe\">\n",
              "  <thead>\n",
              "    <tr style=\"text-align: right;\">\n",
              "      <th></th>\n",
              "      <th>text</th>\n",
              "      <th>cluster</th>\n",
              "    </tr>\n",
              "  </thead>\n",
              "  <tbody>\n",
              "    <tr>\n",
              "      <th>1356</th>\n",
              "      <td>RT @NASAKennedy: Four astronauts are getting ready to launch to the @Space_Station on Oct. 31 aboard a @SpaceX Crew Dragon. 🚀 Learn more…</td>\n",
              "      <td>2</td>\n",
              "    </tr>\n",
              "    <tr>\n",
              "      <th>768</th>\n",
              "      <td>Now that the Crew Dragon Resilience spacecraft is safely in orbit, watch continuous coverage of the crew's journey… https://t.co/TZvvWLgwkD</td>\n",
              "      <td>2</td>\n",
              "    </tr>\n",
              "    <tr>\n",
              "      <th>1017</th>\n",
              "      <td>LIVE: Watch with us as the Expedition 1 crew — the very first mission to the @Space_Station — sits down with the… https://t.co/VWu0qRHSwt</td>\n",
              "      <td>2</td>\n",
              "    </tr>\n",
              "    <tr>\n",
              "      <th>491</th>\n",
              "      <td>“It’s the first time we will have a couple of Dragons on board – a Crew Dragon and a Cargo Dragon.” Hear about… https://t.co/4I1u9GNbjW</td>\n",
              "      <td>2</td>\n",
              "    </tr>\n",
              "    <tr>\n",
              "      <th>1528</th>\n",
              "      <td>LIVE: What @ISS_Research is launching from @NASA_Wallops on the next resupply mission to @Space_Station?… https://t.co/0b3TFP6K3v</td>\n",
              "      <td>2</td>\n",
              "    </tr>\n",
              "    <tr>\n",
              "      <th>2854</th>\n",
              "      <td>RT @nasahqphoto: .@NASA and @SpaceX teams monitored the docking of #CrewDragon to @Space_Station from firing room four at @NASAKennedy this…</td>\n",
              "      <td>2</td>\n",
              "    </tr>\n",
              "    <tr>\n",
              "      <th>2066</th>\n",
              "      <td>Today, @NASA_Astronauts aboard @Space_Station answer questions about the upcoming departure of the @SpaceX Dragon E… https://t.co/nvvGIrgdvi</td>\n",
              "      <td>2</td>\n",
              "    </tr>\n",
              "    <tr>\n",
              "      <th>939</th>\n",
              "      <td>On Nov. 14, four space travelers launch on a mission to the @Space_Station and you can have a front row seat to the… https://t.co/dQ5MlxOgI4</td>\n",
              "      <td>2</td>\n",
              "    </tr>\n",
              "    <tr>\n",
              "      <th>1929</th>\n",
              "      <td>RT @JimBridenstine: UPDATE: Post-SpaceX Crew Dragon DM-2 Splashdown News Conference no earlier than 4:45pm ET. Watch live: https://t.co/qPe…</td>\n",
              "      <td>2</td>\n",
              "    </tr>\n",
              "    <tr>\n",
              "      <th>1988</th>\n",
              "      <td>RT @Space_Station: Two very small engine burns separated @SpaceX Endeavour from the station. The spacecraft is slowly maneuvering away from…</td>\n",
              "      <td>2</td>\n",
              "    </tr>\n",
              "  </tbody>\n",
              "</table>\n",
              "</div>"
            ],
            "text/plain": [
              "                                                                                                                                              text  cluster\n",
              "1356     RT @NASAKennedy: Four astronauts are getting ready to launch to the @Space_Station on Oct. 31 aboard a @SpaceX Crew Dragon. 🚀 Learn more…        2\n",
              "768    Now that the Crew Dragon Resilience spacecraft is safely in orbit, watch continuous coverage of the crew's journey… https://t.co/TZvvWLgwkD        2\n",
              "1017     LIVE: Watch with us as the Expedition 1 crew — the very first mission to the @Space_Station — sits down with the… https://t.co/VWu0qRHSwt        2\n",
              "491        “It’s the first time we will have a couple of Dragons on board – a Crew Dragon and a Cargo Dragon.” Hear about… https://t.co/4I1u9GNbjW        2\n",
              "1528             LIVE: What @ISS_Research is launching from @NASA_Wallops on the next resupply mission to @Space_Station?… https://t.co/0b3TFP6K3v        2\n",
              "2854  RT @nasahqphoto: .@NASA and @SpaceX teams monitored the docking of #CrewDragon to @Space_Station from firing room four at @NASAKennedy this…        2\n",
              "2066  Today, @NASA_Astronauts aboard @Space_Station answer questions about the upcoming departure of the @SpaceX Dragon E… https://t.co/nvvGIrgdvi        2\n",
              "939   On Nov. 14, four space travelers launch on a mission to the @Space_Station and you can have a front row seat to the… https://t.co/dQ5MlxOgI4        2\n",
              "1929  RT @JimBridenstine: UPDATE: Post-SpaceX Crew Dragon DM-2 Splashdown News Conference no earlier than 4:45pm ET. Watch live: https://t.co/qPe…        2\n",
              "1988  RT @Space_Station: Two very small engine burns separated @SpaceX Endeavour from the station. The spacecraft is slowly maneuvering away from…        2"
            ]
          },
          "metadata": {
            "tags": []
          },
          "execution_count": 22
        }
      ]
    },
    {
      "cell_type": "code",
      "metadata": {
        "id": "7n1DVx_ydVmV"
      },
      "source": [
        "import nltk\n",
        "df[\"words\"] = df.text.apply(lambda x: nltk.word_tokenize(x))\n",
        "df[\"tagged_words\"] = df.words.apply(lambda x: nltk.pos_tag(x))\n",
        "\n",
        "from collections import Counter\n",
        "\n",
        "def get_counter(dataframe, stopwords=[]):\n",
        "    counter = Counter()\n",
        "    \n",
        "    for l in dataframe.tagged_words:\n",
        "        word_set = set()\n",
        "\n",
        "        for t in l:\n",
        "            word = t[0].lower()\n",
        "            tag = t[1]\n",
        "\n",
        "            if word not in stopwords:\n",
        "                word_set.add(word)\n",
        "            \n",
        "        counter.update(word_set)\n",
        "        \n",
        "    return counter"
      ],
      "execution_count": null,
      "outputs": []
    },
    {
      "cell_type": "markdown",
      "metadata": {
        "id": "Cd3eutxYdVmW"
      },
      "source": [
        "Check the top-30 most common keywords in the largest cluster. (Replace the cluster number as needed.)"
      ]
    },
    {
      "cell_type": "code",
      "metadata": {
        "id": "296wEep5dVmW",
        "colab": {
          "base_uri": "https://localhost:8080/"
        },
        "outputId": "512926eb-03d1-46dc-9ef9-33fe2e5bdbaf"
      },
      "source": [
        "counter0 = get_counter(df[df.cluster == 1], global_stopwords+local_stopwords)\n",
        "counter0.most_common(30)"
      ],
      "execution_count": null,
      "outputs": [
        {
          "output_type": "execute_result",
          "data": {
            "text/plain": [
              "[('space', 199),\n",
              " ('nasa', 186),\n",
              " ('space_station', 185),\n",
              " ('moon', 150),\n",
              " ('amp', 142),\n",
              " ('today', 139),\n",
              " ('live', 131),\n",
              " ('us', 128),\n",
              " ('launch', 122),\n",
              " ('jimbridenstine', 120),\n",
              " ('new', 111),\n",
              " ('earth', 110),\n",
              " ('mission', 89),\n",
              " ('launchamerica', 88),\n",
              " ('first', 81),\n",
              " ('artemis', 80),\n",
              " ('nasa_astronauts', 77),\n",
              " ('🚀', 77),\n",
              " ('years', 77),\n",
              " ('et', 73),\n",
              " ('one', 70),\n",
              " ('rocket', 69),\n",
              " ('astronauts', 62),\n",
              " ('spacex', 62),\n",
              " ('join', 61),\n",
              " ('time', 61),\n",
              " ('nasakennedy', 58),\n",
              " ('thank', 57),\n",
              " ('science', 56),\n",
              " ('thanks', 54)]"
            ]
          },
          "metadata": {
            "tags": []
          },
          "execution_count": 24
        }
      ]
    },
    {
      "cell_type": "markdown",
      "metadata": {
        "id": "NvaG6sqDdVmW"
      },
      "source": [
        "Check the top-30 most common keywords in the second largest cluster. (Replace the cluster number as needed.)"
      ]
    },
    {
      "cell_type": "code",
      "metadata": {
        "id": "rz8yBu25dVmW",
        "colab": {
          "base_uri": "https://localhost:8080/"
        },
        "outputId": "e6a2c1f0-03d7-4a61-d513-6ee46c518fab"
      },
      "source": [
        "counter4 = get_counter(df[df.cluster == 2], global_stopwords+local_stopwords)\n",
        "counter4.most_common(30)"
      ],
      "execution_count": null,
      "outputs": [
        {
          "output_type": "execute_result",
          "data": {
            "text/plain": [
              "[('spacex', 232),\n",
              " ('space_station', 152),\n",
              " ('dragon', 127),\n",
              " ('crew', 124),\n",
              " ('launch', 98),\n",
              " ('mission', 94),\n",
              " ('crew-1', 86),\n",
              " ('nasa', 83),\n",
              " ('spacecraft', 75),\n",
              " ('cargo', 57),\n",
              " ('launchamerica', 48),\n",
              " ('nasakennedy', 44),\n",
              " ('live', 41),\n",
              " ('et', 40),\n",
              " ('astronauts', 39),\n",
              " ('today', 36),\n",
              " ('northropgrumman', 32),\n",
              " ('next', 30),\n",
              " ('🚀', 30),\n",
              " ('resupply', 29),\n",
              " ('first', 29),\n",
              " ('the…', 28),\n",
              " ('cygnus', 27),\n",
              " ('rocket', 27),\n",
              " ('endeavour', 26),\n",
              " ('week', 24),\n",
              " ('falcon', 23),\n",
              " ('9', 23),\n",
              " ('liftoff', 20),\n",
              " ('aboard', 20)]"
            ]
          },
          "metadata": {
            "tags": []
          },
          "execution_count": 25
        }
      ]
    },
    {
      "cell_type": "markdown",
      "metadata": {
        "id": "oMNUakx8dVmX"
      },
      "source": [
        "## LDA Topic Modeling"
      ]
    },
    {
      "cell_type": "markdown",
      "metadata": {
        "id": "a1Xxz8VhdVmX"
      },
      "source": [
        "### Step 1. Choose the number of topics"
      ]
    },
    {
      "cell_type": "markdown",
      "metadata": {
        "id": "k-i9koYcdVmX"
      },
      "source": [
        "Set the number of topics you would like to get. "
      ]
    },
    {
      "cell_type": "code",
      "metadata": {
        "id": "wxe6AttKdVmX"
      },
      "source": [
        "# Your answer here\n",
        "num_topics = 5"
      ],
      "execution_count": null,
      "outputs": []
    },
    {
      "cell_type": "markdown",
      "metadata": {
        "id": "DmgqWIBNdVmX"
      },
      "source": [
        "### Step 2. Initialize a model object for LDA topic modeling"
      ]
    },
    {
      "cell_type": "code",
      "metadata": {
        "id": "pQArs63fdVmY",
        "colab": {
          "base_uri": "https://localhost:8080/"
        },
        "outputId": "3fbd3ccc-1568-4f6d-ed7c-69ed36f4009a"
      },
      "source": [
        "from sklearn.decomposition import LatentDirichletAllocation as LDA\n",
        "\n",
        "lda = LDA(n_components=num_topics, random_state=0)\n",
        "lda"
      ],
      "execution_count": null,
      "outputs": [
        {
          "output_type": "execute_result",
          "data": {
            "text/plain": [
              "LatentDirichletAllocation(batch_size=128, doc_topic_prior=None,\n",
              "                          evaluate_every=-1, learning_decay=0.7,\n",
              "                          learning_method='batch', learning_offset=10.0,\n",
              "                          max_doc_update_iter=100, max_iter=10,\n",
              "                          mean_change_tol=0.001, n_components=5, n_jobs=None,\n",
              "                          perp_tol=0.1, random_state=0, topic_word_prior=None,\n",
              "                          total_samples=1000000.0, verbose=0)"
            ]
          },
          "metadata": {
            "tags": []
          },
          "execution_count": 27
        }
      ]
    },
    {
      "cell_type": "markdown",
      "metadata": {
        "id": "QoBHhvY2dVmY"
      },
      "source": [
        "### Step 3. Fit the model using the input data"
      ]
    },
    {
      "cell_type": "code",
      "metadata": {
        "id": "vpMpp_tudVmY",
        "colab": {
          "base_uri": "https://localhost:8080/"
        },
        "outputId": "cd5e8b2d-da65-4c7e-eb86-f89b2847a5a1"
      },
      "source": [
        "%time lda.fit(X)"
      ],
      "execution_count": null,
      "outputs": [
        {
          "output_type": "stream",
          "text": [
            "CPU times: user 4.47 s, sys: 45.9 ms, total: 4.51 s\n",
            "Wall time: 4.49 s\n"
          ],
          "name": "stdout"
        },
        {
          "output_type": "execute_result",
          "data": {
            "text/plain": [
              "LatentDirichletAllocation(batch_size=128, doc_topic_prior=None,\n",
              "                          evaluate_every=-1, learning_decay=0.7,\n",
              "                          learning_method='batch', learning_offset=10.0,\n",
              "                          max_doc_update_iter=100, max_iter=10,\n",
              "                          mean_change_tol=0.001, n_components=5, n_jobs=None,\n",
              "                          perp_tol=0.1, random_state=0, topic_word_prior=None,\n",
              "                          total_samples=1000000.0, verbose=0)"
            ]
          },
          "metadata": {
            "tags": []
          },
          "execution_count": 28
        }
      ]
    },
    {
      "cell_type": "markdown",
      "metadata": {
        "id": "zL89j5j0dVmY"
      },
      "source": [
        "### Step 4. Examine the output of topic modeling"
      ]
    },
    {
      "cell_type": "code",
      "metadata": {
        "id": "XBeU4DFidVmZ"
      },
      "source": [
        "def show_topics(model, feature_names, num_top_words):\n",
        "    for topic_idx, topic_scores in enumerate(model.components_):\n",
        "        print(\"***Topic {}:\".format(topic_idx))\n",
        "        print(\" + \".join([\"{:.2f} * {}\".format(topic_scores[i], feature_names[i]) for i in topic_scores.argsort()[::-1][:num_top_words]]))\n",
        "        print()"
      ],
      "execution_count": null,
      "outputs": []
    },
    {
      "cell_type": "code",
      "metadata": {
        "scrolled": false,
        "id": "xv2gtoLrdVmZ",
        "colab": {
          "base_uri": "https://localhost:8080/"
        },
        "outputId": "4d8ea2b0-9dbb-4748-fad5-44d1be03a0fa"
      },
      "source": [
        "show_topics(lda, vectorizer.get_feature_names(), 10)"
      ],
      "execution_count": null,
      "outputs": [
        {
          "output_type": "stream",
          "text": [
            "***Topic 0:\n",
            "14.08 * space_station + 11.37 * crew + 9.76 * northropgrumman + 9.63 * spacex + 8.57 * dragon + 8.39 * spacecraft + 8.31 * us + 8.05 * space + 7.92 * mars + 7.81 * cygnus\n",
            "\n",
            "***Topic 1:\n",
            "17.48 * launch + 13.99 * nasa + 13.97 * et + 13.42 * today + 13.41 * sentinel + 12.78 * freilich + 12.70 * michael + 12.56 * launchamerica + 12.42 * live + 11.26 * space_station\n",
            "\n",
            "***Topic 2:\n",
            "16.86 * spacex + 15.44 * space_station + 12.03 * astrobehnken + 11.74 * launch + 11.23 * crew + 11.12 * amp + 9.48 * spacecraft + 9.36 * astro_doug + 8.95 * dragon + 8.81 * new\n",
            "\n",
            "***Topic 3:\n",
            "19.30 * space_station + 16.42 * astrobehnken + 15.91 * spacex + 15.71 * today + 14.10 * live + 13.89 * nasa + 12.74 * nasapersevere + 12.70 * launch + 12.53 * astronauts + 12.34 * space\n",
            "\n",
            "***Topic 4:\n",
            "13.13 * crew + 12.91 * nasa + 11.44 * space_station + 11.09 * mission + 10.82 * spacex + 9.38 * jimbridenstine + 9.08 * moon + 8.13 * launchamerica + 8.06 * astrobehnken + 7.83 * live\n",
            "\n"
          ],
          "name": "stdout"
        }
      ]
    },
    {
      "cell_type": "markdown",
      "metadata": {
        "id": "n1PwFfRMdVma"
      },
      "source": [
        "### Topic Model Visualization"
      ]
    },
    {
      "cell_type": "code",
      "metadata": {
        "id": "OkOB0rSIdVma",
        "colab": {
          "base_uri": "https://localhost:8080/"
        },
        "outputId": "74605bd5-34a8-4440-8600-10ad52d55438"
      },
      "source": [
        "import pyLDAvis\n",
        "import pyLDAvis.sklearn\n",
        "pyLDAvis.enable_notebook()"
      ],
      "execution_count": null,
      "outputs": [
        {
          "output_type": "stream",
          "text": [
            "/usr/local/lib/python3.7/dist-packages/past/types/oldstr.py:5: DeprecationWarning: Using or importing the ABCs from 'collections' instead of from 'collections.abc' is deprecated since Python 3.3,and in 3.9 it will stop working\n",
            "  from collections import Iterable\n",
            "/usr/local/lib/python3.7/dist-packages/past/builtins/misc.py:4: DeprecationWarning: Using or importing the ABCs from 'collections' instead of from 'collections.abc' is deprecated since Python 3.3,and in 3.9 it will stop working\n",
            "  from collections import Mapping\n"
          ],
          "name": "stderr"
        }
      ]
    },
    {
      "cell_type": "code",
      "metadata": {
        "id": "E-MnfnhLdVma",
        "colab": {
          "base_uri": "https://localhost:8080/",
          "height": 858
        },
        "outputId": "65d282c2-8ee5-4fe5-c63e-ac5b6597bae3"
      },
      "source": [
        "pyLDAvis.sklearn.prepare(lda, X, vectorizer)"
      ],
      "execution_count": null,
      "outputs": [
        {
          "output_type": "execute_result",
          "data": {
            "text/html": [
              "\n",
              "<link rel=\"stylesheet\" type=\"text/css\" href=\"https://cdn.jsdelivr.net/gh/bmabey/pyLDAvis@3.3.1/pyLDAvis/js/ldavis.v1.0.0.css\">\n",
              "\n",
              "\n",
              "<div id=\"ldavis_el3211403486278594083990746763\"></div>\n",
              "<script type=\"text/javascript\">\n",
              "\n",
              "var ldavis_el3211403486278594083990746763_data = {\"mdsDat\": {\"x\": [0.046054643759504035, -0.05172164223969754, 0.008829313990700633, -0.0036383568423495557, 0.00047604133184241267], \"y\": [0.03868243469350733, 0.03298885023660084, -0.01995162421317642, -0.0305054605644848, -0.021214200152446978], \"topics\": [1, 2, 3, 4, 5], \"cluster\": [1, 1, 1, 1, 1], \"Freq\": [23.97838492639072, 21.23398282419718, 18.448775557078502, 18.267545558345553, 18.07131113398805]}, \"tinfo\": {\"Term\": [\"sentinel\", \"freilich\", \"michael\", \"northropgrumman\", \"cygnus\", \"shannon\", \"european\", \"sergey\", \"satellite\", \"test\", \"walker\", \"fire\", \"nasa_sls\", \"ocean\", \"run\", \"green\", \"captured\", \"seeingtheseas\", \"thank\", \"coverage\", \"team\", \"21st\", \"astro_soichi\", \"spacewalk\", \"antares\", \"ask\", \"reddit\", \"20\", \"resupply\", \"kate\", \"shannon\", \"walker\", \"florida\", \"run\", \"ivan\", \"rehearsal\", \"green\", \"fire\", \"collection\", \"vagner\", \"astro_soichi\", \"preparation\", \"core\", \"ivanishin\", \"dress\", \"static\", \"anatoly\", \"proceed\", \"performed\", \"breaking\", \"strapped\", \"cassidy\", \"final\", \"twin\", \"progress\", \"article\", \"maejemison\", \"nasamars\", \"dynamic\", \"quest\", \"test\", \"arrived\", \"red\", \"astro_illini\", \"cosmonauts\", \"nasa_sls\", \"rover\", \"hot\", \"spacewalk\", \"astrovicglover\", \"astronauts\", \"hour\", \"astro_seal\", \"artemis\", \"nasapersevere\", \"today\", \"astrobehnken\", \"space_station\", \"live\", \"osirisrex\", \"mars\", \"one\", \"spacex\", \"spacecraft\", \"nasa\", \"space\", \"astro_doug\", \"nasa_astronauts\", \"launch\", \"mission\", \"dragon\", \"go\", \"crew\", \"amp\", \"jimbridenstine\", \"first\", \"sentinel\", \"freilich\", \"michael\", \"european\", \"seeingtheseas\", \"ocean\", \"covid\", \"21\", \"ask\", \"reddit\", \"15pm\", \"briefing\", \"observing\", \"tuned\", \"dashboard\", \"levels\", \"3pm\", \"specialist\", \"17pm\", \"anything\", \"signal\", \"nasa_lsp\", \"heritage\", \"mzkw5udsti\", \"80\", \"12\", \"stay\", \"satellite\", \"45thspacewing\", \"assigned\", \"coverage\", \"answering\", \"17\", \"19\", \"monitoring\", \"et\", \"spaceflight\", \"upcoming\", \"questions\", \"thanks\", \"launch\", \"launchamerica\", \"today\", \"weather\", \"nasa\", \"live\", \"experts\", \"science\", \"space\", \"earth\", \"team\", \"amp\", \"mission\", \"astro_doug\", \"us\", \"spacex\", \"space_station\", \"astrobehnken\", \"crew\", \"day\", \"join\", \"moon\", \"years\", \"time\", \"dragon\", \"nasapersevere\", \"antares\", \"cygnus\", \"kalpana\", \"chawla\", \"pluto\", \"jackson\", \"mary\", \"recap\", \"northropgrumman\", \"separated\", \"eart\", \"thought\", \"saw\", \"approve\", \"astrojordy\", \"worked\", \"dads\", \"lived\", \"improve\", \"halseyftpeyton\", \"omermeroz\", \"mst8oglhld\", \"dr9zl0nr0s\", \"headquarters\", \"performs\", \"nasauniverse\", \"pilots\", \"sam\", \"precise\", \"mining\", \"named\", \"ancient\", \"systems\", \"nasa_wallops\", \"signs\", \"resilience\", \"nasasolarsystem\", \"come\", \"20\", \"feb\", \"part\", \"power\", \"rocket\", \"space_station\", \"crew\", \"mars\", \"us\", \"team\", \"spacecraft\", \"dragon\", \"two\", \"life\", \"space\", \"spacex\", \"get\", \"ready\", \"today\", \"nasaartemis\", \"would\", \"years\", \"new\", \"launchamerica\", \"launch\", \"nasapersevere\", \"amp\", \"astro_seal\", \"mission\", \"week\", \"nasa\", \"next\", \"astrobehnken\", \"moon\", \"kathy\", \"observethemoon\", \"asking\", \"calendars\", \"nasa_tdrs\", \"lueders\", \"pence\", \"energy\", \"sjminamide\", \"sets\", \"aung\", \"mimi\", \"aurora\", \"lead\", \"nasawebb\", \"incredible\", \"bigger\", \"associate\", \"longstanding\", \"ringostarrmusic\", \"council\", \"mile\", \"deborahpatteri\", \"fbvqfygdwc\", \"wxwzs6ouyw\", \"czf36hb6aa\", \"xwqa0dyjkx\", \"llnxojcrgf\", \"captured\", \"pond\", \"selected\", \"manager\", \"vp\", \"sending\", \"night\", \"chandraxray\", \"readiness\", \"support\", \"newly\", \"amount\", \"excited\", \"jimbridenstine\", \"thank\", \"nasa\", \"crew\", \"moon\", \"mission\", \"good\", \"flight\", \"launchamerica\", \"first\", \"spacex\", \"space_station\", \"live\", \"see\", \"earth\", \"us\", \"astrobehnken\", \"artemis\", \"new\", \"dragon\", \"amp\", \"space\", \"administrator\", \"astro_doug\", \"launch\", \"ready\", \"nasapersevere\", \"today\", \"astro_seal\", \"nasakennedy\", \"21st\", \"cycle\", \"dust\", \"flag\", \"lego_group\", \"development\", \"nose\", \"excellent\", \"asks\", \"200\", \"spot\", \"illuminated\", \"fellow\", \"t7yvdgnwyp\", \"theurbandev\", \"jmjb6f8xfm\", \"september\", \"kinds\", \"equipment\", \"41\", \"jimmiejohnson\", \"throughout\", \"turn\", \"oculus\", \"sunrise\", \"plume\", \"bvbcrlcb01\", \"nascar\", \"_cooper\", \"sleep\", \"complex\", \"sverchkov\", \"sergey\", \"begun\", \"twitter\", \"like\", \"american\", \"sun\", \"share\", \"seen\", \"nasahqphoto\", \"spacex\", \"nasasun\", \"new\", \"crewdragon\", \"resupply\", \"amp\", \"space_station\", \"astrobehnken\", \"spacecraft\", \"jimbridenstine\", \"launch\", \"astro_doug\", \"crew\", \"dragon\", \"ryzhikov\", \"endeavour\", \"know\", \"thank\", \"mission\", \"way\", \"nasakennedy\", \"first\", \"earth\", \"us\", \"nasa\", \"see\", \"nasa_astronauts\", \"space\", \"rocket\", \"live\", \"nasapersevere\", \"moon\", \"astronauts\", \"today\"], \"Freq\": [7.0, 7.0, 7.0, 7.0, 5.0, 5.0, 3.0, 5.0, 7.0, 11.0, 4.0, 6.0, 9.0, 3.0, 4.0, 4.0, 3.0, 2.0, 11.0, 4.0, 9.0, 2.0, 4.0, 11.0, 2.0, 3.0, 3.0, 6.0, 5.0, 5.0, 4.288883592926567, 3.706805788562781, 1.684445880004656, 3.4008747233563783, 1.3447353104317923, 1.2911015426523738, 3.3468806711274923, 4.49225001045679, 1.2189467833637029, 1.1757690885234038, 3.174451157962419, 0.956861338034959, 2.29978741979148, 1.3175653008334203, 0.9370867361734712, 0.9220332678136706, 1.6213880405592407, 0.9145822595198482, 1.2981788900701108, 1.221546875124143, 0.8779497367889241, 1.5391906027289164, 2.221800805926955, 0.8424417802860362, 1.9695752864829155, 0.8225389349965139, 0.800646248045528, 1.6878691998589834, 0.7815395491609658, 0.7742087878693188, 6.922678119063519, 2.8417282050770036, 3.619747913572444, 3.9961061087525254, 2.1015460478326817, 5.3704012000820915, 5.918563146479796, 2.933485509418692, 6.002357396794814, 4.192112107139278, 7.143102919518224, 2.246601447799716, 6.329953461874934, 5.185066702365334, 7.263305316853297, 8.95770783717979, 9.365639583330315, 11.00528178013261, 8.038666056872406, 4.8462057538535515, 6.124438262019543, 4.892423617266434, 9.074154182674254, 6.398025559371567, 7.918187593805698, 7.037793844077117, 6.485420336361132, 5.116345058841273, 7.241413475420664, 6.674381734082246, 6.115537466983385, 5.024468746757183, 6.419666544319729, 5.053231282215112, 4.754448427620011, 4.579620438707221, 7.339525794168104, 6.99350748502119, 6.952668745858986, 3.2106746569241027, 2.319041211248264, 2.9484384683274043, 1.27157687661876, 2.3255585007529977, 2.2966513091265943, 2.44622677330724, 1.1739568143662862, 1.163124280017808, 1.8645713372631367, 0.9909384249134664, 0.9733231843009283, 0.9683255986291786, 1.6463688731997994, 0.9360809043763709, 0.9079765874240179, 1.6417094570860102, 1.1706876122587246, 2.4356400953288087, 0.8420452729630141, 0.9070876810088775, 0.8042315425967769, 2.868090331617765, 1.5970961499078364, 4.995502481324022, 0.7620868287224073, 0.7512254906241589, 3.0524519537687866, 1.0423663140019108, 2.187611064865303, 1.3293911554284066, 1.6249240823233444, 7.645391425951171, 2.4963971271520724, 2.2346965588465544, 3.0418498828604044, 4.3609119771607165, 9.56839672440826, 6.874634864264396, 7.346613958611432, 2.848326653473568, 7.658087205266599, 6.797500026636467, 3.067770641780065, 3.6184969174500146, 6.128672430469429, 5.207725995843184, 3.628070525605313, 5.797999883382713, 5.902201350842962, 5.285287314199178, 4.7331983395903, 6.084341478627839, 6.162793577008696, 5.398074958513535, 4.800868170856512, 3.385717249950606, 3.5190073136153455, 3.65723444027303, 3.3181786771882003, 3.3426638417933803, 3.447574620096718, 3.299013767542316, 1.7926487734399315, 4.09027674871718, 1.1617612464413816, 0.9835091252930056, 0.9237566416055816, 0.897467453312948, 0.8974674533129482, 0.9009250990750556, 5.11277851376298, 1.0624448003209253, 1.0633197829375993, 0.7286649678764204, 1.199469277258417, 0.6885153611843637, 0.6865235887625535, 1.5402812794930554, 0.6705422426876781, 1.1383956985947201, 0.9125642331050098, 0.6287559893872658, 0.6287559893850657, 0.6287559893821747, 0.6287559893759228, 0.8858710344736677, 0.6075241381278894, 1.0673064712989886, 0.8196581478101119, 0.5888404251374174, 0.6127745590940852, 0.5619765573913935, 1.8819121782191672, 1.6403133352040606, 1.422473865322072, 2.108619559515472, 1.3640638912742002, 1.9251348104821269, 1.4759289242109723, 1.9123797190723966, 2.81529789260661, 1.205428052601548, 2.270644529991309, 1.84620522467882, 3.9238393407140157, 7.379565223961476, 5.957700961039867, 4.150384135482128, 4.353377114835541, 2.98301375507091, 4.396869824806385, 4.492500751387612, 2.454482949487763, 2.3912645924258324, 4.216252541182095, 5.047989125548878, 2.5456851845339625, 2.941467454171556, 4.0886754878221385, 1.9013020227327573, 2.0250362739084524, 2.5673717030856005, 2.8744894967348116, 3.165673874539709, 3.668339889781173, 3.0765714969796187, 3.1980871021864576, 2.759307527618473, 3.1003648392807155, 2.4086755289943267, 2.8895359558878155, 2.4110733128969937, 2.6216180330330023, 2.479843511167647, 1.2115181199345375, 1.146940139986816, 0.9855791712094887, 0.9516229705867533, 1.2440952143365214, 0.9076740982893237, 0.9058840320094613, 1.4400027810570657, 0.8050853910525188, 0.7688286593875819, 0.7579002550322332, 0.7579002550322332, 0.69562051761505, 0.9286786192175284, 1.1688318362811616, 0.9756301401009815, 0.6559405903351125, 0.924041797584609, 0.6539112454826842, 0.6512989596960482, 0.6390872243754699, 0.6341241443791831, 0.6243703947791124, 0.6243703947776665, 0.6243703947736718, 0.6243703947729016, 0.6243703947721438, 0.6243703947692217, 2.316978139356463, 0.612572221181549, 1.5894212629716022, 1.9874077959528749, 1.1324718009902333, 1.2671301805688018, 2.6840219725417365, 0.9172782109228192, 1.3905020698033204, 1.5907695933168018, 0.8856198637956767, 0.9148083823436286, 1.661997268089332, 4.880682590109321, 3.4526546055208365, 6.720545963927394, 6.832678656496249, 4.723021512159243, 5.771660410995524, 1.9821520070915342, 2.56717020594475, 4.229607114171963, 3.657391783103625, 5.63042073101132, 5.953706631269339, 4.072185283460774, 2.486511140180657, 3.4523453422523733, 3.464496403751159, 4.194552838462067, 2.685245667652946, 3.0490548064749303, 3.425549212515913, 3.4305057614090217, 3.4171387634346906, 2.135307114069402, 3.0883956290832084, 3.468274498057444, 2.4649740045558133, 2.7892028457088602, 2.87008506069809, 2.5034737400906444, 2.444402495291083, 1.7909090159690435, 1.1799344748952425, 1.272621564417624, 1.2612164322329678, 0.8378179700459762, 1.4798358511890704, 0.7341392826669598, 0.9223246405925913, 0.6766100696496067, 0.8801396835689163, 1.5445063635939544, 0.6406202232186506, 0.6259939039594004, 0.6219985268637168, 0.6219985268612779, 0.6219985268555911, 0.6186243188952946, 0.6174914570785986, 0.627103450495789, 0.6041295596437498, 0.5974200434852123, 0.59610908216801, 0.5960802710174669, 0.5880184341766872, 0.9930900747708995, 0.5715594548692633, 0.5630326145197025, 0.5615747538354893, 0.5606271018019283, 1.0874171827259171, 0.9915674326608291, 1.1261629050969058, 2.5466376134265993, 1.181925095890607, 1.7425991793395368, 3.169111498753397, 2.3070129535834263, 2.2410518035011586, 1.7622653192422686, 2.033238485880125, 2.912290159480585, 8.739733253473812, 2.0161388455504703, 4.569293342993093, 1.377385994637413, 1.968717871465134, 5.762560928221344, 8.005117973457127, 6.236132202130362, 4.917013069504935, 4.430507463660801, 6.087249870779562, 4.852865294114958, 5.820423920961173, 4.6420588647262315, 1.456744508867081, 2.455800785572744, 2.080197333703371, 2.7635646272134142, 4.148474996822171, 2.4711078791784615, 2.92223606906831, 3.0830423675348806, 3.2278986747508713, 3.18726537489088, 3.7079687014898073, 2.4467536989418788, 2.7970799786250002, 3.3952008597951453, 2.8150212322629256, 3.238514069560531, 2.9795858046727552, 2.895234912874029, 2.7357998583772547, 2.7245385328862146], \"Total\": [7.0, 7.0, 7.0, 7.0, 5.0, 5.0, 3.0, 5.0, 7.0, 11.0, 4.0, 6.0, 9.0, 3.0, 4.0, 4.0, 3.0, 2.0, 11.0, 4.0, 9.0, 2.0, 4.0, 11.0, 2.0, 3.0, 3.0, 6.0, 5.0, 5.0, 5.198224624005502, 4.593074009562371, 2.106561980559441, 4.369631088148591, 1.7674926490540417, 1.71368725655153, 4.493781812907637, 6.0326279725671, 1.6410144510352727, 1.5987890753354745, 4.4920409248174265, 1.3789312481051337, 3.317853895717093, 1.9079018905035063, 1.3591566146826817, 1.344449270776226, 2.368787662319556, 1.3376506355101867, 1.90550086141068, 1.7989417954259301, 1.3000278758236858, 2.2950810810135587, 3.3302458530371952, 1.26451430389996, 2.9788075422960127, 1.2466521487502622, 1.2227212086963495, 2.597247456318302, 1.203617921898413, 1.1969311057406369, 11.118916249340897, 4.498582553746179, 5.867856560915252, 6.630185042673327, 3.372347807605802, 9.30330236018277, 10.45237904978778, 4.863423934531071, 11.417609488360632, 7.741717875723066, 14.864157665662848, 3.8370323559070107, 14.85963468367831, 11.46522848042242, 19.40767923175685, 25.987620877197667, 27.816017615469278, 38.50646518582925, 24.533900097095824, 11.697614664887123, 16.910810034856482, 12.585621768115903, 34.57663877133611, 19.912059562904794, 28.894325420377317, 24.195058438958476, 21.50304620086913, 13.896071525696126, 30.033674458447102, 25.597083332023615, 22.12322091570986, 13.64622873802423, 29.831338253673533, 23.242384957414647, 17.92138738720331, 16.26564744381758, 7.770227146660469, 7.46381734582435, 7.43723685869853, 3.64546300475479, 2.9049412844260645, 3.885650953502199, 1.6982153331590695, 3.140688927507665, 3.1044422946705534, 3.3312064033484745, 1.600925400800716, 1.5909891207155151, 2.5706991936578447, 1.418397151747788, 1.4008037572191916, 1.3950212689632804, 2.3796307809396877, 1.363299920682632, 1.3370731112109162, 2.426109887591448, 1.738259750634654, 3.625939791773928, 1.2686865663118139, 1.3838883242149653, 1.2317471558865287, 4.4089459128090445, 2.4663257941293506, 7.7629221093780005, 1.1896767509560222, 1.1778694803693015, 4.91847368669219, 1.6440810549042832, 3.7245920212940145, 2.171870885979111, 2.7740671690185197, 17.551041913895673, 4.884922180373667, 4.241976059759713, 6.335442375844105, 10.225310919726128, 30.033674458447102, 19.752750569904194, 25.987620877197667, 6.428638963703776, 28.894325420377317, 24.533900097095824, 7.402225729534594, 9.818858004504621, 24.195058438958476, 18.46719226806368, 9.97528582021705, 23.242384957414647, 25.597083332023615, 21.50304620086913, 18.625200226968712, 34.57663877133611, 38.50646518582925, 27.816017615469278, 29.831338253673533, 10.036897475580897, 12.104942575353203, 18.00907385811803, 10.558227554283294, 11.89145561275502, 22.12322091570986, 19.40767923175685, 2.2248189406301253, 5.415800155383421, 1.5930679120900366, 1.414816286541428, 1.3550647704694243, 1.3290389854052524, 1.3290389854052527, 1.3342067082074918, 7.613738392014043, 1.6396896470150344, 1.6411654035226089, 1.1609515047096246, 1.9231989080089504, 1.1198554249915647, 1.1178561480725564, 2.5211729474419275, 1.1033027188443538, 1.8762199670258852, 1.5064095176885839, 1.0601339166672192, 1.0601339166672228, 1.0601339166672898, 1.0601339166675006, 1.50143013706383, 1.0388343098755641, 1.8352738342968675, 1.4151561965545576, 1.0201611064327503, 1.06433675372502, 0.993285469817764, 3.401785620516268, 2.967034991699485, 2.6444016715398306, 4.2314865029790365, 2.593281071344492, 4.064549789982616, 2.984850013307758, 4.115471332393169, 6.775464377590207, 2.415797361515236, 5.765750845929598, 4.450333190208048, 14.156169893766293, 38.50646518582925, 29.831338253673533, 16.910810034856482, 18.625200226968712, 9.97528582021705, 19.912059562904794, 22.12322091570986, 7.9694984894301735, 7.931727266315903, 24.195058438958476, 34.57663877133611, 9.29067165972179, 12.589276637600623, 25.987620877197667, 5.207889456031304, 5.99972621463993, 10.558227554283294, 15.314287170776172, 19.752750569904194, 30.033674458447102, 19.40767923175685, 23.242384957414647, 14.85963468367831, 25.597083332023615, 11.072477501072786, 28.894325420377317, 11.622874292507278, 27.816017615469278, 18.00907385811803, 1.6440998564264229, 1.5792357033529087, 1.4176821820064174, 1.383663280399228, 1.817089095734366, 1.3405287226197344, 1.3379219176956987, 2.1801918233806807, 1.2371460061446273, 1.2030966077390042, 1.189939318350668, 1.189939318350668, 1.127663594271883, 1.5064986484372616, 1.9011402852996793, 1.592438141477319, 1.0879832344638667, 1.5328192808627144, 1.085954212063728, 1.0833628060938754, 1.0711268849535658, 1.0668286318529867, 1.056479560695448, 1.05647956069563, 1.0564795606955988, 1.0564795606956836, 1.0564795606956934, 1.0564795606958537, 3.9406599572166443, 1.0446212966455648, 2.7259774610130227, 3.55678275880801, 2.0074331124625715, 2.3378762657491667, 5.486082324075591, 1.6405605888347596, 2.6520293376590107, 3.117810600300338, 1.6195114435535303, 1.6943819992345797, 3.8627613972490167, 17.92138738720331, 11.15654121547876, 28.894325420377317, 29.831338253673533, 18.00907385811803, 25.597083332023615, 5.438427695835089, 8.462043063704934, 19.752750569904194, 16.26564744381758, 34.57663877133611, 38.50646518582925, 24.533900097095824, 9.449417687811732, 18.46719226806368, 18.625200226968712, 27.816017615469278, 11.46522848042242, 15.314287170776172, 22.12322091570986, 23.242384957414647, 24.195058438958476, 7.284221809399032, 21.50304620086913, 30.033674458447102, 12.589276637600623, 19.40767923175685, 25.987620877197667, 14.85963468367831, 14.085394444243214, 2.2254039709838844, 1.6123678848942922, 1.834026777056432, 1.871053347385377, 1.2702663879315927, 2.344827860088553, 1.1665764542394812, 1.5060557709122184, 1.1090474398493022, 1.4597380652628242, 2.5765854323538595, 1.0735236954832938, 1.0584302459616572, 1.0545023373287274, 1.0545023373289686, 1.0545023373291016, 1.0510615589912664, 1.0499293820792461, 1.06634591334159, 1.0370812168101984, 1.0298676801727726, 1.0285463301604534, 1.028517841132143, 1.0204678471369557, 1.738633981259921, 1.0039948240813437, 0.99551400285811, 0.9940204717018746, 0.9931088573111132, 1.96540299651042, 1.8559870673411263, 2.162107280870408, 5.4524862374256955, 2.3718760890362542, 3.791929687681386, 7.876435007176847, 5.506351594324702, 5.351385919997628, 3.980208777137653, 4.799648259907658, 7.701091683180718, 34.57663877133611, 4.962448012592009, 15.314287170776172, 3.099904336651379, 5.121905715878064, 23.242384957414647, 38.50646518582925, 27.816017615469278, 19.912059562904794, 17.92138738720331, 30.033674458447102, 21.50304620086913, 29.831338253673533, 22.12322091570986, 3.374012508800512, 8.707524375927433, 6.5017147616089535, 11.15654121547876, 25.597083332023615, 9.156887798899831, 14.085394444243214, 16.26564744381758, 18.46719226806368, 18.625200226968712, 28.894325420377317, 9.449417687811732, 13.896071525696126, 24.195058438958476, 14.156169893766293, 24.533900097095824, 19.40767923175685, 18.00907385811803, 14.864157665662848, 25.987620877197667], \"Category\": [\"Default\", \"Default\", \"Default\", \"Default\", \"Default\", \"Default\", \"Default\", \"Default\", \"Default\", \"Default\", \"Default\", \"Default\", \"Default\", \"Default\", \"Default\", \"Default\", \"Default\", \"Default\", \"Default\", \"Default\", \"Default\", \"Default\", \"Default\", \"Default\", \"Default\", \"Default\", \"Default\", \"Default\", \"Default\", \"Default\", \"Topic1\", \"Topic1\", \"Topic1\", \"Topic1\", \"Topic1\", \"Topic1\", \"Topic1\", \"Topic1\", \"Topic1\", \"Topic1\", \"Topic1\", \"Topic1\", \"Topic1\", \"Topic1\", \"Topic1\", \"Topic1\", \"Topic1\", \"Topic1\", \"Topic1\", \"Topic1\", \"Topic1\", \"Topic1\", \"Topic1\", \"Topic1\", \"Topic1\", \"Topic1\", \"Topic1\", \"Topic1\", \"Topic1\", \"Topic1\", \"Topic1\", \"Topic1\", \"Topic1\", \"Topic1\", \"Topic1\", \"Topic1\", \"Topic1\", \"Topic1\", \"Topic1\", \"Topic1\", \"Topic1\", \"Topic1\", \"Topic1\", \"Topic1\", \"Topic1\", \"Topic1\", \"Topic1\", \"Topic1\", \"Topic1\", \"Topic1\", \"Topic1\", \"Topic1\", \"Topic1\", \"Topic1\", \"Topic1\", \"Topic1\", \"Topic1\", \"Topic1\", \"Topic1\", \"Topic1\", \"Topic1\", \"Topic1\", \"Topic1\", \"Topic1\", \"Topic1\", \"Topic1\", \"Topic2\", \"Topic2\", \"Topic2\", \"Topic2\", \"Topic2\", \"Topic2\", \"Topic2\", \"Topic2\", \"Topic2\", \"Topic2\", \"Topic2\", \"Topic2\", \"Topic2\", \"Topic2\", \"Topic2\", \"Topic2\", \"Topic2\", \"Topic2\", \"Topic2\", \"Topic2\", \"Topic2\", \"Topic2\", \"Topic2\", \"Topic2\", \"Topic2\", \"Topic2\", \"Topic2\", \"Topic2\", \"Topic2\", \"Topic2\", \"Topic2\", \"Topic2\", \"Topic2\", \"Topic2\", \"Topic2\", \"Topic2\", \"Topic2\", \"Topic2\", \"Topic2\", \"Topic2\", \"Topic2\", \"Topic2\", \"Topic2\", \"Topic2\", \"Topic2\", \"Topic2\", \"Topic2\", \"Topic2\", \"Topic2\", \"Topic2\", \"Topic2\", \"Topic2\", \"Topic2\", \"Topic2\", \"Topic2\", \"Topic2\", \"Topic2\", \"Topic2\", \"Topic2\", \"Topic2\", \"Topic2\", \"Topic2\", \"Topic2\", \"Topic2\", \"Topic2\", \"Topic2\", \"Topic3\", \"Topic3\", \"Topic3\", \"Topic3\", \"Topic3\", \"Topic3\", \"Topic3\", \"Topic3\", \"Topic3\", \"Topic3\", \"Topic3\", \"Topic3\", \"Topic3\", \"Topic3\", \"Topic3\", \"Topic3\", \"Topic3\", \"Topic3\", \"Topic3\", \"Topic3\", \"Topic3\", \"Topic3\", \"Topic3\", \"Topic3\", \"Topic3\", \"Topic3\", \"Topic3\", \"Topic3\", \"Topic3\", \"Topic3\", \"Topic3\", \"Topic3\", \"Topic3\", \"Topic3\", \"Topic3\", \"Topic3\", \"Topic3\", \"Topic3\", \"Topic3\", \"Topic3\", \"Topic3\", \"Topic3\", \"Topic3\", \"Topic3\", \"Topic3\", \"Topic3\", \"Topic3\", \"Topic3\", \"Topic3\", \"Topic3\", \"Topic3\", \"Topic3\", \"Topic3\", \"Topic3\", \"Topic3\", \"Topic3\", \"Topic3\", \"Topic3\", \"Topic3\", \"Topic3\", \"Topic3\", \"Topic3\", \"Topic3\", \"Topic3\", \"Topic3\", \"Topic3\", \"Topic3\", \"Topic3\", \"Topic3\", \"Topic3\", \"Topic3\", \"Topic3\", \"Topic4\", \"Topic4\", \"Topic4\", \"Topic4\", \"Topic4\", \"Topic4\", \"Topic4\", \"Topic4\", \"Topic4\", \"Topic4\", \"Topic4\", \"Topic4\", \"Topic4\", \"Topic4\", \"Topic4\", \"Topic4\", \"Topic4\", \"Topic4\", \"Topic4\", \"Topic4\", \"Topic4\", \"Topic4\", \"Topic4\", \"Topic4\", \"Topic4\", \"Topic4\", \"Topic4\", \"Topic4\", \"Topic4\", \"Topic4\", \"Topic4\", \"Topic4\", \"Topic4\", \"Topic4\", \"Topic4\", \"Topic4\", \"Topic4\", \"Topic4\", \"Topic4\", \"Topic4\", \"Topic4\", \"Topic4\", \"Topic4\", \"Topic4\", \"Topic4\", \"Topic4\", \"Topic4\", \"Topic4\", \"Topic4\", \"Topic4\", \"Topic4\", \"Topic4\", \"Topic4\", \"Topic4\", \"Topic4\", \"Topic4\", \"Topic4\", \"Topic4\", \"Topic4\", \"Topic4\", \"Topic4\", \"Topic4\", \"Topic4\", \"Topic4\", \"Topic4\", \"Topic4\", \"Topic4\", \"Topic4\", \"Topic4\", \"Topic4\", \"Topic4\", \"Topic5\", \"Topic5\", \"Topic5\", \"Topic5\", \"Topic5\", \"Topic5\", \"Topic5\", \"Topic5\", \"Topic5\", \"Topic5\", \"Topic5\", \"Topic5\", \"Topic5\", \"Topic5\", \"Topic5\", \"Topic5\", \"Topic5\", \"Topic5\", \"Topic5\", \"Topic5\", \"Topic5\", \"Topic5\", \"Topic5\", \"Topic5\", \"Topic5\", \"Topic5\", \"Topic5\", \"Topic5\", \"Topic5\", \"Topic5\", \"Topic5\", \"Topic5\", \"Topic5\", \"Topic5\", \"Topic5\", \"Topic5\", \"Topic5\", \"Topic5\", \"Topic5\", \"Topic5\", \"Topic5\", \"Topic5\", \"Topic5\", \"Topic5\", \"Topic5\", \"Topic5\", \"Topic5\", \"Topic5\", \"Topic5\", \"Topic5\", \"Topic5\", \"Topic5\", \"Topic5\", \"Topic5\", \"Topic5\", \"Topic5\", \"Topic5\", \"Topic5\", \"Topic5\", \"Topic5\", \"Topic5\", \"Topic5\", \"Topic5\", \"Topic5\", \"Topic5\", \"Topic5\", \"Topic5\", \"Topic5\", \"Topic5\", \"Topic5\", \"Topic5\", \"Topic5\", \"Topic5\", \"Topic5\", \"Topic5\"], \"logprob\": [30.0, 29.0, 28.0, 27.0, 26.0, 25.0, 24.0, 23.0, 22.0, 21.0, 20.0, 19.0, 18.0, 17.0, 16.0, 15.0, 14.0, 13.0, 12.0, 11.0, 10.0, 9.0, 8.0, 7.0, 6.0, 5.0, 4.0, 3.0, 2.0, 1.0, -6.3353, -6.4812, -7.2699, -6.5673, -7.4952, -7.5359, -6.5833, -6.289, -7.5934, -7.6294, -6.6362, -7.8355, -6.9586, -7.5156, -7.8563, -7.8725, -7.3081, -7.8807, -7.5304, -7.5912, -7.9215, -7.3601, -6.993, -7.9628, -7.1135, -7.9867, -8.0137, -7.2679, -8.0379, -8.0473, -5.8566, -6.747, -6.505, -6.406, -7.0487, -6.1105, -6.0133, -6.7152, -5.9992, -6.3582, -5.8252, -6.9819, -5.9461, -6.1456, -5.8085, -5.5989, -5.5543, -5.393, -5.7071, -6.2132, -5.9791, -6.2037, -5.5859, -5.9354, -5.7222, -5.8401, -5.9218, -6.1589, -5.8116, -5.8931, -5.9805, -6.177, -5.932, -6.1713, -6.2323, -6.2698, -5.6765, -5.7248, -5.7307, -6.5033, -6.8287, -6.5885, -7.4296, -6.8259, -6.8384, -6.7753, -7.5094, -7.5187, -7.0468, -7.6789, -7.6969, -7.702, -7.1712, -7.7359, -7.7664, -7.1741, -7.5122, -6.7796, -7.8417, -7.7673, -7.8877, -6.6162, -7.2016, -6.0613, -7.9415, -7.9559, -6.5539, -7.6283, -6.887, -7.3851, -7.1844, -5.6357, -6.755, -6.8657, -6.5574, -6.1971, -5.4114, -5.742, -5.6756, -6.6231, -5.6341, -5.7533, -6.5489, -6.3838, -5.8568, -6.0197, -6.3811, -5.9123, -5.8945, -6.0049, -6.1152, -5.8641, -5.8513, -5.9838, -6.101, -6.4503, -6.4116, -6.3731, -6.4704, -6.463, -6.4321, -6.4762, -6.9455, -6.1206, -7.3793, -7.5458, -7.6085, -7.6374, -7.6374, -7.6335, -5.8975, -7.4686, -7.4678, -7.8458, -7.3473, -7.9024, -7.9053, -7.0972, -7.9289, -7.3996, -7.6207, -7.9932, -7.9932, -7.9932, -7.9932, -7.6504, -8.0276, -7.4641, -7.7281, -8.0588, -8.019, -8.1055, -6.8969, -7.0343, -7.1768, -6.7832, -7.2187, -6.8742, -7.1399, -6.8809, -6.4941, -7.3424, -6.7091, -6.9161, -6.1621, -5.5305, -5.7445, -6.106, -6.0583, -6.4363, -6.0483, -6.0268, -6.6313, -6.6574, -6.0903, -5.9102, -6.5948, -6.4503, -6.121, -6.8867, -6.8236, -6.5863, -6.4733, -6.3768, -6.2295, -6.4054, -6.3667, -6.5142, -6.3977, -6.6501, -6.4681, -6.6491, -6.5654, -6.621, -7.3275, -7.3822, -7.5339, -7.5689, -7.3009, -7.6162, -7.6182, -7.1547, -7.7361, -7.7822, -7.7965, -7.7965, -7.8823, -7.5933, -7.3633, -7.544, -7.941, -7.5983, -7.9441, -7.9481, -7.9671, -7.9749, -7.9904, -7.9904, -7.9904, -7.9904, -7.9904, -7.9904, -6.6791, -8.0094, -7.056, -6.8325, -7.3949, -7.2826, -6.532, -7.6057, -7.1897, -7.0551, -7.6408, -7.6084, -7.0113, -5.9341, -6.2802, -5.6142, -5.5976, -5.9669, -5.7664, -6.8352, -6.5765, -6.0772, -6.2226, -5.7912, -5.7353, -6.1152, -6.6085, -6.2803, -6.2768, -6.0856, -6.5316, -6.4045, -6.2881, -6.2866, -6.2905, -6.7607, -6.3917, -6.2757, -6.6172, -6.4936, -6.465, -6.6017, -6.6255, -6.9258, -7.3431, -7.2675, -7.2765, -7.6855, -7.1166, -7.8176, -7.5894, -7.8992, -7.6362, -7.0738, -7.9539, -7.977, -7.9834, -7.9834, -7.9834, -7.9888, -7.9906, -7.9752, -8.0125, -8.0237, -8.0259, -8.0259, -8.0395, -7.5155, -8.0679, -8.083, -8.0856, -8.0872, -7.4247, -7.517, -7.3897, -6.5738, -7.3414, -6.9532, -6.3551, -6.6726, -6.7016, -6.9419, -6.7989, -6.4396, -5.3407, -6.8074, -5.9892, -7.1884, -6.8312, -5.7572, -5.4285, -5.6782, -5.9158, -6.02, -5.7023, -5.929, -5.7472, -5.9734, -7.1323, -6.6101, -6.7761, -6.492, -6.0858, -6.6039, -6.4362, -6.3826, -6.3367, -6.3494, -6.1981, -6.6138, -6.48, -6.2862, -6.4736, -6.3334, -6.4168, -6.4455, -6.5021, -6.5062], \"loglift\": [30.0, 29.0, 28.0, 27.0, 26.0, 25.0, 24.0, 23.0, 22.0, 21.0, 20.0, 19.0, 18.0, 17.0, 16.0, 15.0, 14.0, 13.0, 12.0, 11.0, 10.0, 9.0, 8.0, 7.0, 6.0, 5.0, 4.0, 3.0, 2.0, 1.0, 1.2357, 1.2136, 1.2044, 1.1774, 1.1547, 1.1449, 1.1334, 1.1332, 1.1307, 1.1207, 1.0808, 1.0626, 1.0615, 1.0578, 1.0562, 1.0509, 1.0489, 1.0478, 1.0442, 1.0409, 1.0355, 1.0285, 1.0233, 1.0219, 1.0143, 1.0122, 1.0046, 0.997, 0.9962, 0.9923, 0.9542, 0.9687, 0.9449, 0.9217, 0.9551, 0.8786, 0.8593, 0.9225, 0.785, 0.8146, 0.6952, 0.8927, 0.5747, 0.6345, 0.4452, 0.3629, 0.3395, 0.1756, 0.3122, 0.5468, 0.4124, 0.4832, 0.0903, 0.2927, 0.1335, 0.1932, 0.2294, 0.4289, 0.0055, 0.0838, 0.1422, 0.4289, -0.1082, -0.0979, 0.1011, 0.1606, 1.4925, 1.4845, 1.4822, 1.4226, 1.3243, 1.2736, 1.2602, 1.2491, 1.2482, 1.2408, 1.2394, 1.2363, 1.2284, 1.1909, 1.1855, 1.1845, 1.1812, 1.1736, 1.1625, 1.159, 1.1543, 1.1517, 1.1397, 1.1272, 1.1233, 1.1196, 1.115, 1.1087, 1.1042, 1.0998, 1.0725, 1.0939, 1.0174, 1.0587, 1.0147, 0.7186, 0.8783, 0.9086, 0.8159, 0.6974, 0.4057, 0.4941, 0.2862, 0.7355, 0.2217, 0.2661, 0.6687, 0.5513, 0.1764, 0.2837, 0.5382, 0.1611, 0.0824, 0.1463, 0.1797, -0.1879, -0.2827, -0.09, -0.2772, 0.4629, 0.3141, -0.0446, 0.3921, 0.2805, -0.3094, -0.2225, 1.4742, 1.4095, 1.3744, 1.3265, 1.307, 1.2975, 1.2975, 1.2975, 1.292, 1.2562, 1.2562, 1.2244, 1.2181, 1.2038, 1.2026, 1.1974, 1.1922, 1.1905, 1.1889, 1.1678, 1.1678, 1.1678, 1.1678, 1.1626, 1.1537, 1.1481, 1.1441, 1.1406, 1.1381, 1.1206, 1.0982, 1.0975, 1.0701, 0.9937, 1.0477, 0.9429, 0.9859, 0.9238, 0.8119, 0.995, 0.7583, 0.8103, 0.4071, 0.0381, 0.0793, 0.2854, 0.2366, 0.483, 0.1797, 0.096, 0.5125, 0.4911, -0.057, -0.234, 0.3956, 0.2362, -0.1592, 0.6825, 0.604, 0.2761, 0.0173, -0.1408, -0.4124, -0.1517, -0.2933, 0.0065, -0.4208, 0.1648, -0.6124, 0.1173, -0.6716, -0.2925, 1.3947, 1.3802, 1.3365, 1.3257, 1.3212, 1.3101, 1.3101, 1.2853, 1.2704, 1.2523, 1.2489, 1.2489, 1.2169, 1.2163, 1.2136, 1.2101, 1.194, 1.1939, 1.1928, 1.1912, 1.1836, 1.1798, 1.1741, 1.1741, 1.1741, 1.1741, 1.1741, 1.1741, 1.169, 1.1663, 1.1606, 1.118, 1.1276, 1.0876, 0.9851, 1.1187, 1.0544, 1.0271, 1.0965, 1.0837, 0.8567, 0.3993, 0.5272, 0.2416, 0.2262, 0.3616, 0.2105, 0.6907, 0.5073, 0.1589, 0.2077, -0.1149, -0.1668, -0.0958, 0.365, 0.0231, 0.0181, -0.1918, 0.2485, 0.0861, -0.1653, -0.2132, -0.2573, 0.4729, -0.2405, -0.4586, 0.0694, -0.2399, -0.5032, -0.0809, -0.0513, 1.4936, 1.3986, 1.3454, 1.3164, 1.2947, 1.2506, 1.2477, 1.2205, 1.2167, 1.2049, 1.1991, 1.1946, 1.1856, 1.183, 1.183, 1.183, 1.1808, 1.18, 1.18, 1.1705, 1.1663, 1.1654, 1.1653, 1.1596, 1.1508, 1.1475, 1.1409, 1.1398, 1.1391, 1.119, 1.084, 1.0586, 0.9495, 1.0143, 0.9333, 0.8004, 0.8409, 0.8404, 0.8961, 0.8519, 0.7384, 0.3355, 0.8101, 0.5014, 0.8997, 0.7547, 0.3162, 0.1401, 0.2156, 0.3122, 0.3134, 0.1147, 0.2222, 0.0767, 0.1494, 0.8709, 0.4451, 0.5712, 0.3153, -0.1089, 0.401, 0.1381, 0.0477, -0.0333, -0.0545, -0.3423, 0.3597, 0.1078, -0.2529, 0.0957, -0.3141, -0.163, -0.117, 0.0183, -0.5445]}, \"token.table\": {\"Topic\": [1, 2, 5, 2, 2, 5, 2, 2, 1, 2, 3, 5, 2, 5, 2, 5, 2, 2, 5, 1, 2, 3, 4, 5, 1, 2, 3, 4, 5, 4, 1, 2, 3, 4, 5, 1, 1, 3, 2, 3, 2, 3, 1, 4, 5, 1, 2, 3, 4, 5, 1, 2, 4, 5, 2, 4, 1, 2, 3, 4, 5, 1, 2, 3, 4, 1, 2, 3, 4, 5, 1, 3, 1, 2, 3, 4, 5, 3, 1, 2, 3, 4, 5, 1, 2, 3, 4, 5, 4, 4, 1, 5, 4, 1, 2, 5, 4, 1, 3, 4, 1, 4, 3, 1, 1, 2, 3, 5, 1, 5, 1, 1, 3, 5, 4, 2, 4, 2, 1, 2, 3, 4, 5, 1, 4, 5, 5, 3, 5, 4, 3, 2, 1, 2, 3, 4, 5, 4, 5, 3, 1, 2, 3, 4, 5, 1, 5, 1, 3, 1, 2, 3, 4, 5, 1, 2, 3, 5, 4, 5, 1, 2, 3, 4, 5, 2, 5, 1, 4, 5, 1, 2, 3, 4, 4, 3, 4, 5, 1, 5, 1, 3, 1, 2, 3, 4, 5, 5, 1, 2, 3, 4, 5, 1, 2, 1, 2, 3, 4, 5, 1, 2, 3, 4, 5, 1, 2, 4, 5, 1, 3, 3, 3, 2, 1, 2, 3, 1, 5, 5, 3, 4, 1, 1, 3, 1, 2, 3, 4, 5, 5, 5, 1, 2, 3, 4, 5, 3, 1, 2, 5, 4, 5, 1, 2, 3, 4, 5, 1, 2, 3, 4, 5, 1, 2, 3, 4, 5, 4, 5, 2, 1, 2, 3, 4, 5, 1, 2, 3, 5, 1, 2, 3, 4, 5, 3, 4, 4, 4, 1, 1, 3, 4, 1, 2, 3, 4, 5, 3, 2, 4, 4, 3, 1, 2, 3, 4, 5, 1, 2, 1, 2, 3, 4, 5, 3, 2, 3, 5, 1, 2, 3, 4, 5, 1, 2, 3, 4, 5, 1, 2, 1, 3, 4, 4, 2, 3, 1, 2, 3, 5, 1, 2, 3, 4, 5, 1, 2, 3, 4, 5, 1, 1, 2, 3, 4, 5, 1, 3, 2, 3, 4, 5, 3, 4, 5, 1, 2, 3, 4, 5, 4, 1, 2, 3, 4, 5, 1, 2, 4, 5, 2, 3, 4, 5, 5, 4, 2, 2, 5, 3, 1, 2, 3, 4, 5, 1, 2, 3, 4, 5, 2, 3, 4, 5, 4, 1, 3, 3, 5, 3, 4, 1, 2, 3, 4, 3, 1, 1, 1, 4, 1, 1, 2, 4, 5, 2, 4, 1, 2, 3, 4, 5, 3, 1, 3, 4, 5, 2, 1, 1, 3, 4, 2, 3, 5, 4, 1, 2, 3, 4, 5, 1, 2, 3, 4, 5, 1, 1, 5, 3, 2, 4, 5, 3, 1, 2, 3, 4, 5, 1, 2, 3, 4, 5, 2, 1, 2, 3, 4, 5, 4, 1, 4, 2, 3, 5, 1, 5, 4, 1, 5, 2, 3, 4, 5, 2, 1, 3, 4, 4, 5, 1, 2, 3, 4, 5, 1, 2, 3, 4, 5, 1, 2, 3, 4, 5, 1, 2, 4, 1, 2, 3, 4, 1, 2, 3, 4, 5, 2, 5, 1, 2, 1, 1, 3, 4, 5, 5, 3, 4, 1, 5, 3, 4, 5, 1, 2, 3, 4, 1, 2, 3, 4, 5, 1, 3, 4, 5, 1, 2, 3, 4, 5, 5, 3, 5, 1, 2, 3, 4, 5, 1, 2, 3, 4, 5, 2, 5, 1, 1, 2, 5, 1, 2, 3, 4, 5, 1, 2, 4, 1, 2, 3, 4, 5, 1, 4, 1, 5, 1, 2, 3, 4, 5, 1, 2, 3, 5, 1, 2, 3, 4, 5, 3, 2, 3, 4, 4, 4, 1, 2, 3, 4, 5], \"Freq\": [0.2268115825813967, 0.6804347477441901, 0.2268115825813967, 0.6246387242652541, 0.5369715632116806, 0.2684857816058403, 0.7479022587585753, 0.46043252683926716, 0.29518271937418544, 0.14759135968709272, 0.4427740790612782, 0.6850544106486331, 0.6368029582563997, 0.8987132341261034, 0.8404665194363572, 0.964244635608915, 0.8405644635792048, 0.811854929171943, 1.0069389600527225, 0.27456604869161794, 0.13728302434580897, 0.13728302434580897, 0.27456604869161794, 0.27456604869161794, 0.18160845395900294, 0.18160845395900294, 0.18160845395900294, 0.18160845395900294, 0.36321690791800587, 0.5901856844865798, 0.21512422280076426, 0.2581490673609171, 0.12907453368045854, 0.12907453368045854, 0.2581490673609171, 0.8443137524794295, 0.3370368070472977, 0.6740736140945954, 0.6082425176161519, 0.8989495565124724, 0.8243649680623187, 0.8929724120482182, 0.666876724870095, 0.22229224162336497, 0.22229224162336497, 0.4361012088453193, 0.08722024176906384, 0.08722024176906384, 0.26166072530719153, 0.08722024176906384, 0.8021483787618504, 0.6442380982353683, 0.7053767146771358, 0.9016746841198068, 0.8489905007866122, 0.6523926287234406, 0.27903023338886224, 0.2325251944907185, 0.09301007779628741, 0.13951511669443112, 0.2325251944907185, 0.6033014122916813, 0.15082535307292033, 0.15082535307292033, 0.15082535307292033, 0.40377843249338735, 0.13459281083112912, 0.20188921624669368, 0.20188921624669368, 0.06729640541556456, 0.6678478781049688, 0.22261595936832293, 0.3235545837084473, 0.17975254650469297, 0.10785152790281578, 0.14380203720375437, 0.21570305580563157, 0.8945694861760453, 0.4709314955781481, 0.06727592793973544, 0.13455185587947088, 0.13455185587947088, 0.20182778381920632, 0.5166811893964045, 0.12917029734910113, 0.12917029734910113, 0.12917029734910113, 0.12917029734910113, 0.840378987884915, 0.8867892916643163, 0.421607184549983, 0.421607184549983, 0.9191318104205688, 0.5558823540275982, 0.6285398102221279, 1.0045062119960249, 0.7227191862108752, 0.2537646005635861, 0.2537646005635861, 0.5075292011271721, 0.8714289079132471, 0.609547740452713, 0.7068055474852766, 0.609379155295754, 0.24298553415472207, 0.24298553415472207, 0.48597106830944414, 0.24298553415472207, 0.5387968577995497, 0.5387968577995497, 0.6027992982396643, 0.5930586386995177, 0.29652931934975885, 0.29652931934975885, 0.9335962097929703, 0.6099453186294432, 0.2033151062098144, 0.588853474865152, 0.20113076889070303, 0.16760897407558586, 0.20113076889070303, 0.23465256370582022, 0.20113076889070303, 0.32259060003130086, 0.32259060003130086, 0.32259060003130086, 0.6202058533717077, 0.73857969002492, 0.18464492250623, 0.9465398453534755, 0.9063695601579252, 0.7138758693688486, 0.29889714498915626, 0.29889714498915626, 0.09963238166305209, 0.09963238166305209, 0.19926476332610418, 0.9465398453536865, 0.4264705384224814, 0.9432770561133166, 0.2712082486930895, 0.13560412434654476, 0.18080549912872634, 0.13560412434654476, 0.22600687391090793, 0.7357503831399644, 0.5452483096266323, 0.8308284396619355, 0.6093231053089426, 0.2166003332795434, 0.2707504165994292, 0.1083001666397717, 0.16245024995965754, 0.16245024995965754, 0.22968640840433838, 0.34452961260650755, 0.11484320420216919, 0.22968640840433838, 0.45867523640620095, 0.9377819969003464, 0.22790669748404413, 0.45581339496808826, 0.11395334874202206, 0.11395334874202206, 0.11395334874202206, 0.8229407337523628, 0.6639860351215943, 0.2588821563537889, 0.5177643127075778, 0.2588821563537889, 0.2701890043720333, 0.40528350655805, 0.13509450218601665, 0.13509450218601665, 0.9465398453535233, 0.41394200355148175, 0.41394200355148175, 0.9447953739185058, 0.6005562616874046, 0.3002781308437023, 0.6630609442832683, 0.16576523607081708, 0.30739630975466964, 0.1844377858528018, 0.12295852390186786, 0.24591704780373572, 0.1844377858528018, 0.5344583046749612, 0.35452431255845096, 0.23634954170563396, 0.11817477085281698, 0.35452431255845096, 0.11817477085281698, 0.9494142676347262, 0.937857891701512, 0.3229045336954503, 0.2152696891303002, 0.3229045336954503, 0.1076348445651501, 0.1076348445651501, 0.3664015968065859, 0.14656063872263436, 0.14656063872263436, 0.14656063872263436, 0.14656063872263436, 0.18387667464363458, 0.18387667464363458, 0.36775334928726916, 0.18387667464363458, 0.6675891542804775, 0.2225297180934925, 0.9432770561135669, 0.6660316556290672, 0.7882167483707896, 0.616849372044154, 0.20561645734805134, 0.20561645734805134, 0.52123615713614, 0.26061807856807, 0.9315118093875013, 0.6638301127666716, 0.6279678776547585, 0.5657732158236686, 0.5241359657839084, 0.7524233758237563, 0.27899625692875923, 0.1115985027715037, 0.05579925138575185, 0.27899625692875923, 0.2231970055430074, 0.9709985265604587, 0.9483146358241861, 0.24783265028520507, 0.3304435337136068, 0.1652217668568034, 0.1652217668568034, 0.1652217668568034, 0.6277196297853008, 0.5979119251865671, 0.19930397506218903, 0.39860795012437805, 0.608235561904115, 0.952445009224937, 0.15380557847673618, 0.15380557847673618, 0.15380557847673618, 0.15380557847673618, 0.30761115695347235, 0.23307171454111633, 0.33295959220159477, 0.13318383688063792, 0.09988787766047844, 0.19977575532095687, 0.15187758228319242, 0.354381025327449, 0.15187758228319242, 0.20250344304425655, 0.10125172152212827, 0.6637908378061483, 0.7872364485911696, 0.7168349488629352, 0.25215188733146543, 0.12607594366573271, 0.25215188733146543, 0.25215188733146543, 0.12607594366573271, 0.25392198350873724, 0.12696099175436862, 0.12696099175436862, 0.3808829752631058, 0.3260794235053966, 0.285319495567222, 0.08151985587634915, 0.1630397117526983, 0.12227978381452373, 0.5329865461271917, 0.946539845353323, 0.9208491379204818, 0.7459743182867021, 0.8178479222309294, 0.28115295979874, 0.28115295979874, 0.56230591959748, 0.35480263734456413, 0.17740131867228207, 0.23653509156304275, 0.11826754578152138, 0.11826754578152138, 0.7524233758237562, 0.9412097709128168, 0.9373576693972758, 0.840378987884915, 1.0067599198682207, 0.27346865692477335, 0.23440170593552, 0.11720085296776, 0.23440170593552, 0.15626780395701334, 0.36048153814307443, 0.7209630762861489, 0.22211025572516616, 0.22211025572516616, 0.11105512786258308, 0.2776378196564577, 0.1665826917938746, 0.9432770561135041, 0.7226016597598418, 0.5879265253924121, 0.29396326269620604, 0.2768709732312391, 0.2768709732312391, 0.10382661496171466, 0.24226210157733422, 0.13843548661561955, 0.35981392228401937, 0.21588835337041162, 0.14392556891360775, 0.07196278445680387, 0.21588835337041162, 0.2757905694597227, 0.5515811389194454, 0.5374435664264245, 0.21497742657056979, 0.10748871328528489, 0.550330747318615, 0.23632357075840452, 0.47264714151680903, 0.38403272897503266, 0.19201636448751633, 0.38403272897503266, 0.19201636448751633, 0.12985171987810673, 0.12985171987810673, 0.12985171987810673, 0.12985171987810673, 0.38955515963432014, 0.2839821075536031, 0.21298658066520232, 0.14199105377680155, 0.14199105377680155, 0.21298658066520232, 0.7700459943216488, 0.360681971110996, 0.15457798761899827, 0.15457798761899827, 0.15457798761899827, 0.15457798761899827, 0.3350252091534133, 0.3350252091534133, 0.20151344607793187, 0.20151344607793187, 0.20151344607793187, 0.40302689215586374, 0.5448778167663035, 0.5260001104244492, 1.0060154981394778, 0.13059700250472933, 0.13059700250472933, 0.195895503757094, 0.195895503757094, 0.3264925062618233, 0.6174701660679848, 0.25811171354868384, 0.25811171354868384, 0.17207447569912257, 0.17207447569912257, 0.08603723784956128, 0.1822794374797321, 0.1822794374797321, 0.5468383124391962, 0.1822794374797321, 0.13134152350820036, 0.6567076175410018, 0.13134152350820036, 0.13134152350820036, 0.857209140786168, 0.6332177001044739, 0.7779984546360722, 0.7720714073136323, 0.9799426829621524, 0.9432770561135637, 0.3972787433249324, 0.23836724599495945, 0.07945574866498649, 0.15891149732997298, 0.15891149732997298, 0.4274375710980259, 0.08548751421960518, 0.17097502843921036, 0.17097502843921036, 0.17097502843921036, 0.17343794879828395, 0.3468758975965679, 0.17343794879828395, 0.17343794879828395, 0.747427773455045, 0.5247964040591827, 0.9626174169389766, 0.706635778039677, 0.9960210710398841, 0.7379721042069287, 0.9572847147680691, 0.22470227671947662, 0.22470227671947662, 0.44940455343895325, 0.22470227671947662, 0.9395522577794567, 0.725199317496181, 0.7475793555157958, 0.671409606563046, 0.335704803281523, 0.8354699741730082, 0.315684348677156, 0.473526523015734, 0.157842174338578, 0.157842174338578, 0.3770697351646631, 0.3770697351646631, 0.23829804414972064, 0.15886536276648044, 0.23829804414972064, 0.15886536276648044, 0.15886536276648044, 0.7495090482219964, 0.6816799215310217, 0.17041998038275544, 0.17041998038275544, 0.17041998038275544, 0.6003830918401311, 0.5835370463174885, 0.24602970849676245, 0.4920594169935249, 0.24602970849676245, 0.19523982975710963, 0.39047965951421926, 0.39047965951421926, 0.923051810875394, 0.21192172900673212, 0.14128115267115474, 0.28256230534230947, 0.14128115267115474, 0.21192172900673212, 0.5740319951486854, 0.09567199919144757, 0.19134399838289515, 0.09567199919144757, 0.09567199919144757, 0.6865568144040044, 0.5927660299964376, 0.2963830149982188, 0.980237330843509, 0.6440873590577121, 0.1288174718115424, 0.1288174718115424, 0.5199670173665396, 0.10184483771343139, 0.40737935085372556, 0.20368967542686278, 0.10184483771343139, 0.20368967542686278, 0.31747988067767713, 0.10582662689255903, 0.10582662689255903, 0.21165325378511807, 0.21165325378511807, 0.6884820738795567, 0.20834860094919522, 0.20834860094919522, 0.20834860094919522, 0.20834860094919522, 0.41669720189839043, 0.7336817815275566, 0.4277386338406376, 0.4277386338406376, 0.9008745649100488, 0.609871509416703, 0.9514190595646257, 0.550207716143893, 0.550207716143893, 0.8311884461874709, 0.769493488512967, 0.19237337212824174, 0.2512431020563562, 0.2512431020563562, 0.2512431020563562, 0.5024862041127124, 0.5752880141387909, 0.3856118841300716, 0.3856118841300716, 0.8083120302965242, 0.5088015036994975, 0.5088015036994975, 0.2893152755824188, 0.24798452192778758, 0.16532301461852505, 0.12399226096389379, 0.12399226096389379, 0.28566631465430137, 0.15581798981143713, 0.18178765478000997, 0.15581798981143713, 0.20775731974858283, 0.30132493231276336, 0.10044164410425446, 0.20088328820850893, 0.10044164410425446, 0.25110411026063617, 0.20471155180685113, 0.40942310361370227, 0.20471155180685113, 0.5255040475956491, 0.08758400793260818, 0.17516801586521635, 0.08758400793260818, 0.2602913504554111, 0.17352756697027402, 0.1446063058085617, 0.17352756697027402, 0.2602913504554111, 0.7335143095286617, 0.7762211083266447, 0.7437989827780144, 0.8109228735151877, 0.7692142750142255, 0.18686747974260157, 0.18686747974260157, 0.18686747974260157, 0.37373495948520313, 0.5751641868148342, 0.3207378921297112, 0.6414757842594224, 0.4625117397492996, 0.4625117397492996, 0.3781573770590236, 0.3781573770590236, 0.9483146358245226, 0.10024775410177082, 0.4009910164070833, 0.30074326230531245, 0.20049550820354164, 0.6295577593198387, 0.08993682275997696, 0.1798736455199539, 0.08993682275997696, 0.08993682275997696, 0.17926702921378254, 0.17926702921378254, 0.2689005438206738, 0.2689005438206738, 0.09779653722517649, 0.39118614890070597, 0.19559307445035298, 0.19559307445035298, 0.09779653722517649, 0.9483146358243056, 0.8613624220678524, 0.9722459462219848, 0.3363759770258502, 0.2522819827693876, 0.1681879885129251, 0.08409399425646255, 0.1681879885129251, 0.34631873546750386, 0.26935901647472527, 0.15391943798555727, 0.11543957848916796, 0.11543957848916796, 0.7050211562874139, 0.972272876568916, 0.7908174679525913, 0.263717970100722, 0.263717970100722, 0.527435940201444, 0.37643523039484295, 0.12547841013161432, 0.25095682026322863, 0.12547841013161432, 0.12547841013161432, 0.2357391899228788, 0.4714783798457576, 0.2357391899228788, 0.16107209390726943, 0.26845348984544903, 0.21476279187635922, 0.16107209390726943, 0.16107209390726943, 0.6254733757110328, 0.49814860270650485, 0.8708764526050214, 0.21771911315125536, 0.32762222994153534, 0.21841481996102358, 0.10920740998051179, 0.10920740998051179, 0.21841481996102358, 0.15555392138927385, 0.4666617641678215, 0.15555392138927385, 0.15555392138927385, 0.36125609644385814, 0.18062804822192907, 0.18062804822192907, 0.09031402411096454, 0.18062804822192907, 0.7932815565188702, 0.33334854432520616, 0.33334854432520616, 0.16667427216260308, 0.9465398453535514, 0.9465398453534667, 0.1894257336013405, 0.2841386004020108, 0.2841386004020108, 0.09471286680067025, 0.09471286680067025], \"Term\": [\"12\", \"12\", \"12\", \"15pm\", \"17\", \"17\", \"17pm\", \"19\", \"20\", \"20\", \"20\", \"200\", \"21\", \"21st\", \"3pm\", \"41\", \"45thspacewing\", \"80\", \"_cooper\", \"administrator\", \"administrator\", \"administrator\", \"administrator\", \"administrator\", \"american\", \"american\", \"american\", \"american\", \"american\", \"amount\", \"amp\", \"amp\", \"amp\", \"amp\", \"amp\", \"anatoly\", \"ancient\", \"ancient\", \"answering\", \"antares\", \"anything\", \"approve\", \"arrived\", \"arrived\", \"arrived\", \"artemis\", \"artemis\", \"artemis\", \"artemis\", \"artemis\", \"article\", \"ask\", \"asking\", \"asks\", \"assigned\", \"associate\", \"astro_doug\", \"astro_doug\", \"astro_doug\", \"astro_doug\", \"astro_doug\", \"astro_illini\", \"astro_illini\", \"astro_illini\", \"astro_illini\", \"astro_seal\", \"astro_seal\", \"astro_seal\", \"astro_seal\", \"astro_seal\", \"astro_soichi\", \"astro_soichi\", \"astrobehnken\", \"astrobehnken\", \"astrobehnken\", \"astrobehnken\", \"astrobehnken\", \"astrojordy\", \"astronauts\", \"astronauts\", \"astronauts\", \"astronauts\", \"astronauts\", \"astrovicglover\", \"astrovicglover\", \"astrovicglover\", \"astrovicglover\", \"astrovicglover\", \"aung\", \"aurora\", \"begun\", \"begun\", \"bigger\", \"breaking\", \"briefing\", \"bvbcrlcb01\", \"calendars\", \"captured\", \"captured\", \"captured\", \"cassidy\", \"chandraxray\", \"chawla\", \"collection\", \"come\", \"come\", \"come\", \"come\", \"complex\", \"complex\", \"core\", \"cosmonauts\", \"cosmonauts\", \"cosmonauts\", \"council\", \"coverage\", \"coverage\", \"covid\", \"crew\", \"crew\", \"crew\", \"crew\", \"crew\", \"crewdragon\", \"crewdragon\", \"crewdragon\", \"cycle\", \"cygnus\", \"cygnus\", \"czf36hb6aa\", \"dads\", \"dashboard\", \"day\", \"day\", \"day\", \"day\", \"day\", \"deborahpatteri\", \"development\", \"dr9zl0nr0s\", \"dragon\", \"dragon\", \"dragon\", \"dragon\", \"dragon\", \"dress\", \"dust\", \"dynamic\", \"eart\", \"earth\", \"earth\", \"earth\", \"earth\", \"earth\", \"endeavour\", \"endeavour\", \"endeavour\", \"endeavour\", \"energy\", \"equipment\", \"et\", \"et\", \"et\", \"et\", \"et\", \"european\", \"excellent\", \"excited\", \"excited\", \"excited\", \"experts\", \"experts\", \"experts\", \"experts\", \"fbvqfygdwc\", \"feb\", \"feb\", \"fellow\", \"final\", \"final\", \"fire\", \"fire\", \"first\", \"first\", \"first\", \"first\", \"first\", \"flag\", \"flight\", \"flight\", \"flight\", \"flight\", \"flight\", \"florida\", \"freilich\", \"get\", \"get\", \"get\", \"get\", \"get\", \"go\", \"go\", \"go\", \"go\", \"go\", \"good\", \"good\", \"good\", \"good\", \"green\", \"green\", \"halseyftpeyton\", \"headquarters\", \"heritage\", \"hot\", \"hot\", \"hot\", \"hour\", \"hour\", \"illuminated\", \"improve\", \"incredible\", \"ivan\", \"ivanishin\", \"jackson\", \"jimbridenstine\", \"jimbridenstine\", \"jimbridenstine\", \"jimbridenstine\", \"jimbridenstine\", \"jimmiejohnson\", \"jmjb6f8xfm\", \"join\", \"join\", \"join\", \"join\", \"join\", \"kalpana\", \"kate\", \"kate\", \"kate\", \"kathy\", \"kinds\", \"know\", \"know\", \"know\", \"know\", \"know\", \"launch\", \"launch\", \"launch\", \"launch\", \"launch\", \"launchamerica\", \"launchamerica\", \"launchamerica\", \"launchamerica\", \"launchamerica\", \"lead\", \"lego_group\", \"levels\", \"life\", \"life\", \"life\", \"life\", \"life\", \"like\", \"like\", \"like\", \"like\", \"live\", \"live\", \"live\", \"live\", \"live\", \"lived\", \"llnxojcrgf\", \"longstanding\", \"lueders\", \"maejemison\", \"manager\", \"manager\", \"manager\", \"mars\", \"mars\", \"mars\", \"mars\", \"mars\", \"mary\", \"michael\", \"mile\", \"mimi\", \"mining\", \"mission\", \"mission\", \"mission\", \"mission\", \"mission\", \"monitoring\", \"monitoring\", \"moon\", \"moon\", \"moon\", \"moon\", \"moon\", \"mst8oglhld\", \"mzkw5udsti\", \"named\", \"named\", \"nasa\", \"nasa\", \"nasa\", \"nasa\", \"nasa\", \"nasa_astronauts\", \"nasa_astronauts\", \"nasa_astronauts\", \"nasa_astronauts\", \"nasa_astronauts\", \"nasa_lsp\", \"nasa_lsp\", \"nasa_sls\", \"nasa_sls\", \"nasa_sls\", \"nasa_tdrs\", \"nasa_wallops\", \"nasa_wallops\", \"nasaartemis\", \"nasaartemis\", \"nasaartemis\", \"nasaartemis\", \"nasahqphoto\", \"nasahqphoto\", \"nasahqphoto\", \"nasahqphoto\", \"nasahqphoto\", \"nasakennedy\", \"nasakennedy\", \"nasakennedy\", \"nasakennedy\", \"nasakennedy\", \"nasamars\", \"nasapersevere\", \"nasapersevere\", \"nasapersevere\", \"nasapersevere\", \"nasapersevere\", \"nasasolarsystem\", \"nasasolarsystem\", \"nasasun\", \"nasasun\", \"nasasun\", \"nasasun\", \"nasauniverse\", \"nasawebb\", \"nascar\", \"new\", \"new\", \"new\", \"new\", \"new\", \"newly\", \"next\", \"next\", \"next\", \"next\", \"next\", \"night\", \"night\", \"night\", \"night\", \"northropgrumman\", \"northropgrumman\", \"northropgrumman\", \"northropgrumman\", \"nose\", \"observethemoon\", \"observing\", \"ocean\", \"oculus\", \"omermeroz\", \"one\", \"one\", \"one\", \"one\", \"one\", \"osirisrex\", \"osirisrex\", \"osirisrex\", \"osirisrex\", \"osirisrex\", \"part\", \"part\", \"part\", \"part\", \"pence\", \"performed\", \"performs\", \"pilots\", \"plume\", \"pluto\", \"pond\", \"power\", \"power\", \"power\", \"power\", \"precise\", \"preparation\", \"proceed\", \"progress\", \"progress\", \"quest\", \"questions\", \"questions\", \"questions\", \"questions\", \"readiness\", \"readiness\", \"ready\", \"ready\", \"ready\", \"ready\", \"ready\", \"recap\", \"red\", \"red\", \"red\", \"red\", \"reddit\", \"rehearsal\", \"resilience\", \"resilience\", \"resilience\", \"resupply\", \"resupply\", \"resupply\", \"ringostarrmusic\", \"rocket\", \"rocket\", \"rocket\", \"rocket\", \"rocket\", \"rover\", \"rover\", \"rover\", \"rover\", \"rover\", \"run\", \"ryzhikov\", \"ryzhikov\", \"sam\", \"satellite\", \"satellite\", \"satellite\", \"saw\", \"science\", \"science\", \"science\", \"science\", \"science\", \"see\", \"see\", \"see\", \"see\", \"see\", \"seeingtheseas\", \"seen\", \"seen\", \"seen\", \"seen\", \"seen\", \"selected\", \"sending\", \"sending\", \"sentinel\", \"separated\", \"september\", \"sergey\", \"sergey\", \"sets\", \"shannon\", \"shannon\", \"share\", \"share\", \"share\", \"share\", \"signal\", \"signs\", \"signs\", \"sjminamide\", \"sleep\", \"sleep\", \"space\", \"space\", \"space\", \"space\", \"space\", \"space_station\", \"space_station\", \"space_station\", \"space_station\", \"space_station\", \"spacecraft\", \"spacecraft\", \"spacecraft\", \"spacecraft\", \"spacecraft\", \"spaceflight\", \"spaceflight\", \"spaceflight\", \"spacewalk\", \"spacewalk\", \"spacewalk\", \"spacewalk\", \"spacex\", \"spacex\", \"spacex\", \"spacex\", \"spacex\", \"specialist\", \"spot\", \"static\", \"stay\", \"strapped\", \"sun\", \"sun\", \"sun\", \"sun\", \"sunrise\", \"support\", \"support\", \"sverchkov\", \"sverchkov\", \"systems\", \"systems\", \"t7yvdgnwyp\", \"team\", \"team\", \"team\", \"team\", \"test\", \"test\", \"test\", \"test\", \"test\", \"thank\", \"thank\", \"thank\", \"thank\", \"thanks\", \"thanks\", \"thanks\", \"thanks\", \"thanks\", \"theurbandev\", \"thought\", \"throughout\", \"time\", \"time\", \"time\", \"time\", \"time\", \"today\", \"today\", \"today\", \"today\", \"today\", \"tuned\", \"turn\", \"twin\", \"twitter\", \"twitter\", \"twitter\", \"two\", \"two\", \"two\", \"two\", \"two\", \"upcoming\", \"upcoming\", \"upcoming\", \"us\", \"us\", \"us\", \"us\", \"us\", \"vagner\", \"vp\", \"walker\", \"walker\", \"way\", \"way\", \"way\", \"way\", \"way\", \"weather\", \"weather\", \"weather\", \"weather\", \"week\", \"week\", \"week\", \"week\", \"week\", \"worked\", \"would\", \"would\", \"would\", \"wxwzs6ouyw\", \"xwqa0dyjkx\", \"years\", \"years\", \"years\", \"years\", \"years\"]}, \"R\": 30, \"lambda.step\": 0.01, \"plot.opts\": {\"xlab\": \"PC1\", \"ylab\": \"PC2\"}, \"topic.order\": [4, 2, 1, 5, 3]};\n",
              "\n",
              "function LDAvis_load_lib(url, callback){\n",
              "  var s = document.createElement('script');\n",
              "  s.src = url;\n",
              "  s.async = true;\n",
              "  s.onreadystatechange = s.onload = callback;\n",
              "  s.onerror = function(){console.warn(\"failed to load library \" + url);};\n",
              "  document.getElementsByTagName(\"head\")[0].appendChild(s);\n",
              "}\n",
              "\n",
              "if(typeof(LDAvis) !== \"undefined\"){\n",
              "   // already loaded: just create the visualization\n",
              "   !function(LDAvis){\n",
              "       new LDAvis(\"#\" + \"ldavis_el3211403486278594083990746763\", ldavis_el3211403486278594083990746763_data);\n",
              "   }(LDAvis);\n",
              "}else if(typeof define === \"function\" && define.amd){\n",
              "   // require.js is available: use it to load d3/LDAvis\n",
              "   require.config({paths: {d3: \"https://d3js.org/d3.v5\"}});\n",
              "   require([\"d3\"], function(d3){\n",
              "      window.d3 = d3;\n",
              "      LDAvis_load_lib(\"https://cdn.jsdelivr.net/gh/bmabey/pyLDAvis@3.3.1/pyLDAvis/js/ldavis.v3.0.0.js\", function(){\n",
              "        new LDAvis(\"#\" + \"ldavis_el3211403486278594083990746763\", ldavis_el3211403486278594083990746763_data);\n",
              "      });\n",
              "    });\n",
              "}else{\n",
              "    // require.js not available: dynamically load d3 & LDAvis\n",
              "    LDAvis_load_lib(\"https://d3js.org/d3.v5.js\", function(){\n",
              "         LDAvis_load_lib(\"https://cdn.jsdelivr.net/gh/bmabey/pyLDAvis@3.3.1/pyLDAvis/js/ldavis.v3.0.0.js\", function(){\n",
              "                 new LDAvis(\"#\" + \"ldavis_el3211403486278594083990746763\", ldavis_el3211403486278594083990746763_data);\n",
              "            })\n",
              "         });\n",
              "}\n",
              "</script>"
            ],
            "text/plain": [
              "PreparedData(topic_coordinates=              x         y  topics  cluster       Freq\n",
              "topic                                                \n",
              "3      0.046055  0.038682       1        1  23.978385\n",
              "1     -0.051722  0.032989       2        1  21.233983\n",
              "0      0.008829 -0.019952       3        1  18.448776\n",
              "4     -0.003638 -0.030505       4        1  18.267546\n",
              "2      0.000476 -0.021214       5        1  18.071311, topic_info=                 Term      Freq      Total Category  logprob  loglift\n",
              "6782         sentinel  7.000000   7.000000  Default  30.0000  30.0000\n",
              "3154         freilich  7.000000   7.000000  Default  29.0000  29.0000\n",
              "4904          michael  7.000000   7.000000  Default  28.0000  28.0000\n",
              "5345  northropgrumman  7.000000   7.000000  Default  27.0000  27.0000\n",
              "2110           cygnus  5.000000   5.000000  Default  26.0000  26.0000\n",
              "...               ...       ...        ...      ...      ...      ...\n",
              "4596             live  3.238514  24.533900   Topic5  -6.3334  -0.3141\n",
              "5181    nasapersevere  2.979586  19.407679   Topic5  -6.4168  -0.1630\n",
              "5022             moon  2.895235  18.009074   Topic5  -6.4455  -0.1170\n",
              "1073       astronauts  2.735800  14.864158   Topic5  -6.5021   0.0183\n",
              "7624            today  2.724539  25.987621   Topic5  -6.5062  -0.5445\n",
              "\n",
              "[380 rows x 6 columns], token_table=      Topic      Freq   Term\n",
              "term                        \n",
              "67        1  0.226812     12\n",
              "67        2  0.680435     12\n",
              "67        5  0.226812     12\n",
              "85        2  0.624639   15pm\n",
              "90        2  0.536972     17\n",
              "...     ...       ...    ...\n",
              "8497      1  0.189426  years\n",
              "8497      2  0.284139  years\n",
              "8497      3  0.284139  years\n",
              "8497      4  0.094713  years\n",
              "8497      5  0.094713  years\n",
              "\n",
              "[615 rows x 3 columns], R=30, lambda_step=0.01, plot_opts={'xlab': 'PC1', 'ylab': 'PC2'}, topic_order=[4, 2, 1, 5, 3])"
            ]
          },
          "metadata": {
            "tags": []
          },
          "execution_count": 32
        }
      ]
    }
  ]
}