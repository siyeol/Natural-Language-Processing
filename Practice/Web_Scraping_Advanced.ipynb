{
  "nbformat": 4,
  "nbformat_minor": 0,
  "metadata": {
    "kernelspec": {
      "display_name": "Python 3",
      "language": "python",
      "name": "python3"
    },
    "language_info": {
      "codemirror_mode": {
        "name": "ipython",
        "version": 3
      },
      "file_extension": ".py",
      "mimetype": "text/x-python",
      "name": "python",
      "nbconvert_exporter": "python",
      "pygments_lexer": "ipython3",
      "version": "3.7.5"
    },
    "colab": {
      "name": "Week2_Advanced_Web_Scraping_Homework.ipynb",
      "provenance": [],
      "collapsed_sections": [],
      "include_colab_link": true
    }
  },
  "cells": [
    {
      "cell_type": "markdown",
      "metadata": {
        "id": "view-in-github",
        "colab_type": "text"
      },
      "source": [
        "<a href=\"https://colab.research.google.com/github/siyeol/Natural-Language-Processing/blob/main/Web_Scraping_Advanced.ipynb\" target=\"_parent\"><img src=\"https://colab.research.google.com/assets/colab-badge.svg\" alt=\"Open In Colab\"/></a>"
      ]
    },
    {
      "cell_type": "markdown",
      "metadata": {
        "id": "cSy00ZgGPkE7"
      },
      "source": [
        "# Software Coaching for Python\n",
        "# Week 2: Advanced Web Scraping - Homework"
      ]
    },
    {
      "cell_type": "markdown",
      "metadata": {
        "id": "46T0R6xsPkFA"
      },
      "source": [
        "Instructor: Kang-Pyo Lee "
      ]
    },
    {
      "cell_type": "code",
      "metadata": {
        "id": "6PWv1ZdIe4Ph",
        "colab": {
          "base_uri": "https://localhost:8080/"
        },
        "outputId": "67247bc2-c87c-4480-a4d1-125ee503e75a"
      },
      "source": [
        "from google.colab import drive\n",
        "\n",
        "drive.mount('/content/gdrive')\n",
        "path = \"/content/gdrive/Shareddrives/SW_Coaching_for_Python\"\n",
        "my_folder = \"SYC\"     # *** REPLACE WITH YOUR FOLDER NAME ***\n",
        "outcome_folder = \"{}/{}/outcome\".format(path, my_folder)"
      ],
      "execution_count": null,
      "outputs": [
        {
          "output_type": "stream",
          "text": [
            "Mounted at /content/gdrive\n"
          ],
          "name": "stdout"
        }
      ]
    },
    {
      "cell_type": "markdown",
      "metadata": {
        "id": "DxIL7H7oc-gZ"
      },
      "source": [
        "Import the <b>requests</b> package and the <b>BeautifulSoup</b> module from the <b>bs4</b> package . You are going to extract information from one of the webpages on DataScienceCentral.com: https://www.datasciencecentral.com/profiles/blogs/beautiful-mathematical-images. Fetch the HTML content from the webpage and then create a BeautifulSoup object named `soup` to parse the HTML content. "
      ]
    },
    {
      "cell_type": "code",
      "metadata": {
        "id": "cxNh-SJ6c-gZ"
      },
      "source": [
        "# Your answer here\n",
        "import requests\n",
        "from bs4 import BeautifulSoup\n",
        "\n",
        "url = \"https://www.datasciencecentral.com/profiles/blogs/beautiful-mathematical-images\"\n",
        "r=requests.get(url)\n",
        "\n",
        "with open(\"{}/{}\".format(outcome_folder, \"example.html\"), \"w+b\") as fw:\n",
        "    fw.write(r.content)\n",
        "\n",
        "with open(\"{}/{}\".format(outcome_folder, \"example.html\"), \"r+b\") as fr:\n",
        "    soup = BeautifulSoup(fr.read(), \"html.parser\")"
      ],
      "execution_count": null,
      "outputs": []
    },
    {
      "cell_type": "markdown",
      "metadata": {
        "id": "Tr4Fkwv2c-gb"
      },
      "source": [
        "1\\. Get the title text of the article, not of the webpage, which is '*Beautiful Mathematical Images*', and save it in the `ans1` variable.==> 이게 차이!"
      ]
    },
    {
      "cell_type": "code",
      "metadata": {
        "id": "mSCYabgDc-gb"
      },
      "source": [
        "# Your answer here\n",
        "ans1 = soup.find(\"div\", attrs={\"class\":\"tb\"}).find(\"h1\").text"
      ],
      "execution_count": null,
      "outputs": []
    },
    {
      "cell_type": "code",
      "metadata": {
        "id": "Ai3ZashTc-gc",
        "colab": {
          "base_uri": "https://localhost:8080/",
          "height": 34
        },
        "outputId": "ce5b5894-0e98-4ee6-8dbb-650e1e4064d8"
      },
      "source": [
        "# Check your answer here. (Do not make any change to this cell. Just run this cell.)\n",
        "ans1"
      ],
      "execution_count": null,
      "outputs": [
        {
          "output_type": "execute_result",
          "data": {
            "application/vnd.google.colaboratory.intrinsic+json": {
              "type": "string"
            },
            "text/plain": [
              "'Beautiful Mathematical Images'"
            ]
          },
          "metadata": {
            "tags": []
          },
          "execution_count": 5
        }
      ]
    },
    {
      "cell_type": "markdown",
      "metadata": {
        "id": "4ERRoOhAc-gc"
      },
      "source": [
        "2\\. Right below the article title, there is a text referring to the author, '*Vincent Granville*', followed by another text referring to the posting date and time, '*on February 2, 2021 at 10:30am*'. Get the two texts and save them in the variables `ans2_1` and `ans2_2`, respectively. Strip out unnecessary leading or trailing whitespaces.  \n",
        "\n",
        "[Hint] Each of the two texts is defined in an a element. Focus on finding those two a elements. You may need hierarchical search. "
      ]
    },
    {
      "cell_type": "code",
      "metadata": {
        "id": "GDkhJS3Cc-gc"
      },
      "source": [
        "# Your answer here\n",
        "ans2_1 = soup.find(\"ul\", attrs={\"class\":\"navigation byline\"}).find_all(\"a\")[1].text\n",
        "ans2_2 = soup.find(\"ul\", attrs={\"class\":\"navigation byline\"}).find_all(\"a\")[2].text.strip()\n",
        "#이런식으로 [1],[2]쓰는 방법외엔 잘 떠오르지 않습니다..!"
      ],
      "execution_count": null,
      "outputs": []
    },
    {
      "cell_type": "code",
      "metadata": {
        "id": "jcMm_MBcc-gd",
        "colab": {
          "base_uri": "https://localhost:8080/"
        },
        "outputId": "433c6453-0cd2-4aad-9e38-7b43926e0e5a"
      },
      "source": [
        "# Check your answer here. (Do not make any change to this cell. Just run this cell.)\n",
        "ans2_1, ans2_2"
      ],
      "execution_count": null,
      "outputs": [
        {
          "output_type": "execute_result",
          "data": {
            "text/plain": [
              "('Vincent Granville', 'on February 2, 2021 at 10:30am')"
            ]
          },
          "metadata": {
            "tags": []
          },
          "execution_count": 25
        }
      ]
    },
    {
      "cell_type": "markdown",
      "metadata": {
        "id": "WSndnfYxc-gd"
      },
      "source": [
        "3\\. Get the entire body text of the article, which starts with '*To zoom in on any picture,*' and ends with '*articles and books, here.*'. To clean the text, do the following:\n",
        "- Replace each new line ('\\n') in the body text with a whitespace (' ')\n",
        "- Remove all '\\xa0' characters.\n",
        "- Strip out all leading and trailing whitespaces. \n",
        "\n",
        "Save the resulting string in the variable `ans3`."
      ]
    },
    {
      "cell_type": "code",
      "metadata": {
        "id": "I2eoK8jSc-gd"
      },
      "source": [
        "# Your answer here\n",
        "ans3 = soup.find(\"div\", attrs={\"class\":\"postbody\"}).text.replace(\"\\n\", \" \").replace(\"\\xa0\", \"\").strip()"
      ],
      "execution_count": null,
      "outputs": []
    },
    {
      "cell_type": "code",
      "metadata": {
        "scrolled": true,
        "id": "HlAWOQ7Pc-gd",
        "colab": {
          "base_uri": "https://localhost:8080/",
          "height": 1000
        },
        "outputId": "d594c530-045a-4943-d209-0095a8576f7f"
      },
      "source": [
        "# Check your answer here. (Do not make any change to this cell. Just run this cell.)\n",
        "ans3"
      ],
      "execution_count": null,
      "outputs": [
        {
          "output_type": "execute_result",
          "data": {
            "application/vnd.google.colaboratory.intrinsic+json": {
              "type": "string"
            },
            "text/plain": [
              "'To zoom in on any picture, click on the image to get a higher resolution.   Figure 1: The pillow basins (see section 3)  The topic discussed here is closely related to optimization techniques in machine learning. I will also talk about dynamic systems, especially discrete chaotic ones, in two dimensions. This is a fascinating branch of quantitative science, with numerous applications. This article provides you with an opportunity to gain exposure to this discipline, which is usually overlooked by data scientists but well studied by mathematicians and physicists. The images presented here are selected not just for their beauty, but most importantly for their intrinsic value: the practical insights that can be derived from them, and the implications for machine learning professionals.  1. Introduction to dynamical systems A discrete dynamical system is a sequence xn+1 = f(xn) where n is an integer, starting with n = 0 (the initial condition) and wherefis a real-valued function. In the continuous version (not discussed here), the index n (also called time)is a real number. The function f is called the map of the system, the system itself is also called a mapping: the most studied one is the logistic map defined by f(x) = ρx (1 - x), with x in [0, 1]. When ρ = 4, it is fully chaotic.The sequence (xn) for a specific initial condition x0, is called the orbit. Another example of chaotic mapping is the digits in base b of an irrational number z in [0,1]. In this case, x0 = z, f(x) = bx - INT(bx) and the n-th digit of z is INT(bxn). Here INT is the integer part function. It is studied in details in my bookApplied Stochastic Processes, Chaos Modeling, and Probabilistic Properties of Numeration Systems,available for free, here. See also the second, large appendix in my free bookStatistics: New Foundations, Toolbox, and Machine Learning Recipes, available here. Applications include the design of non-periodic pseudo-random number generators, cryptography, and even a new concept of number guessing (gambling or simulated stock market) where the winning numbers can be computed in advance with a public algorithm that requires trillions of years of computing time, while a fast, private algorithm is kept secret. See here. The concept easily generalizes to two dimensions. In this case xn is a vector or a complex number. Mappings in the complex plane are known to produce beautiful fractals; it has been used in fractal compression algorithms, to compress images. In one dimension, once in chaotic mode, they produce Brownian-like orbits, with applications in Fintech. 1.1. The sine map Moving forward, we focus exclusively on a particular case of the sine mapping, both in one and two dimensions. This is one of the most simple nonlinear mappings, yet it is very versatile and produces a large number of varied and intriguing configurations. In one dimension, it is defined as follows: xn+1 = -ρxn +λ sin(xn). In two dimensions, it is defined as xn+1 = -ρxn +λ sin(yn), yn+1 = -ρxn +λ sin(xn).  This system is governed by two real parameters:ρ andλ. Some of its properties and references are discussed here. 2. Connection to machine learning optimization algorithms I need to introduce two more concepts before getting down to the interesting stuff. The first one is called fixed point. Note that aroot is simply a value x* such that f(x*) = 0.Some systems don\\'t have any root, some have one, some have several, and some have infinitely many, depending on the values of the parameters (in our case, depending onρ andλ, see section 1.1). Some or all roots can be found using the following fixed point recursion: xn+1 = xn + f(xn). In our case, this translates to using the following algorithm. 2.1. Fixed point algorithm For our sine mapping defined in section 1.1, proceed as follows xn+1 = xn -ρxn +λ sin(xn) in one dimension, or xn+1 = xn -ρxn +λ sin(yn), yn+1 = xn -ρxn +λ sin(xn), in two dimensions. If the sequences in question converge to some x* (one dimension) or x*, y* (two dimensions), then the limit in question is a fixed point of the system. To find as many fixed points as possible, you need to try many different initial conditions. Some initial conditions lead to one fixed point, some lead to another fixed point, some lead to nowhere. Some fixed points can never be reached no matter what initial conditions you use. This is illustrated later in this article. 2.2. Connection to optimization algorithms Optimization techniques are widely used in machine learning and statistical science, for instance in deep neural networks, or if you want to find a maximum likelihood estimator. When looking for the maxima or minima of a function f, you try to find the roots of the derivative of f (in one dimension) or by vanishing its gradient (in two dimensions). This is typically done using the Newton Raphson method, which is a particular type of fixed point algorithm, with quadratic convergence. 2.3. Basins of attraction The second concept I introduce is basins of attraction. A basin of attraction is the full set of initial conditions such that when applying the fixed point algorithm in section 2.2, the fixed point iterations always converge to the same root x* of the system. Let me illustrate this with the one-dimensional sine mapping, withρ = 0 and λ= 1. The roots of the system are solutions to sin(x) = 0, that is x* = kπ, where k is any positive or negative integer. If the initial condition x0 is anywhere in the open interval ]2kπ, 2(k+1)π[, then the fixed point algorithm always converge to the same x* = (2k + 1)π. So each of these intervals constitute a distinct basin of attraction, and there are infinitely many of them. However, none of the roots x* = 2kπ can be reached regardless of the initial condition x0, unless x0 = x* = 2kπ itself. In two dimensions, the basins of attractions look beautiful when plotted. Some have fractal boundaries. I believe none of their boundaries have an explicit, closed-form equation, except in trivial cases. This is illustrated in section 3, featuring the beautiful images promised at the beginning. 2.4. Final note about the one-dimensionalsine map The sequencexn+1 = xn+λ sin(xn) behaves as follows. Here we assumeλ  > 0 andρ = 0.  Ifλ < 1, it converges to a root x* Ifλ = 4, it oscillates constantly in a narrow horizontal band, never converging Ifλ > 6, it behaves chaotically as a Brownian motion, unbounded, with the following exception below  There is a very narrow interval aroundλ = 8, where behavior is non-chaotic. In that case, xn is asymptotically equivalent to +2π n or - 2π n, and the sign depends on the initial condition x0, and is very sensitive to it. In addition, for instance if x0 = 2 and λ= 8, then x2n - x2n-1 gets closer and closer to α =7.939712..., and x2n-1 - x2n-2 gets closer and closer to β =-1.65653... as n increases, withα +β = 2π. Furthermore,α satisfies the equation  For details, see here. The phenomenon in question is pictured in Figure 2 below.   Figure 2: xn for n = 0 to 20,000 (X-axis), with x0 = 2;λ = 8 (top),λ = 7.98 (bottom) 3. Beautiful math images and their implications The first picture (Figure 1, at the top of the article) features part of the four non-degenerate basins of attraction in the 2-dimensional sine map, whenλ = 2 and ρ= 0.75. This sine map has 49 = 7 x 7 roots (x*, y*)with x* one of the 7 solutions ofρx = λsin(λ sin(x) /ρ), and y* also one of the 7 solutions of the same equation. Computations were performed using the fixed point algorithm described in section 2.1. Note that the white zone corresponds to initial conditions (x0, y0) that do not lead to convergence of the fixed point algorithm. Each basin is assigned one color (other than white), and is made of sections of pillows with same color, scattered all over across many pillows. I call it the pillow basins. It would be interesting to see if the basin boundaries can be representedby simple mathematicalfunctions. One degenerate basin (the fifth basin) consisting of the diagonal line x = y, is not displayed in Figure 1. The picture below (Figure 3) shows parts of 5 of the infinitely many basins of attractions corresponding toλ = 0.5 andρ = 0, for the 2-dimensional site map. As in figure 1, the X-axis represents x0, the Y-axis represents y0. The range is from -4 to 4 both in Figure 1 and Figure 3. Each basin has its own color.  Figure 3: The octopus basins In this case, we have infinitely many roots (with x*, y* being a multiple of π) but only one-fourth of them can be reached by the fixed point algorithm. The more roots, the more basins, and as a result, the more interference between basins, making the image look noisy: a very small change in the initial conditions can lead to convergence to a different root, thus the overlapping between the basins. The take out from this is that when dealing with an optimization problem with many local maxima and minima, the solution you get is very sensitive to the initial conditions. In some cases, it matters, and in some cases it does not. If you are looking for a local optimum only, this is not an issue. This is further illustrated in Figure 4 below. It shows the orbits - that is the locations of (xn, yn) - starting with four different initial conditions (x0, y0), for the sine map featured in Figure 1. The blue dots represent a root (x*, y*). Each orbit except the green one converges to a different root. The green one oscillates back and forth, never converging.  Figure 4: Four orbitscorresponding to four initial conditions, for the case shown in Figure 1 Note: When the system is very sensitive to initial conditions and highly chaotic, orbits computed numerically may be all wrong as round-off errors propagate exponentially fast as n increases. In that case, it is needed to use high precision computing to get accurate orbits, see here. 3.1. Benchmarking clustering algorithms The basins of attractions can be used to benchmark supervised clustering algorithms. For instance, in Figure 1, if you group the red and black basins together, and the yellow and blue basins together, you end up with two well separated groups whose boundaries can be determined to arbitrary precision. One can sample points from the merged basins to create a training set with two groups, and check how well your clustering algorithm (based for instance on nearest neighbors or density estimation) can estimate the true boundaries. Another machine learning problem that you can test on these basins is boundary estimation: the problem consists in finding the boundary of a domain when you know points that are inside and points that are outside the domain. 3.2. Interesting probability problem The case pictured in Figure 1 leads to an interesting question. If you pick up randomly a vector of initial conditions (x0, y0), what is the probability that it will fall in (say) the red basin? It turns out that the probabilities are identical regardless of the basin. However, the probability to fall outside any basin (the white area) is different. More beautiful images can be found in Part 2 of this article, here. To not miss them, subscribe to our newsletter, here. See also this article, featuring an image entitled \"the eye of the Riemann Zeta function\". See also the Wikipedia article about \"Infinite Compositions of Analytic Functions\", here.The picture below is from that article.    About the author: Vincent Granville is a data science pioneer, mathematician, book author (Wiley), patent owner, former post-doc at Cambridge University, former VC-funded executive, with 20+ years of corporate experience including CNET, NBC, Visa, Wells Fargo, Microsoft, eBay. Vincent also founded and co-founded a few start-ups, including one with a successful exit (Data Science Central acquired by Tech Target).He is also the founder and investor inParis Restaurantin Anacortes, WA. You can access Vincent\\'s articles and books,here.'"
            ]
          },
          "metadata": {
            "tags": []
          },
          "execution_count": 35
        }
      ]
    },
    {
      "cell_type": "markdown",
      "metadata": {
        "id": "XiLVBXOQc-ge"
      },
      "source": [
        "4\\. There are seven images in the body text. Print the URL of each image in order, seprarated by a new line. The printed output look as follows:"
      ]
    },
    {
      "cell_type": "markdown",
      "metadata": {
        "id": "K4XO-jMMc-ge"
      },
      "source": [
        "https://storage.ning.com/topology/rest/1.0/file/get/8505475867?profile=RESIZE_710x\n",
        "https://storage.ning.com/topology/rest/1.0/file/get/8505364456?profile=RESIZE_710x\n",
        "https://storage.ning.com/topology/rest/1.0/file/get/8507391075?profile=RESIZE_710x\n",
        "https://storage.ning.com/topology/rest/1.0/file/get/8507394283?profile=RESIZE_710x\n",
        "https://storage.ning.com/topology/rest/1.0/file/get/8507115889?profile=RESIZE_710x\n",
        "https://storage.ning.com/topology/rest/1.0/file/get/8507235501?profile=RESIZE_710x\n",
        "https://storage.ning.com/topology/rest/1.0/file/get/8572990262?profile=RESIZE_710x"
      ]
    },
    {
      "cell_type": "code",
      "metadata": {
        "id": "9H-WJCuwc-ge",
        "colab": {
          "base_uri": "https://localhost:8080/"
        },
        "outputId": "470f25fd-a4b6-499f-e054-e0c9bed53dd1"
      },
      "source": [
        "# Your answer here\n",
        "temp = soup.find(\"div\", attrs={\"class\":\"postbody\"}).find_all(\"img\")\n",
        "for i in temp:\n",
        "  print(i.get(\"src\"))\n",
        "  #document reference 해보니 get을 통해 가져올 수 있음.. find와 차이?"
      ],
      "execution_count": null,
      "outputs": [
        {
          "output_type": "stream",
          "text": [
            "https://storage.ning.com/topology/rest/1.0/file/get/8505475867?profile=RESIZE_710x\n",
            "https://storage.ning.com/topology/rest/1.0/file/get/8505364456?profile=RESIZE_710x\n",
            "https://storage.ning.com/topology/rest/1.0/file/get/8507391075?profile=RESIZE_710x\n",
            "https://storage.ning.com/topology/rest/1.0/file/get/8507394283?profile=RESIZE_710x\n",
            "https://storage.ning.com/topology/rest/1.0/file/get/8507115889?profile=RESIZE_710x\n",
            "https://storage.ning.com/topology/rest/1.0/file/get/8507235501?profile=RESIZE_710x\n",
            "https://storage.ning.com/topology/rest/1.0/file/get/8572990262?profile=RESIZE_710x\n"
          ],
          "name": "stdout"
        }
      ]
    },
    {
      "cell_type": "markdown",
      "metadata": {
        "id": "EQIvmPvNc-gf"
      },
      "source": [
        "<hr>"
      ]
    },
    {
      "cell_type": "markdown",
      "metadata": {
        "id": "xz6Ni0ggc-gf"
      },
      "source": [
        "Next, you are going to extract information from another webpage on DataScienceCentral.com: https://www.datasciencecentral.com/profiles/blog/list?promoted=1&page=1. Fetch the HTML content from the webpage and then create a BeautifulSoup object named `soup2` to parse the HTML content. "
      ]
    },
    {
      "cell_type": "code",
      "metadata": {
        "id": "n4-qiDrTc-gf"
      },
      "source": [
        "# Your answer here\n",
        "url2= \"https://www.datasciencecentral.com/profiles/blog/list?promoted=1&page=1\"\n",
        "r=requests.get(url2)\n",
        "\n",
        "with open(\"{}/{}\".format(outcome_folder, \"example2.html\"), \"w+b\") as fw:\n",
        "    fw.write(r.content)\n",
        "\n",
        "with open(\"{}/{}\".format(outcome_folder, \"example2.html\"), \"r+b\") as fr:\n",
        "    soup2 = BeautifulSoup(fr.read(), \"html.parser\")"
      ],
      "execution_count": null,
      "outputs": []
    },
    {
      "cell_type": "markdown",
      "metadata": {
        "id": "xMK3D3Vgc-gg"
      },
      "source": [
        "5\\. The webpage lists 20 featured blog posts. Print the title and URL of each blog post, such that the title is printed on the first row and the URL on the following row, followed by a new line on the following row. For example, the first three blog posts on the list are printed as below. Note that the titles and URLs could be different than yours, as the content of the webpage changes overt time. "
      ]
    },
    {
      "cell_type": "markdown",
      "metadata": {
        "id": "VwouhBKMc-gg"
      },
      "source": [
        "DSC Weekly Digest 12 April 2021\n",
        "https://www.datasciencecentral.com/profiles/blogs/dsc-weekly-digest-12-april-2021\n",
        "\n",
        "6 Limitations of Desktop System That QuickBooks Hosting Helps Overcome\n",
        "https://www.datasciencecentral.com/profiles/blogs/6-limitations-of-desktop-system-that-quickbooks-hosting-helps\n",
        "\n",
        "Robust Artificial Intelligence of Document Attestation to Ensure Identity Theft\n",
        "https://www.datasciencecentral.com/profiles/blogs/robust-artificial-intelligence-of-document-attestation-to-ensure"
      ]
    },
    {
      "cell_type": "code",
      "metadata": {
        "scrolled": false,
        "id": "ERFu80xWc-gg",
        "colab": {
          "base_uri": "https://localhost:8080/"
        },
        "outputId": "45f98fea-fe72-484b-ba79-80242f796c67"
      },
      "source": [
        "# Your answer here\n",
        "\n",
        "temp2 = soup2.find_all(\"h3\", attrs={\"class\":\"title\"})\n",
        "for i in temp2:\n",
        "  #print(i.text, end=\"\")\n",
        "  print(i.text.strip(), end=\" \")\n",
        "  print(i.find(\"a\")[\"href\"])"
      ],
      "execution_count": null,
      "outputs": [
        {
          "output_type": "stream",
          "text": [
            "Strategies for a successful Voice of the Customer program https://www.datasciencecentral.com/profile/StevenRamirez\n",
            "Unusual Opportunities for AI, Machine Learning, and Data Scientists https://www.datasciencecentral.com/profile/VincentGranville\n",
            "How Python Interpreter Works? https://www.datasciencecentral.com/profile/PankajNagla716\n",
            "What Does The Future Hold For the Companies Developing Mobile Apps https://www.datasciencecentral.com/profile/ManishRawat\n",
            "Cloud Computing In Healthcare: Main Problems Companies Encounter https://www.datasciencecentral.com/profile/RyanWilliamson\n",
            "What is Unsupervised learning https://www.datasciencecentral.com/profile/VinayakGoyal\n",
            "MLOps: Comprehensive Beginner's Guide https://www.datasciencecentral.com/profile/OleksandrTyron\n",
            "Top Python Operator https://www.datasciencecentral.com/profile/ApoorvaGupta\n",
            "Why many financial services professionals use alternative data every day (and the rest wish they could) https://www.datasciencecentral.com/profile/OrLenchner\n",
            "The Megatrends Driving Demand for Datacenter Compute https://www.datasciencecentral.com/profile/JarrodJSSiket\n",
            "Five Steps to Building Stunning Visualizations Using Python https://www.datasciencecentral.com/profile/AileenScott\n",
            "6 Ways AI is Changing The Learning And Development Landscape https://www.datasciencecentral.com/profile/MayaKirianova\n",
            "How TensorFlow Works? https://www.datasciencecentral.com/profile/ApoorvaGupta\n",
            "Limitations Of Power Bi https://www.datasciencecentral.com/profile/visheshpaliwal9\n",
            "How to Leverage Data Science For Customer Management https://www.datasciencecentral.com/profile/JoydeepBhattacharya267\n",
            "The Future of Medical Software Development. https://www.datasciencecentral.com/profile/YuliaKondratyuk\n",
            "Model Training: Our Favorite Tools in the Shed https://www.datasciencecentral.com/profile/ClaytonDavis\n",
            "What is data curation and how it helps data management? https://www.datasciencecentral.com/profile/Indhu\n",
            "Types of Saas Solutions: Categories and Examples https://www.datasciencecentral.com/profile/YuliaKondratyuk\n",
            "The Pros and Cons of RDF-Star and Sparql-Star https://www.datasciencecentral.com/profile/KurtCagle\n"
          ],
          "name": "stdout"
        }
      ]
    },
    {
      "cell_type": "markdown",
      "metadata": {
        "id": "FXSnPNSgfPNl"
      },
      "source": [
        "<hr>"
      ]
    },
    {
      "cell_type": "markdown",
      "metadata": {
        "id": "HWAF1tPveQyL"
      },
      "source": [
        "6\\. Click this link https://www.who.int/news-room/releases/1, which will lead you to the News Releases page of the World Health Organization (WHO). On that page, you should see ten links to the most recent news release pages. Click the page number 2 at the bottom, which will lead you to the second page, and you will see another ten links, and so on and so forth. Create a CSV file named hw2_output.csv in the outcome folder, such that the header row contains the two column names, title and url, and the following 50 rows contain the titles and full URLs of all the links in pages 1 to 5. For the CSV file, columns are separated by a tab and rows by a new line. While fetching the content from the web site, sleep for one second per page. The title text may have unnecessary strings '\\r\\n', so remove them all in the title text.   \n",
        "\n",
        "For example, the first value in the title column is 'New WHO Global Compact to speed up action to tackle diabetes' and the first value in the url column is 'https://www.who.int/news/item/14-04-2021-new-who-global-compact-to-speed-up-action-to-tackle-diabetes'. Note that the titles and URLs could be different than yours, as the content of the webpage changes overt time. \n"
      ]
    },
    {
      "cell_type": "code",
      "metadata": {
        "id": "RqsYBaMZeIV-",
        "colab": {
          "base_uri": "https://localhost:8080/"
        },
        "outputId": "3190dfe4-be4c-45a6-eedc-e3a998542cb2"
      },
      "source": [
        "# Your answer here\n",
        "urls = [\"https://www.who.int/news-room/releases/1\"]\n",
        "\n",
        "for i in range(2, 6):     # The range(2, 10) generates a list of integers from 2 to 9.\n",
        "    url = \"https://www.who.int/news-room/releases/{}\".format(i)\n",
        "    urls.append(url)\n",
        "\n",
        "urls"
      ],
      "execution_count": null,
      "outputs": [
        {
          "output_type": "execute_result",
          "data": {
            "text/plain": [
              "['https://www.who.int/news-room/releases/1',\n",
              " 'https://www.who.int/news-room/releases/2',\n",
              " 'https://www.who.int/news-room/releases/3',\n",
              " 'https://www.who.int/news-room/releases/4',\n",
              " 'https://www.who.int/news-room/releases/5']"
            ]
          },
          "metadata": {
            "tags": []
          },
          "execution_count": 122
        }
      ]
    },
    {
      "cell_type": "code",
      "metadata": {
        "id": "82WRPs47tZ_1"
      },
      "source": [
        "#article_title, article_url 가져오기\n",
        "import time\n",
        "with open(\"{}/hw2_output.csv\".format(outcome_folder), \"w\") as fw:\n",
        "  fw.write(\"article_title\\tarticle_url\\n\")\n",
        "\n",
        "  for url in urls:\n",
        "    \n",
        "    r = requests.get(url)\n",
        "    soup = BeautifulSoup(r.content, \"html.parser\")\n",
        "    \n",
        "    hlist = soup.find_all(\"div\", attrs={\"class\":\"list-view--item vertical-list-item\"})\n",
        "    for h in hlist:\n",
        "      article_tile = h.find(\"a\")[\"aria-label\"]\n",
        "      article_url = \"https://www.who.int\" + h.find(\"a\")[\"href\"]\n",
        "\n",
        "      fw.write(\"{}\\t{}\\n\".format(article_tile, article_url))\n",
        "\n",
        "    time.sleep(1)"
      ],
      "execution_count": null,
      "outputs": []
    },
    {
      "cell_type": "code",
      "metadata": {
        "id": "uziGpheRRQRz",
        "colab": {
          "base_uri": "https://localhost:8080/",
          "height": 1000
        },
        "outputId": "59e6bc75-1c5a-4826-896e-b67f6380053f"
      },
      "source": [
        "# Check your answer here. (Do not make any change to this cell. Just run this cell.)\n",
        "import pandas as pd\n",
        "pd.set_option('display.max_colwidth', 150)\n",
        "\n",
        "df_who = pd.read_csv(f\"{outcome_folder}/hw2_output.csv\", sep=\"\\t\")\n",
        "df_who"
      ],
      "execution_count": null,
      "outputs": [
        {
          "output_type": "execute_result",
          "data": {
            "text/html": [
              "<div>\n",
              "<style scoped>\n",
              "    .dataframe tbody tr th:only-of-type {\n",
              "        vertical-align: middle;\n",
              "    }\n",
              "\n",
              "    .dataframe tbody tr th {\n",
              "        vertical-align: top;\n",
              "    }\n",
              "\n",
              "    .dataframe thead th {\n",
              "        text-align: right;\n",
              "    }\n",
              "</style>\n",
              "<table border=\"1\" class=\"dataframe\">\n",
              "  <thead>\n",
              "    <tr style=\"text-align: right;\">\n",
              "      <th></th>\n",
              "      <th>article_title</th>\n",
              "      <th>article_url</th>\n",
              "    </tr>\n",
              "  </thead>\n",
              "  <tbody>\n",
              "    <tr>\n",
              "      <th>0</th>\n",
              "      <td>World Malaria Day: WHO launches effort to stamp out malaria in 25 more countries by 2025</td>\n",
              "      <td>https://www.who.int/news/item/21-04-2021-world-malaria-day-who-launches-effort-to-stamp-out-malaria-in-25-more-countries-by-2025</td>\n",
              "    </tr>\n",
              "    <tr>\n",
              "      <th>1</th>\n",
              "      <td>Driving Global Health: Romain Grosjean announces his support for the WHO Foundation</td>\n",
              "      <td>https://www.who.int/news/item/20-04-2021-driving-global-health-romain-grosjean-announces-his-support-for-the-who-foundation</td>\n",
              "    </tr>\n",
              "    <tr>\n",
              "      <th>2</th>\n",
              "      <td>Greta Thunberg, climate and environment activist, joins World Health Organization’s call for vaccine equity</td>\n",
              "      <td>https://www.who.int/news/item/19-04-2021-greta-thunberg-climate-and-environment-activist-joins-world-health-organization-s-call-for-vaccine-equity</td>\n",
              "    </tr>\n",
              "    <tr>\n",
              "      <th>3</th>\n",
              "      <td>WHO-backed global youth mobilization funds young people's ideas to combat impact of COVID-19 pandemic</td>\n",
              "      <td>https://www.who.int/news/item/19-04-2021-who-backed-global-youth-mobilization-funds-young-people-s-ideas-to-combat-impact-of-covid-19-pandemic</td>\n",
              "    </tr>\n",
              "    <tr>\n",
              "      <th>4</th>\n",
              "      <td>New WHO Global Compact to speed up action to tackle diabetes</td>\n",
              "      <td>https://www.who.int/news/item/14-04-2021-new-who-global-compact-to-speed-up-action-to-tackle-diabetes</td>\n",
              "    </tr>\n",
              "    <tr>\n",
              "      <th>5</th>\n",
              "      <td>WHO and the International Organisation of the Francophonie (IOF) sign Memorandum of Understanding to strengthen access to health in Francophone co...</td>\n",
              "      <td>https://www.who.int/news/item/14-04-2021-who-and-the-international-organisation-of-the-francophonie-(iof)-sign-memorandum-of-understanding-to-stre...</td>\n",
              "    </tr>\n",
              "    <tr>\n",
              "      <th>6</th>\n",
              "      <td>COVAX reaches over 100 economies, 42 days after first international delivery</td>\n",
              "      <td>https://www.who.int/news/item/08-04-2021-covax-reaches-over-100-economies-42-days-after-first-international-delivery</td>\n",
              "    </tr>\n",
              "    <tr>\n",
              "      <th>7</th>\n",
              "      <td>Alisson Becker and WHO Foundation launch campaign to raise resources and support treatment for COVID-19 patients starting in the Americas</td>\n",
              "      <td>https://www.who.int/news/item/07-04-2021-alisson-becker-and-who-foundation-launch-campaign-to-raise-resources-and-support-treatment-for-covid-19-p...</td>\n",
              "    </tr>\n",
              "    <tr>\n",
              "      <th>8</th>\n",
              "      <td>WHO urges countries to build a fairer, healthier world post-COVID-19</td>\n",
              "      <td>https://www.who.int/news/item/06-04-2021-who-urges-countries-to-build-a-fairer-healthier-world-post-covid-19</td>\n",
              "    </tr>\n",
              "    <tr>\n",
              "      <th>9</th>\n",
              "      <td>Carl Bildt, former Prime Minister of Sweden, appointed</td>\n",
              "      <td>NaN</td>\n",
              "    </tr>\n",
              "    <tr>\n",
              "      <th>10</th>\n",
              "      <td>WHO Special Envoy for the ACT-Accelerator</td>\n",
              "      <td>https://www.who.int/news/item/31-03-2021-carl-bildt-former-prime-minister-of-sweden-appointed-who-special-envoy-for-the-act-accelerator</td>\n",
              "    </tr>\n",
              "    <tr>\n",
              "      <th>11</th>\n",
              "      <td>WHO calls for further studies, data on origin of SARS-CoV-2 virus, reiterates that all hypotheses remain open</td>\n",
              "      <td>https://www.who.int/news/item/30-03-2021-who-calls-for-further-studies-data-on-origin-of-sars-cov-2-virus-reiterates-that-all-hypotheses-remain-open</td>\n",
              "    </tr>\n",
              "    <tr>\n",
              "      <th>12</th>\n",
              "      <td>Global leaders unite in urgent call for international pandemic treaty</td>\n",
              "      <td>https://www.who.int/news/item/30-03-2021-global-leaders-unite-in-urgent-call-for-international-pandemic-treaty</td>\n",
              "    </tr>\n",
              "    <tr>\n",
              "      <th>13</th>\n",
              "      <td>COVID-19 highlights urgent need to reboot global effort to end tuberculosis</td>\n",
              "      <td>https://www.who.int/news/item/22-03-2021-covid-19-highlights-urgent-need-to-reboot-global-effort-to-end-tuberculosis</td>\n",
              "    </tr>\n",
              "    <tr>\n",
              "      <th>14</th>\n",
              "      <td>WHO announces 2nd edition Health for All Film Festival shortlist and jury composition</td>\n",
              "      <td>https://www.who.int/news/item/22-03-2021-who-announces-2nd-edition-health-for-all-film-festival-shortlist-and-jury-composition</td>\n",
              "    </tr>\n",
              "    <tr>\n",
              "      <th>15</th>\n",
              "      <td>Ageism is a global challenge: UN</td>\n",
              "      <td>https://www.who.int/news/item/18-03-2021-ageism-is-a-global-challenge-un</td>\n",
              "    </tr>\n",
              "    <tr>\n",
              "      <th>16</th>\n",
              "      <td>New research highlights risks of separating newborns from mothers during COVID-19 pandemic</td>\n",
              "      <td>https://www.who.int/news/item/16-03-2021-new-research-highlights-risks-of-separating-newborns-from-mothers-during-covid-19-pandemic</td>\n",
              "    </tr>\n",
              "    <tr>\n",
              "      <th>17</th>\n",
              "      <td>COVID-19 Solidarity Response Fund marks first anniversary and appeals for continued support</td>\n",
              "      <td>https://www.who.int/news/item/15-03-2021-covid-19-solidarity-response-fund-marks-first-anniversary-and-appeals-for-continued-support</td>\n",
              "    </tr>\n",
              "    <tr>\n",
              "      <th>18</th>\n",
              "      <td>ACT-Accelerator releases prioritised strategy and budget for 2021 to change the course of the evolving COVID-19 pandemic</td>\n",
              "      <td>https://www.who.int/news/item/12-03-2021-act-accelerator-releases-prioritised-strategy-and-budget-for-2021-to-change-the-course-of-the-evolving-co...</td>\n",
              "    </tr>\n",
              "    <tr>\n",
              "      <th>19</th>\n",
              "      <td>WHO adds Janssen vaccine to list of safe and effective emergency tools against COVID-19</td>\n",
              "      <td>https://www.who.int/news/item/12-03-2021-who-adds-janssen-vaccine-to-list-of-safe-and-effective-emergency-tools-against-covid-19</td>\n",
              "    </tr>\n",
              "    <tr>\n",
              "      <th>20</th>\n",
              "      <td>Devastatingly pervasive: 1 in 3 women globally experience violence</td>\n",
              "      <td>https://www.who.int/news/item/09-03-2021-devastatingly-pervasive-1-in-3-women-globally-experience-violence</td>\n",
              "    </tr>\n",
              "    <tr>\n",
              "      <th>21</th>\n",
              "      <td>New WHO/IAEA publication provides guidance on radiotherapy equipment to fight cancer</td>\n",
              "      <td>https://www.who.int/news/item/05-03-2021-new-who-iaea-publication-provides-guidance-on-radiotherapy-equipment-to-fight-cancer</td>\n",
              "    </tr>\n",
              "    <tr>\n",
              "      <th>22</th>\n",
              "      <td>Rotavirus vaccines made available for use in humanitarian crises</td>\n",
              "      <td>https://www.who.int/news/item/04-03-2021-rotavirus-vaccines-made-available-for-use-in-humanitarian-crises</td>\n",
              "    </tr>\n",
              "    <tr>\n",
              "      <th>23</th>\n",
              "      <td>Fiji Launches National Guidelines for Climate Resilient and Environmentally Sustainable Health Care Facilities</td>\n",
              "      <td>https://www.who.int/news/item/03-03-2021-fiji-launches-national-guidelines-for-climate-resilient-and-environmentally-sustainable-health-care-facil...</td>\n",
              "    </tr>\n",
              "    <tr>\n",
              "      <th>24</th>\n",
              "      <td>WHO: 1 in 4 people projected to have hearing problems by 2050</td>\n",
              "      <td>https://www.who.int/news/item/02-03-2021-who-1-in-4-people-projected-to-have-hearing-problems-by-2050</td>\n",
              "    </tr>\n",
              "    <tr>\n",
              "      <th>25</th>\n",
              "      <td>First COVID-19 COVAX vaccine doses administered in Africa</td>\n",
              "      <td>https://www.who.int/news/item/01-03-2021-first-covid-19-covax-vaccine-doses-administered-in-africa</td>\n",
              "    </tr>\n",
              "    <tr>\n",
              "      <th>26</th>\n",
              "      <td>COVID-19 oxygen emergency impacting more than half a million people in low- and middle-income countries every day, as demand surges</td>\n",
              "      <td>https://www.who.int/news/item/25-02-2021-covid-19-oxygen-emergency-impacting-more-than-half-a-million-people-in-low--and-middle-income-countries-e...</td>\n",
              "    </tr>\n",
              "    <tr>\n",
              "      <th>27</th>\n",
              "      <td>El Salvador certified as malaria-free by WHO</td>\n",
              "      <td>https://www.who.int/news/item/25-02-2021-el-salvador-certified-as-malaria-free-by-who</td>\n",
              "    </tr>\n",
              "    <tr>\n",
              "      <th>28</th>\n",
              "      <td>COVID-19 vaccine doses shipped by the COVAX Facility head to Ghana, marking beginning of global rollout</td>\n",
              "      <td>https://www.who.int/news/item/24-02-2021-covid-19-vaccine-doses-shipped-by-the-covax-facility-head-to-ghana-marking-beginning-of-global-rollout</td>\n",
              "    </tr>\n",
              "    <tr>\n",
              "      <th>29</th>\n",
              "      <td>No-fault compensation programme for COVID-19 vaccines is a world first</td>\n",
              "      <td>https://www.who.int/news/item/22-02-2021-no-fault-compensation-programme-for-covid-19-vaccines-is-a-world-first</td>\n",
              "    </tr>\n",
              "    <tr>\n",
              "      <th>30</th>\n",
              "      <td>G7 leaders commit US$ 4.3 billion to finance global equitable access to tests, treatments and vaccines in 2021</td>\n",
              "      <td>https://www.who.int/news/item/19-02-2021-g7-leaders-commit-us-4.3-billion-to-finance-global-equitable-access-to-tests-treatments-and-vaccines-in-2021</td>\n",
              "    </tr>\n",
              "    <tr>\n",
              "      <th>31</th>\n",
              "      <td>World Waking Up To Vaccine Equity</td>\n",
              "      <td>https://www.who.int/news/item/19-02-2021-world-waking-up-to-vaccine-equity</td>\n",
              "    </tr>\n",
              "    <tr>\n",
              "      <th>32</th>\n",
              "      <td>COVAX Statement on WHO Emergency Use Listing for AstraZeneca/Oxford COVID-19 Vaccine</td>\n",
              "      <td>https://www.who.int/news/item/16-02-2021-covax-statement-on-who-emergency-use-listing-for-astrazeneca-oxford-covid-19-vaccine</td>\n",
              "    </tr>\n",
              "    <tr>\n",
              "      <th>33</th>\n",
              "      <td>WHO lists two additional COVID-19 vaccines for emergency use and COVAX roll-out</td>\n",
              "      <td>https://www.who.int/news/item/15-02-2021-who-lists-two-additional-covid-19-vaccines-for-emergency-use-and-covax-roll-out</td>\n",
              "    </tr>\n",
              "    <tr>\n",
              "      <th>34</th>\n",
              "      <td>Acute malnutrition threatens half of children under five in Yemen in 2021: UN</td>\n",
              "      <td>https://www.who.int/news/item/12-02-2021-acute-malnutrition-threatens-half-of-children-under-five-in-yemen-in-2021-un</td>\n",
              "    </tr>\n",
              "    <tr>\n",
              "      <th>35</th>\n",
              "      <td>In the COVID-19 vaccine race, we either win together or lose together</td>\n",
              "      <td>https://www.who.int/news/item/10-02-2021-in-the-covid-19-vaccine-race-we-either-win-together-or-lose-together</td>\n",
              "    </tr>\n",
              "    <tr>\n",
              "      <th>36</th>\n",
              "      <td>WHO receives nearly 1 200 entries for the second edition of Health for All Film Festival</td>\n",
              "      <td>https://www.who.int/news/item/04-02-2021-who-receives-nearly-1-200-entries-for-the-second-edition-of-health-for-all-film-festival</td>\n",
              "    </tr>\n",
              "    <tr>\n",
              "      <th>37</th>\n",
              "      <td>Michael R. Bloomberg and Dr Tedros Adhanom Ghebreyesus call for global focus on noncommunicable diseases to save lives from COVID-19</td>\n",
              "      <td>https://www.who.int/news/item/03-02-2021-michael-r.-bloomberg-and-dr-tedros-adhanom-ghebreyesus-call-for-global-focus-on-noncommunicable-diseases-...</td>\n",
              "    </tr>\n",
              "    <tr>\n",
              "      <th>38</th>\n",
              "      <td>WHO SCORE Global Report highlights urgent need for better data to strengthen pandemic response and improve health outcomes</td>\n",
              "      <td>https://www.who.int/news/item/01-02-2021-who-score-global-report-highlights-urgent-need-for-better-data-to-strengthen-pandemic-response-and-improv...</td>\n",
              "    </tr>\n",
              "    <tr>\n",
              "      <th>39</th>\n",
              "      <td>FIFA and WHO #ACTogether to tackle COVID-19</td>\n",
              "      <td>https://www.who.int/news/item/01-02-2021-fifa-and-who-actogether-to-tackle-covid-19</td>\n",
              "    </tr>\n",
              "    <tr>\n",
              "      <th>40</th>\n",
              "      <td>WHO publishes new Essential Diagnostics List and urges countries to prioritize investments in testing</td>\n",
              "      <td>https://www.who.int/news/item/29-01-2021-who-publishes-new-essential-diagnostics-list-and-urges-countries-to-prioritize-investments-in-testing</td>\n",
              "    </tr>\n",
              "    <tr>\n",
              "      <th>41</th>\n",
              "      <td>WHO issues new 10-year plan to end suffering from neglected tropical diseases</td>\n",
              "      <td>https://www.who.int/news/item/28-01-2021-who-issues-new-10-year-plan-to-end-suffering-from-neglected-tropical-diseases</td>\n",
              "    </tr>\n",
              "    <tr>\n",
              "      <th>42</th>\n",
              "      <td>COVAX Announces new agreement, plans for first deliveries</td>\n",
              "      <td>https://www.who.int/news/item/22-01-2021-covax-announces-new-agreement-plans-for-first-deliveries</td>\n",
              "    </tr>\n",
              "    <tr>\n",
              "      <th>43</th>\n",
              "      <td>Scientists tackle vaccine safety, efficacy and access at global R&amp;D forum</td>\n",
              "      <td>https://www.who.int/news/item/16-01-2021-scientists-tackle-vaccine-safety-efficacy-and-access-at-global-r-d-forum</td>\n",
              "    </tr>\n",
              "    <tr>\n",
              "      <th>44</th>\n",
              "      <td>Emergency Committee on COVID-19 advises on variants, vaccines</td>\n",
              "      <td>https://www.who.int/news/item/15-01-2021-emergency-committee-on-covid-19-advises-on-variants-vaccines</td>\n",
              "    </tr>\n",
              "    <tr>\n",
              "      <th>45</th>\n",
              "      <td>UNICEF, WHO, IFRC and MSF announce the establishment of a global Ebola vaccine stockpile</td>\n",
              "      <td>https://www.who.int/news/item/12-01-2021-unicef-who-ifrc-and-msf-announce-the-establishment-of-a-global-ebola-vaccine-stockpile</td>\n",
              "    </tr>\n",
              "    <tr>\n",
              "      <th>46</th>\n",
              "      <td>Global scientists double down on SARS-CoV-2 variants research at WHO-hosted forum</td>\n",
              "      <td>https://www.who.int/news/item/12-01-2021-global-scientists-double-down-on-sars-cov-2-variants-research-at-who-hosted-forum</td>\n",
              "    </tr>\n",
              "    <tr>\n",
              "      <th>47</th>\n",
              "      <td>WHO urges governments to promote healthy food in public facilities</td>\n",
              "      <td>https://www.who.int/news/item/12-01-2021-who-urges-governments-to-promote-healthy-food-in-public-facilities</td>\n",
              "    </tr>\n",
              "    <tr>\n",
              "      <th>48</th>\n",
              "      <td>WHO issues its first emergency use validation for a COVID-19 vaccine and emphasizes need for equitable global access</td>\n",
              "      <td>https://www.who.int/news/item/31-12-2020-who-issues-its-first-emergency-use-validation-for-a-covid-19-vaccine-and-emphasizes-need-for-equitable-gl...</td>\n",
              "    </tr>\n",
              "    <tr>\n",
              "      <th>49</th>\n",
              "      <td>WHO guideline on ensuring balanced national policies for access and safe use of controlled medicines</td>\n",
              "      <td>https://www.who.int/news/item/22-12-2020-who-guideline-on-ensuring-balanced-national-policies-for-access-and-safe-use-of-controlled-medicines</td>\n",
              "    </tr>\n",
              "    <tr>\n",
              "      <th>50</th>\n",
              "      <td>COVAX Announces additional deals to access promising COVID-19 vaccine candidates; plans global rollout starting Q1 2021</td>\n",
              "      <td>https://www.who.int/news/item/18-12-2020-covax-announces-additional-deals-to-access-promising-covid-19-vaccine-candidates-plans-global-rollout-sta...</td>\n",
              "    </tr>\n",
              "  </tbody>\n",
              "</table>\n",
              "</div>"
            ],
            "text/plain": [
              "                                                                                                                                            article_title                                                                                                                                            article_url\n",
              "0                                                                World Malaria Day: WHO launches effort to stamp out malaria in 25 more countries by 2025                       https://www.who.int/news/item/21-04-2021-world-malaria-day-who-launches-effort-to-stamp-out-malaria-in-25-more-countries-by-2025\n",
              "1                                                                     Driving Global Health: Romain Grosjean announces his support for the WHO Foundation                            https://www.who.int/news/item/20-04-2021-driving-global-health-romain-grosjean-announces-his-support-for-the-who-foundation\n",
              "2                                             Greta Thunberg, climate and environment activist, joins World Health Organization’s call for vaccine equity     https://www.who.int/news/item/19-04-2021-greta-thunberg-climate-and-environment-activist-joins-world-health-organization-s-call-for-vaccine-equity\n",
              "3                                                   WHO-backed global youth mobilization funds young people's ideas to combat impact of COVID-19 pandemic         https://www.who.int/news/item/19-04-2021-who-backed-global-youth-mobilization-funds-young-people-s-ideas-to-combat-impact-of-covid-19-pandemic\n",
              "4                                                                                            New WHO Global Compact to speed up action to tackle diabetes                                                  https://www.who.int/news/item/14-04-2021-new-who-global-compact-to-speed-up-action-to-tackle-diabetes\n",
              "5   WHO and the International Organisation of the Francophonie (IOF) sign Memorandum of Understanding to strengthen access to health in Francophone co...  https://www.who.int/news/item/14-04-2021-who-and-the-international-organisation-of-the-francophonie-(iof)-sign-memorandum-of-understanding-to-stre...\n",
              "6                                                                            COVAX reaches over 100 economies, 42 days after first international delivery                                   https://www.who.int/news/item/08-04-2021-covax-reaches-over-100-economies-42-days-after-first-international-delivery\n",
              "7               Alisson Becker and WHO Foundation launch campaign to raise resources and support treatment for COVID-19 patients starting in the Americas  https://www.who.int/news/item/07-04-2021-alisson-becker-and-who-foundation-launch-campaign-to-raise-resources-and-support-treatment-for-covid-19-p...\n",
              "8                                                                                    WHO urges countries to build a fairer, healthier world post-COVID-19                                           https://www.who.int/news/item/06-04-2021-who-urges-countries-to-build-a-fairer-healthier-world-post-covid-19\n",
              "9                                                                                                 Carl Bildt, former Prime Minister of Sweden, appointed                                                                                                                                                     NaN\n",
              "10                                                                                                              WHO Special Envoy for the ACT-Accelerator                https://www.who.int/news/item/31-03-2021-carl-bildt-former-prime-minister-of-sweden-appointed-who-special-envoy-for-the-act-accelerator\n",
              "11                                          WHO calls for further studies, data on origin of SARS-CoV-2 virus, reiterates that all hypotheses remain open   https://www.who.int/news/item/30-03-2021-who-calls-for-further-studies-data-on-origin-of-sars-cov-2-virus-reiterates-that-all-hypotheses-remain-open\n",
              "12                                                                                  Global leaders unite in urgent call for international pandemic treaty                                         https://www.who.int/news/item/30-03-2021-global-leaders-unite-in-urgent-call-for-international-pandemic-treaty\n",
              "13                                                                            COVID-19 highlights urgent need to reboot global effort to end tuberculosis                                   https://www.who.int/news/item/22-03-2021-covid-19-highlights-urgent-need-to-reboot-global-effort-to-end-tuberculosis\n",
              "14                                                                  WHO announces 2nd edition Health for All Film Festival shortlist and jury composition                         https://www.who.int/news/item/22-03-2021-who-announces-2nd-edition-health-for-all-film-festival-shortlist-and-jury-composition\n",
              "15                                                                                                                       Ageism is a global challenge: UN                                                                               https://www.who.int/news/item/18-03-2021-ageism-is-a-global-challenge-un\n",
              "16                                                             New research highlights risks of separating newborns from mothers during COVID-19 pandemic                    https://www.who.int/news/item/16-03-2021-new-research-highlights-risks-of-separating-newborns-from-mothers-during-covid-19-pandemic\n",
              "17                                                            COVID-19 Solidarity Response Fund marks first anniversary and appeals for continued support                   https://www.who.int/news/item/15-03-2021-covid-19-solidarity-response-fund-marks-first-anniversary-and-appeals-for-continued-support\n",
              "18                               ACT-Accelerator releases prioritised strategy and budget for 2021 to change the course of the evolving COVID-19 pandemic  https://www.who.int/news/item/12-03-2021-act-accelerator-releases-prioritised-strategy-and-budget-for-2021-to-change-the-course-of-the-evolving-co...\n",
              "19                                                                WHO adds Janssen vaccine to list of safe and effective emergency tools against COVID-19                       https://www.who.int/news/item/12-03-2021-who-adds-janssen-vaccine-to-list-of-safe-and-effective-emergency-tools-against-covid-19\n",
              "20                                                                                     Devastatingly pervasive: 1 in 3 women globally experience violence                                             https://www.who.int/news/item/09-03-2021-devastatingly-pervasive-1-in-3-women-globally-experience-violence\n",
              "21                                                                   New WHO/IAEA publication provides guidance on radiotherapy equipment to fight cancer                          https://www.who.int/news/item/05-03-2021-new-who-iaea-publication-provides-guidance-on-radiotherapy-equipment-to-fight-cancer\n",
              "22                                                                                       Rotavirus vaccines made available for use in humanitarian crises                                              https://www.who.int/news/item/04-03-2021-rotavirus-vaccines-made-available-for-use-in-humanitarian-crises\n",
              "23                                         Fiji Launches National Guidelines for Climate Resilient and Environmentally Sustainable Health Care Facilities  https://www.who.int/news/item/03-03-2021-fiji-launches-national-guidelines-for-climate-resilient-and-environmentally-sustainable-health-care-facil...\n",
              "24                                                                                          WHO: 1 in 4 people projected to have hearing problems by 2050                                                  https://www.who.int/news/item/02-03-2021-who-1-in-4-people-projected-to-have-hearing-problems-by-2050\n",
              "25                                                                                              First COVID-19 COVAX vaccine doses administered in Africa                                                     https://www.who.int/news/item/01-03-2021-first-covid-19-covax-vaccine-doses-administered-in-africa\n",
              "26                    COVID-19 oxygen emergency impacting more than half a million people in low- and middle-income countries every day, as demand surges  https://www.who.int/news/item/25-02-2021-covid-19-oxygen-emergency-impacting-more-than-half-a-million-people-in-low--and-middle-income-countries-e...\n",
              "27                                                                                                           El Salvador certified as malaria-free by WHO                                                                  https://www.who.int/news/item/25-02-2021-el-salvador-certified-as-malaria-free-by-who\n",
              "28                                                COVID-19 vaccine doses shipped by the COVAX Facility head to Ghana, marking beginning of global rollout        https://www.who.int/news/item/24-02-2021-covid-19-vaccine-doses-shipped-by-the-covax-facility-head-to-ghana-marking-beginning-of-global-rollout\n",
              "29                                                                                 No-fault compensation programme for COVID-19 vaccines is a world first                                        https://www.who.int/news/item/22-02-2021-no-fault-compensation-programme-for-covid-19-vaccines-is-a-world-first\n",
              "30                                         G7 leaders commit US$ 4.3 billion to finance global equitable access to tests, treatments and vaccines in 2021  https://www.who.int/news/item/19-02-2021-g7-leaders-commit-us-4.3-billion-to-finance-global-equitable-access-to-tests-treatments-and-vaccines-in-2021\n",
              "31                                                                                                                      World Waking Up To Vaccine Equity                                                                             https://www.who.int/news/item/19-02-2021-world-waking-up-to-vaccine-equity\n",
              "32                                                                   COVAX Statement on WHO Emergency Use Listing for AstraZeneca/Oxford COVID-19 Vaccine                          https://www.who.int/news/item/16-02-2021-covax-statement-on-who-emergency-use-listing-for-astrazeneca-oxford-covid-19-vaccine\n",
              "33                                                                        WHO lists two additional COVID-19 vaccines for emergency use and COVAX roll-out                               https://www.who.int/news/item/15-02-2021-who-lists-two-additional-covid-19-vaccines-for-emergency-use-and-covax-roll-out\n",
              "34                                                                          Acute malnutrition threatens half of children under five in Yemen in 2021: UN                                  https://www.who.int/news/item/12-02-2021-acute-malnutrition-threatens-half-of-children-under-five-in-yemen-in-2021-un\n",
              "35                                                                                  In the COVID-19 vaccine race, we either win together or lose together                                          https://www.who.int/news/item/10-02-2021-in-the-covid-19-vaccine-race-we-either-win-together-or-lose-together\n",
              "36                                                               WHO receives nearly 1 200 entries for the second edition of Health for All Film Festival                      https://www.who.int/news/item/04-02-2021-who-receives-nearly-1-200-entries-for-the-second-edition-of-health-for-all-film-festival\n",
              "37                   Michael R. Bloomberg and Dr Tedros Adhanom Ghebreyesus call for global focus on noncommunicable diseases to save lives from COVID-19  https://www.who.int/news/item/03-02-2021-michael-r.-bloomberg-and-dr-tedros-adhanom-ghebreyesus-call-for-global-focus-on-noncommunicable-diseases-...\n",
              "38                             WHO SCORE Global Report highlights urgent need for better data to strengthen pandemic response and improve health outcomes  https://www.who.int/news/item/01-02-2021-who-score-global-report-highlights-urgent-need-for-better-data-to-strengthen-pandemic-response-and-improv...\n",
              "39                                                                                                            FIFA and WHO #ACTogether to tackle COVID-19                                                                    https://www.who.int/news/item/01-02-2021-fifa-and-who-actogether-to-tackle-covid-19\n",
              "40                                                  WHO publishes new Essential Diagnostics List and urges countries to prioritize investments in testing         https://www.who.int/news/item/29-01-2021-who-publishes-new-essential-diagnostics-list-and-urges-countries-to-prioritize-investments-in-testing\n",
              "41                                                                          WHO issues new 10-year plan to end suffering from neglected tropical diseases                                 https://www.who.int/news/item/28-01-2021-who-issues-new-10-year-plan-to-end-suffering-from-neglected-tropical-diseases\n",
              "42                                                                                              COVAX Announces new agreement, plans for first deliveries                                                      https://www.who.int/news/item/22-01-2021-covax-announces-new-agreement-plans-for-first-deliveries\n",
              "43                                                                              Scientists tackle vaccine safety, efficacy and access at global R&D forum                                      https://www.who.int/news/item/16-01-2021-scientists-tackle-vaccine-safety-efficacy-and-access-at-global-r-d-forum\n",
              "44                                                                                          Emergency Committee on COVID-19 advises on variants, vaccines                                                  https://www.who.int/news/item/15-01-2021-emergency-committee-on-covid-19-advises-on-variants-vaccines\n",
              "45                                                               UNICEF, WHO, IFRC and MSF announce the establishment of a global Ebola vaccine stockpile                        https://www.who.int/news/item/12-01-2021-unicef-who-ifrc-and-msf-announce-the-establishment-of-a-global-ebola-vaccine-stockpile\n",
              "46                                                                      Global scientists double down on SARS-CoV-2 variants research at WHO-hosted forum                             https://www.who.int/news/item/12-01-2021-global-scientists-double-down-on-sars-cov-2-variants-research-at-who-hosted-forum\n",
              "47                                                                                     WHO urges governments to promote healthy food in public facilities                                            https://www.who.int/news/item/12-01-2021-who-urges-governments-to-promote-healthy-food-in-public-facilities\n",
              "48                                   WHO issues its first emergency use validation for a COVID-19 vaccine and emphasizes need for equitable global access  https://www.who.int/news/item/31-12-2020-who-issues-its-first-emergency-use-validation-for-a-covid-19-vaccine-and-emphasizes-need-for-equitable-gl...\n",
              "49                                                   WHO guideline on ensuring balanced national policies for access and safe use of controlled medicines          https://www.who.int/news/item/22-12-2020-who-guideline-on-ensuring-balanced-national-policies-for-access-and-safe-use-of-controlled-medicines\n",
              "50                                COVAX Announces additional deals to access promising COVID-19 vaccine candidates; plans global rollout starting Q1 2021  https://www.who.int/news/item/18-12-2020-covax-announces-additional-deals-to-access-promising-covid-19-vaccine-candidates-plans-global-rollout-sta..."
            ]
          },
          "metadata": {
            "tags": []
          },
          "execution_count": 156
        }
      ]
    },
    {
      "cell_type": "code",
      "metadata": {
        "id": "JnneI0O4eaCt",
        "colab": {
          "base_uri": "https://localhost:8080/"
        },
        "outputId": "08264172-18cd-4fbd-c5fd-6e5b2f864dda"
      },
      "source": [
        "# Check your answer here. (Do not make any change to this cell. Just run this cell.)\n",
        "len(df_who)     # Expected output: 50 + additional 1!!"
      ],
      "execution_count": null,
      "outputs": [
        {
          "output_type": "execute_result",
          "data": {
            "text/plain": [
              "51"
            ]
          },
          "metadata": {
            "tags": []
          },
          "execution_count": 157
        }
      ]
    }
  ]
}
